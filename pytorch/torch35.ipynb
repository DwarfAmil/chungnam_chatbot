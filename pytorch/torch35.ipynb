{
 "cells": [
  {
   "cell_type": "code",
   "execution_count": null,
   "id": "initial_id",
   "metadata": {
    "collapsed": true
   },
   "outputs": [],
   "source": [
    "import pandas as pd\n",
    "from sklearn import preprocessing\n",
    "\n",
    "class2 = pd.read_csv(\"../pytorch/data/class2.csv\")\n",
    "label_encoder = preprocessing.LabelEncoder()\n",
    "onehot_encoder = preprocessing.OneHotEncoder()\n",
    "\n",
    "train_x = label_encoder.fit_transform(class2)\n",
    "print(train_x)"
   ]
  },
  {
   "cell_type": "code",
   "execution_count": null,
   "outputs": [],
   "source": [
    "from sklearn.feature_extraction.text import CountVectorizer\n",
    "\n",
    "corpus = [\n",
    "    \"This is the first document.\",\n",
    "    \"This is the second second document.\",\n",
    "    \"And the third one.\",\n",
    "    \"Is this the first document?\",\n",
    "]\n",
    "vect = CountVectorizer()\n",
    "vect.fit(corpus)\n",
    "vect.vocabulary_"
   ],
   "metadata": {
    "collapsed": false
   },
   "id": "872c0b5aa0da8fc8"
  },
  {
   "cell_type": "code",
   "execution_count": null,
   "outputs": [],
   "source": [
    "vect.transform([\"This is the first document.\"]).toarray()"
   ],
   "metadata": {
    "collapsed": false
   },
   "id": "1162148efb8821b6"
  },
  {
   "cell_type": "code",
   "execution_count": null,
   "outputs": [],
   "source": [
    "from sklearn.feature_extraction.text import TfidfVectorizer\n",
    "\n",
    "doc = [\"I like machine learning\", \"I love deep learning\", \"I run everyday\"]\n",
    "tfidf_vectorize = TfidfVectorizer(min_df=1)\n",
    "tfidf_matrix = tfidf_vectorize.fit_transform(doc)\n",
    "doc_distance = tfidf_matrix * tfidf_matrix.T\n",
    "print(\n",
    "    \"유사도를 위한\",\n",
    "    str(doc_distance.get_shape()[0]),\n",
    "    \"x\",\n",
    "    str(doc_distance.get_shape()[1]),\n",
    "    \"행렬을 만들었습니다.\",\n",
    ")\n",
    "print(doc_distance.toarray())"
   ],
   "metadata": {
    "collapsed": false
   },
   "id": "590be8f6950b50ba"
  },
  {
   "cell_type": "code",
   "execution_count": null,
   "outputs": [],
   "source": [
    "from nltk.tokenize import word_tokenize, sent_tokenize\n",
    "import warnings\n",
    "\n",
    "warnings.filterwarnings(action=\"ignore\")\n",
    "import gensim\n",
    "from gensim.models import Word2Vec\n",
    "\n",
    "sample = open(\"data2/peter.txt\", \"r\", encoding=\"utf-8\")\n",
    "s = sample.read()\n",
    "\n",
    "f = s.replace(\"\\n\", \" \")\n",
    "data = []\n",
    "\n",
    "for i in sent_tokenize(f):\n",
    "    data = []\n",
    "    for j in word_tokenize(i):\n",
    "        data.append(j.lower())\n",
    "\n",
    "data"
   ],
   "metadata": {
    "collapsed": false
   },
   "id": "e880a66d30a140e4"
  },
  {
   "cell_type": "code",
   "execution_count": null,
   "outputs": [],
   "source": [
    "model1 = gensim.models.Word2Vec(data, min_count=1, vector_size=100, window=5, sg=0)\n",
    "print(\"Cosine similarity between 'peter' \" + \"and 'rabbit' - CBOW : \", end=\"\")\n",
    "print(model1.wv.similarity(\"peter\", \"rabbit\"))\n",
    "print(model1.wv.similarity(\"peter\", \"hook\"))"
   ],
   "metadata": {
    "collapsed": false
   },
   "id": "7d51238907cbff5f"
  },
  {
   "cell_type": "code",
   "execution_count": null,
   "outputs": [],
   "source": [
    "model2 = gensim.models.Word2Vec(data, min_count=1, vector_size=100, window=5, sg=1)\n",
    "print(model2.wv.similarity(\"peter\", \"wendy\"))"
   ],
   "metadata": {
    "collapsed": false
   },
   "id": "55c5cc2641c916ae"
  },
  {
   "cell_type": "code",
   "execution_count": null,
   "outputs": [],
   "source": [
    "from gensim.test.utils import common_texts\n",
    "from gensim.models import FastText\n",
    "\n",
    "model = FastText(\"data/peter.txt\", size=4, window=3, min_count=1, epochs=10)\n",
    "\n",
    "sim_score = model.wv.similarity(\"peter\", \"rabbit\")\n",
    "print(sim_score)\n",
    "\n",
    "sim_score = model.wv.similarity(\"peter\", \"hook\")\n",
    "print(sim_score)"
   ],
   "metadata": {
    "collapsed": false
   },
   "id": "501e305c4abeeef3"
  },
  {
   "cell_type": "code",
   "execution_count": null,
   "outputs": [],
   "source": [
    "from __future__ import print_function\n",
    "from gensim.models import KeyedVectors\n",
    "\n",
    "model_kr = KeyedVectors.load_word2vec_format(\"data/wiki.ko.vec\")"
   ],
   "metadata": {
    "collapsed": false
   },
   "id": "fc15e2c0b11b9b0c"
  },
  {
   "cell_type": "code",
   "execution_count": null,
   "outputs": [],
   "source": [
    "find_similar_to = \"노력\"\n",
    "\n",
    "for smilar_word in model_kr.similar_by_word(find_similar_to):\n",
    "    print(\"Word : \", smilar_word[0], \"\\nSimilarity : \", smilar_word[1])\n",
    "\n",
    "similarities = model_kr.most_similar(positive=[\"동물\", \"육식동물\"], negative=[\"사람\"])\n",
    "print(similarities)"
   ],
   "metadata": {
    "collapsed": false
   },
   "id": "fe58ae9c734d9bd2"
  }
 ],
 "metadata": {
  "kernelspec": {
   "display_name": "Python 3",
   "language": "python",
   "name": "python3"
  },
  "language_info": {
   "codemirror_mode": {
    "name": "ipython",
    "version": 2
   },
   "file_extension": ".py",
   "mimetype": "text/x-python",
   "name": "python",
   "nbconvert_exporter": "python",
   "pygments_lexer": "ipython2",
   "version": "2.7.6"
  }
 },
 "nbformat": 4,
 "nbformat_minor": 5
}
