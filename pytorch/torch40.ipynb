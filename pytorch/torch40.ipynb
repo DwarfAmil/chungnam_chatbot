{
 "cells": [
  {
   "cell_type": "code",
   "execution_count": 13,
   "id": "initial_id",
   "metadata": {
    "collapsed": true,
    "ExecuteTime": {
     "end_time": "2023-10-04T00:41:09.759487Z",
     "start_time": "2023-10-04T00:41:09.707993200Z"
    }
   },
   "outputs": [],
   "source": [
    "import pandas as pd\n",
    "from sklearn.model_selection import train_test_split\n",
    "import torch\n",
    "from kmeans_pytorch import kmeans, kmeans_predict"
   ]
  },
  {
   "cell_type": "code",
   "execution_count": 14,
   "outputs": [
    {
     "name": "stdout",
     "output_type": "stream",
     "text": [
      "<class 'pandas.core.frame.DataFrame'>\n",
      "RangeIndex: 150 entries, 0 to 149\n",
      "Data columns (total 6 columns):\n",
      " #   Column         Non-Null Count  Dtype  \n",
      "---  ------         --------------  -----  \n",
      " 0   Id             150 non-null    int64  \n",
      " 1   SepalLengthCm  150 non-null    float64\n",
      " 2   SepalWidthCm   150 non-null    float64\n",
      " 3   PetalLengthCm  150 non-null    float64\n",
      " 4   PetalWidthCm   150 non-null    float64\n",
      " 5   Species        150 non-null    object \n",
      "dtypes: float64(4), int64(1), object(1)\n",
      "memory usage: 7.2+ KB\n",
      "----------------------------------------\n",
      "      Id  SepalLengthCm  SepalWidthCm  PetalLengthCm  PetalWidthCm  \\\n",
      "0      1            5.1           3.5            1.4           0.2   \n",
      "1      2            4.9           3.0            1.4           0.2   \n",
      "2      3            4.7           3.2            1.3           0.2   \n",
      "3      4            4.6           3.1            1.5           0.2   \n",
      "4      5            5.0           3.6            1.4           0.2   \n",
      "..   ...            ...           ...            ...           ...   \n",
      "145  146            6.7           3.0            5.2           2.3   \n",
      "146  147            6.3           2.5            5.0           1.9   \n",
      "147  148            6.5           3.0            5.2           2.0   \n",
      "148  149            6.2           3.4            5.4           2.3   \n",
      "149  150            5.9           3.0            5.1           1.8   \n",
      "\n",
      "            Species  \n",
      "0       Iris-setosa  \n",
      "1       Iris-setosa  \n",
      "2       Iris-setosa  \n",
      "3       Iris-setosa  \n",
      "4       Iris-setosa  \n",
      "..              ...  \n",
      "145  Iris-virginica  \n",
      "146  Iris-virginica  \n",
      "147  Iris-virginica  \n",
      "148  Iris-virginica  \n",
      "149  Iris-virginica  \n",
      "\n",
      "[150 rows x 6 columns]\n"
     ]
    }
   ],
   "source": [
    "df = pd.read_csv(\"../pytorch/data/iris.csv\")\n",
    "df.info()\n",
    "print(\"----------------------------------------\")\n",
    "print(df)"
   ],
   "metadata": {
    "collapsed": false,
    "ExecuteTime": {
     "end_time": "2023-10-04T00:41:09.760487200Z",
     "start_time": "2023-10-04T00:41:09.713518100Z"
    }
   },
   "id": "fc5c136a3f2283df"
  },
  {
   "cell_type": "code",
   "execution_count": 15,
   "outputs": [
    {
     "data": {
      "text/plain": "      Id  SepalLengthCm  SepalWidthCm  PetalLengthCm  PetalWidthCm  \\\n0      1            5.1           3.5            1.4           0.2   \n1      2            4.9           3.0            1.4           0.2   \n2      3            4.7           3.2            1.3           0.2   \n3      4            4.6           3.1            1.5           0.2   \n4      5            5.0           3.6            1.4           0.2   \n..   ...            ...           ...            ...           ...   \n145  146            6.7           3.0            5.2           2.3   \n146  147            6.3           2.5            5.0           1.9   \n147  148            6.5           3.0            5.2           2.0   \n148  149            6.2           3.4            5.4           2.3   \n149  150            5.9           3.0            5.1           1.8   \n\n     Species_Iris-setosa  Species_Iris-versicolor  Species_Iris-virginica  \n0                   True                    False                   False  \n1                   True                    False                   False  \n2                   True                    False                   False  \n3                   True                    False                   False  \n4                   True                    False                   False  \n..                   ...                      ...                     ...  \n145                False                    False                    True  \n146                False                    False                    True  \n147                False                    False                    True  \n148                False                    False                    True  \n149                False                    False                    True  \n\n[150 rows x 8 columns]",
      "text/html": "<div>\n<style scoped>\n    .dataframe tbody tr th:only-of-type {\n        vertical-align: middle;\n    }\n\n    .dataframe tbody tr th {\n        vertical-align: top;\n    }\n\n    .dataframe thead th {\n        text-align: right;\n    }\n</style>\n<table border=\"1\" class=\"dataframe\">\n  <thead>\n    <tr style=\"text-align: right;\">\n      <th></th>\n      <th>Id</th>\n      <th>SepalLengthCm</th>\n      <th>SepalWidthCm</th>\n      <th>PetalLengthCm</th>\n      <th>PetalWidthCm</th>\n      <th>Species_Iris-setosa</th>\n      <th>Species_Iris-versicolor</th>\n      <th>Species_Iris-virginica</th>\n    </tr>\n  </thead>\n  <tbody>\n    <tr>\n      <th>0</th>\n      <td>1</td>\n      <td>5.1</td>\n      <td>3.5</td>\n      <td>1.4</td>\n      <td>0.2</td>\n      <td>True</td>\n      <td>False</td>\n      <td>False</td>\n    </tr>\n    <tr>\n      <th>1</th>\n      <td>2</td>\n      <td>4.9</td>\n      <td>3.0</td>\n      <td>1.4</td>\n      <td>0.2</td>\n      <td>True</td>\n      <td>False</td>\n      <td>False</td>\n    </tr>\n    <tr>\n      <th>2</th>\n      <td>3</td>\n      <td>4.7</td>\n      <td>3.2</td>\n      <td>1.3</td>\n      <td>0.2</td>\n      <td>True</td>\n      <td>False</td>\n      <td>False</td>\n    </tr>\n    <tr>\n      <th>3</th>\n      <td>4</td>\n      <td>4.6</td>\n      <td>3.1</td>\n      <td>1.5</td>\n      <td>0.2</td>\n      <td>True</td>\n      <td>False</td>\n      <td>False</td>\n    </tr>\n    <tr>\n      <th>4</th>\n      <td>5</td>\n      <td>5.0</td>\n      <td>3.6</td>\n      <td>1.4</td>\n      <td>0.2</td>\n      <td>True</td>\n      <td>False</td>\n      <td>False</td>\n    </tr>\n    <tr>\n      <th>...</th>\n      <td>...</td>\n      <td>...</td>\n      <td>...</td>\n      <td>...</td>\n      <td>...</td>\n      <td>...</td>\n      <td>...</td>\n      <td>...</td>\n    </tr>\n    <tr>\n      <th>145</th>\n      <td>146</td>\n      <td>6.7</td>\n      <td>3.0</td>\n      <td>5.2</td>\n      <td>2.3</td>\n      <td>False</td>\n      <td>False</td>\n      <td>True</td>\n    </tr>\n    <tr>\n      <th>146</th>\n      <td>147</td>\n      <td>6.3</td>\n      <td>2.5</td>\n      <td>5.0</td>\n      <td>1.9</td>\n      <td>False</td>\n      <td>False</td>\n      <td>True</td>\n    </tr>\n    <tr>\n      <th>147</th>\n      <td>148</td>\n      <td>6.5</td>\n      <td>3.0</td>\n      <td>5.2</td>\n      <td>2.0</td>\n      <td>False</td>\n      <td>False</td>\n      <td>True</td>\n    </tr>\n    <tr>\n      <th>148</th>\n      <td>149</td>\n      <td>6.2</td>\n      <td>3.4</td>\n      <td>5.4</td>\n      <td>2.3</td>\n      <td>False</td>\n      <td>False</td>\n      <td>True</td>\n    </tr>\n    <tr>\n      <th>149</th>\n      <td>150</td>\n      <td>5.9</td>\n      <td>3.0</td>\n      <td>5.1</td>\n      <td>1.8</td>\n      <td>False</td>\n      <td>False</td>\n      <td>True</td>\n    </tr>\n  </tbody>\n</table>\n<p>150 rows × 8 columns</p>\n</div>"
     },
     "execution_count": 15,
     "metadata": {},
     "output_type": "execute_result"
    }
   ],
   "source": [
    "data = pd.get_dummies(df, columns=[\"Species\"])\n",
    "data"
   ],
   "metadata": {
    "collapsed": false,
    "ExecuteTime": {
     "end_time": "2023-10-04T00:41:09.799467400Z",
     "start_time": "2023-10-04T00:41:09.728763200Z"
    }
   },
   "id": "a852a2c5475ab572"
  },
  {
   "cell_type": "code",
   "execution_count": 16,
   "outputs": [],
   "source": [
    "x, y = train_test_split(data, test_size=0.2, random_state=123)"
   ],
   "metadata": {
    "collapsed": false,
    "ExecuteTime": {
     "end_time": "2023-10-04T00:41:09.799467400Z",
     "start_time": "2023-10-04T00:41:09.744761900Z"
    }
   },
   "id": "8cf64f1bb79b86ae"
  },
  {
   "cell_type": "code",
   "execution_count": 17,
   "outputs": [],
   "source": [
    "if torch.cuda.is_available():\n",
    "    device = torch.device(\"cuda:0\")\n",
    "else:\n",
    "    device = torch.device(\"cpu\")"
   ],
   "metadata": {
    "collapsed": false,
    "ExecuteTime": {
     "end_time": "2023-10-04T00:41:09.800964600Z",
     "start_time": "2023-10-04T00:41:09.753450500Z"
    }
   },
   "id": "8aff423a5e52fadf"
  },
  {
   "cell_type": "code",
   "execution_count": 18,
   "outputs": [],
   "source": [
    "from sklearn.preprocessing import StandardScaler\n",
    "\n",
    "scaler = StandardScaler()\n",
    "x_scaled = scaler.fit(data).transform(x)\n",
    "y_scaled = scaler.fit(y).transform(y)"
   ],
   "metadata": {
    "collapsed": false,
    "ExecuteTime": {
     "end_time": "2023-10-04T00:41:09.803311700Z",
     "start_time": "2023-10-04T00:41:09.757967600Z"
    }
   },
   "id": "982f43b9c462b129"
  },
  {
   "cell_type": "code",
   "execution_count": 19,
   "outputs": [],
   "source": [
    "x = torch.from_numpy(x_scaled)\n",
    "y = torch.from_numpy(y_scaled)"
   ],
   "metadata": {
    "collapsed": false,
    "ExecuteTime": {
     "end_time": "2023-10-04T00:41:09.803311700Z",
     "start_time": "2023-10-04T00:41:09.775042300Z"
    }
   },
   "id": "a6cda572b539edc"
  },
  {
   "cell_type": "code",
   "execution_count": 20,
   "outputs": [
    {
     "name": "stdout",
     "output_type": "stream",
     "text": [
      "torch.Size([120, 8])\n",
      "torch.Size([30, 8])\n",
      "tensor([[ 1.2817e+00,  1.8862e+00, -5.8776e-01,  1.3314e+00,  9.2206e-01,\n",
      "         -7.0711e-01, -7.0711e-01,  1.4142e+00],\n",
      "        [ 1.0277e+00,  1.8983e-01, -1.9762e+00,  7.0589e-01,  3.9617e-01,\n",
      "         -7.0711e-01, -7.0711e-01,  1.4142e+00],\n",
      "        [-1.0508e+00, -1.3854e+00,  3.3785e-01, -1.2275e+00, -1.3130e+00,\n",
      "          1.4142e+00, -7.0711e-01, -7.0711e-01],\n",
      "        [-1.7205e+00, -9.0068e-01,  1.0321e+00, -1.3413e+00, -1.3130e+00,\n",
      "          1.4142e+00, -7.0711e-01, -7.0711e-01],\n",
      "        [-2.8868e-01,  1.8983e-01, -1.9762e+00,  1.3724e-01, -2.6119e-01,\n",
      "         -7.0711e-01,  1.4142e+00, -7.0711e-01],\n",
      "        [ 4.2725e-01, -1.0218e+00, -1.7448e+00, -2.6082e-01, -2.6119e-01,\n",
      "         -7.0711e-01,  1.4142e+00, -7.0711e-01],\n",
      "        [ 1.3048e+00,  2.4920e+00,  1.7263e+00,  1.5020e+00,  1.0535e+00,\n",
      "         -7.0711e-01, -7.0711e-01,  1.4142e+00],\n",
      "        [-1.6051e+00, -5.3718e-01,  1.9577e+00, -1.1707e+00, -1.0500e+00,\n",
      "          1.4142e+00, -7.0711e-01, -7.0711e-01],\n",
      "        [-1.3510e+00, -5.3718e-01,  1.9577e+00, -1.3981e+00, -1.0500e+00,\n",
      "          1.4142e+00, -7.0711e-01, -7.0711e-01],\n",
      "        [ 1.7321e-01, -5.2506e-02, -8.1917e-01,  8.0370e-02,  1.7530e-03,\n",
      "         -7.0711e-01,  1.4142e+00, -7.0711e-01],\n",
      "        [-3.3487e-01, -1.0218e+00, -2.4390e+00, -1.4709e-01, -2.6119e-01,\n",
      "         -7.0711e-01,  1.4142e+00, -7.0711e-01],\n",
      "        [-9.1223e-01, -1.0218e+00,  3.3785e-01, -1.4550e+00, -1.3130e+00,\n",
      "          1.4142e+00, -7.0711e-01, -7.0711e-01],\n",
      "        [ 1.5820e+00,  1.1592e+00,  3.3785e-01,  1.2177e+00,  1.4480e+00,\n",
      "         -7.0711e-01, -7.0711e-01,  1.4142e+00],\n",
      "        [ 1.6282e+00,  1.0380e+00, -1.2496e-01,  8.1962e-01,  1.4480e+00,\n",
      "         -7.0711e-01, -7.0711e-01,  1.4142e+00],\n",
      "        [ 1.5589e+00, -5.2506e-02, -8.1917e-01,  7.6276e-01,  9.2206e-01,\n",
      "         -7.0711e-01, -7.0711e-01,  1.4142e+00],\n",
      "        [ 9.1223e-01, -5.2506e-02, -5.8776e-01,  7.6276e-01,  1.5794e+00,\n",
      "         -7.0711e-01, -7.0711e-01,  1.4142e+00],\n",
      "        [ 1.4203e+00,  5.5333e-01,  8.0065e-01,  1.0471e+00,  1.5794e+00,\n",
      "         -7.0711e-01, -7.0711e-01,  1.4142e+00],\n",
      "        [-4.9653e-01, -4.1601e-01, -1.7448e+00,  1.3724e-01,  1.3323e-01,\n",
      "         -7.0711e-01,  1.4142e+00, -7.0711e-01],\n",
      "        [-1.2817e+00, -9.0068e-01,  1.7263e+00, -1.2844e+00, -1.1815e+00,\n",
      "          1.4142e+00, -7.0711e-01, -7.0711e-01],\n",
      "        [-8.4295e-01, -1.7489e+00, -1.2496e-01, -1.3981e+00, -1.3130e+00,\n",
      "          1.4142e+00, -7.0711e-01, -7.0711e-01],\n",
      "        [ 8.1986e-01,  7.9567e-01,  3.3785e-01,  7.6276e-01,  1.0535e+00,\n",
      "         -7.0711e-01, -7.0711e-01,  1.4142e+00],\n",
      "        [-1.1894e+00, -9.0068e-01,  5.6925e-01, -1.1707e+00, -9.1856e-01,\n",
      "          1.4142e+00, -7.0711e-01, -7.0711e-01],\n",
      "        [-1.5127e+00, -1.1430e+00,  1.0645e-01, -1.2844e+00, -1.4444e+00,\n",
      "          1.4142e+00, -7.0711e-01, -7.0711e-01],\n",
      "        [ 2.6559e-01,  1.0380e+00,  1.0645e-01,  5.3530e-01,  3.9617e-01,\n",
      "         -7.0711e-01,  1.4142e+00, -7.0711e-01],\n",
      "        [ 3.8106e-01,  3.1100e-01, -1.2496e-01,  4.7843e-01,  2.6470e-01,\n",
      "         -7.0711e-01,  1.4142e+00, -7.0711e-01],\n",
      "        [ 3.3487e-01, -4.1601e-01, -1.2820e+00,  1.3724e-01,  1.3323e-01,\n",
      "         -7.0711e-01,  1.4142e+00, -7.0711e-01],\n",
      "        [ 1.0393e-01, -1.7367e-01, -1.0506e+00, -1.4709e-01, -2.6119e-01,\n",
      "         -7.0711e-01,  1.4142e+00, -7.0711e-01],\n",
      "        [ 6.1200e-01, -5.2506e-02, -8.1917e-01,  7.6276e-01,  9.2206e-01,\n",
      "         -7.0711e-01, -7.0711e-01,  1.4142e+00],\n",
      "        [-2.1940e-01,  1.0380e+00,  1.0645e-01,  3.6470e-01,  2.6470e-01,\n",
      "         -7.0711e-01,  1.4142e+00, -7.0711e-01],\n",
      "        [ 9.3533e-01,  6.7450e-01,  3.3785e-01,  8.7649e-01,  1.4480e+00,\n",
      "         -7.0711e-01, -7.0711e-01,  1.4142e+00],\n",
      "        [-7.7367e-01, -1.6277e+00, -1.7448e+00, -1.3981e+00, -1.1815e+00,\n",
      "          1.4142e+00, -7.0711e-01, -7.0711e-01],\n",
      "        [ 1.1432e+00,  1.0380e+00,  5.6925e-01,  1.1040e+00,  1.1850e+00,\n",
      "         -7.0711e-01, -7.0711e-01,  1.4142e+00],\n",
      "        [ 4.7344e-01, -1.7367e-01, -1.2496e-01,  2.5097e-01,  1.7530e-03,\n",
      "         -7.0711e-01,  1.4142e+00, -7.0711e-01],\n",
      "        [-1.2356e+00, -9.0068e-01,  1.4949e+00, -1.2844e+00, -1.0500e+00,\n",
      "          1.4142e+00, -7.0711e-01, -7.0711e-01],\n",
      "        [-1.4665e+00, -1.2642e+00,  8.0065e-01, -1.2275e+00, -1.3130e+00,\n",
      "          1.4142e+00, -7.0711e-01, -7.0711e-01],\n",
      "        [ 6.5819e-01,  5.5333e-01, -3.5636e-01,  1.0471e+00,  7.9059e-01,\n",
      "         -7.0711e-01, -7.0711e-01,  1.4142e+00],\n",
      "        [-1.1547e-02,  6.7450e-01, -3.5636e-01,  3.0783e-01,  1.3323e-01,\n",
      "         -7.0711e-01,  1.4142e+00, -7.0711e-01],\n",
      "        [ 1.0970e+00,  2.2497e+00, -5.8776e-01,  1.6726e+00,  1.0535e+00,\n",
      "         -7.0711e-01, -7.0711e-01,  1.4142e+00],\n",
      "        [ 1.0046e+00,  2.2497e+00, -1.0506e+00,  1.7863e+00,  1.4480e+00,\n",
      "         -7.0711e-01, -7.0711e-01,  1.4142e+00],\n",
      "        [-7.0438e-01, -9.0068e-01,  1.7263e+00, -1.0569e+00, -1.0500e+00,\n",
      "          1.4142e+00, -7.0711e-01, -7.0711e-01],\n",
      "        [-5.4272e-01,  6.7450e-01,  3.3785e-01,  4.2156e-01,  3.9617e-01,\n",
      "         -7.0711e-01,  1.4142e+00, -7.0711e-01],\n",
      "        [ 1.5011e-01, -4.1601e-01, -1.5134e+00, -3.3361e-02, -2.6119e-01,\n",
      "         -7.0711e-01,  1.4142e+00, -7.0711e-01],\n",
      "        [ 1.7205e+00,  6.8662e-02, -1.2496e-01,  7.6276e-01,  7.9059e-01,\n",
      "         -7.0711e-01, -7.0711e-01,  1.4142e+00],\n",
      "        [-1.4434e+00, -1.2642e+00, -1.2496e-01, -1.3413e+00, -1.4444e+00,\n",
      "          1.4142e+00, -7.0711e-01, -7.0711e-01],\n",
      "        [ 1.2587e+00,  1.6438e+00, -1.2496e-01,  1.1608e+00,  5.2764e-01,\n",
      "         -7.0711e-01, -7.0711e-01,  1.4142e+00],\n",
      "        [-4.2725e-01,  5.5333e-01,  5.6925e-01,  5.3530e-01,  5.2764e-01,\n",
      "         -7.0711e-01,  1.4142e+00, -7.0711e-01],\n",
      "        [-5.6582e-01,  1.4015e+00,  3.3785e-01,  5.3530e-01,  2.6470e-01,\n",
      "         -7.0711e-01,  1.4142e+00, -7.0711e-01],\n",
      "        [-1.1432e+00, -1.0218e+00, -1.2496e-01, -1.2275e+00, -1.3130e+00,\n",
      "          1.4142e+00, -7.0711e-01, -7.0711e-01],\n",
      "        [ 1.2356e+00,  6.7450e-01, -5.8776e-01,  1.0471e+00,  1.1850e+00,\n",
      "         -7.0711e-01, -7.0711e-01,  1.4142e+00],\n",
      "        [ 1.6513e+00,  5.5333e-01, -1.2820e+00,  7.0589e-01,  9.2206e-01,\n",
      "         -7.0711e-01, -7.0711e-01,  1.4142e+00],\n",
      "        [-7.2748e-01, -1.0218e+00,  1.0321e+00, -1.2275e+00, -7.8708e-01,\n",
      "          1.4142e+00, -7.0711e-01, -7.0711e-01],\n",
      "        [-1.6974e+00, -1.1430e+00, -1.2496e-01, -1.3413e+00, -1.3130e+00,\n",
      "          1.4142e+00, -7.0711e-01, -7.0711e-01],\n",
      "        [-8.0831e-02,  3.1100e-01, -5.8776e-01,  1.3724e-01,  1.3323e-01,\n",
      "         -7.0711e-01,  1.4142e+00, -7.0711e-01],\n",
      "        [-4.7344e-01,  7.9567e-01, -5.8776e-01,  4.7843e-01,  3.9617e-01,\n",
      "         -7.0711e-01,  1.4142e+00, -7.0711e-01],\n",
      "        [ 5.8891e-01,  5.5333e-01,  5.6925e-01,  1.2745e+00,  1.7109e+00,\n",
      "         -7.0711e-01, -7.0711e-01,  1.4142e+00],\n",
      "        [-1.3972e+00, -5.2506e-02,  2.1891e+00, -1.4550e+00, -1.3130e+00,\n",
      "          1.4142e+00, -7.0711e-01, -7.0711e-01],\n",
      "        [-1.5820e+00, -1.5065e+00,  8.0065e-01, -1.3413e+00, -1.1815e+00,\n",
      "          1.4142e+00, -7.0711e-01, -7.0711e-01],\n",
      "        [ 1.2702e-01, -4.1601e-01, -1.5134e+00,  2.3504e-02, -1.2972e-01,\n",
      "         -7.0711e-01,  1.4142e+00, -7.0711e-01],\n",
      "        [-1.1201e+00, -1.0218e+00,  8.0065e-01, -1.2275e+00, -1.0500e+00,\n",
      "          1.4142e+00, -7.0711e-01, -7.0711e-01],\n",
      "        [-1.0393e-01,  6.8662e-02,  3.3785e-01,  5.9216e-01,  7.9059e-01,\n",
      "         -7.0711e-01,  1.4142e+00, -7.0711e-01],\n",
      "        [ 1.4896e+00,  1.2803e+00,  1.0645e-01,  9.3336e-01,  1.1850e+00,\n",
      "         -7.0711e-01, -7.0711e-01,  1.4142e+00],\n",
      "        [-1.0277e+00, -1.2642e+00,  1.0645e-01, -1.2275e+00, -1.3130e+00,\n",
      "          1.4142e+00, -7.0711e-01, -7.0711e-01],\n",
      "        [ 7.7367e-01,  1.0380e+00, -1.2820e+00,  1.1608e+00,  7.9059e-01,\n",
      "         -7.0711e-01, -7.0711e-01,  1.4142e+00],\n",
      "        [-1.3741e+00, -1.7367e-01,  3.1147e+00, -1.2844e+00, -1.0500e+00,\n",
      "          1.4142e+00, -7.0711e-01, -7.0711e-01],\n",
      "        [-1.3048e+00, -1.7367e-01,  1.7263e+00, -1.1707e+00, -1.1815e+00,\n",
      "          1.4142e+00, -7.0711e-01, -7.0711e-01],\n",
      "        [ 5.7736e-02,  1.0380e+00, -1.2496e-01,  7.0589e-01,  6.5912e-01,\n",
      "         -7.0711e-01,  1.4142e+00, -7.0711e-01],\n",
      "        [-1.2125e+00, -1.5065e+00,  1.2635e+00, -1.5687e+00, -1.3130e+00,\n",
      "          1.4142e+00, -7.0711e-01, -7.0711e-01],\n",
      "        [-1.4896e+00, -5.3718e-01,  1.4949e+00, -1.2844e+00, -1.3130e+00,\n",
      "          1.4142e+00, -7.0711e-01, -7.0711e-01],\n",
      "        [-3.8106e-01,  9.1684e-01, -3.5636e-01,  4.7843e-01,  1.3323e-01,\n",
      "         -7.0711e-01,  1.4142e+00, -7.0711e-01],\n",
      "        [ 7.5057e-01,  1.7650e+00, -3.5636e-01,  1.4451e+00,  7.9059e-01,\n",
      "         -7.0711e-01, -7.0711e-01,  1.4142e+00],\n",
      "        [ 1.1547e-02,  9.1684e-01, -1.2496e-01,  3.6470e-01,  2.6470e-01,\n",
      "         -7.0711e-01,  1.4142e+00, -7.0711e-01],\n",
      "        [-2.4249e-01, -2.9484e-01, -3.5636e-01, -9.0227e-02,  1.3323e-01,\n",
      "         -7.0711e-01,  1.4142e+00, -7.0711e-01],\n",
      "        [-1.2702e-01, -2.9484e-01, -1.2820e+00,  8.0370e-02, -1.2972e-01,\n",
      "         -7.0711e-01,  1.4142e+00, -7.0711e-01],\n",
      "        [-1.6513e+00, -1.5065e+00,  1.0645e-01, -1.2844e+00, -1.3130e+00,\n",
      "          1.4142e+00, -7.0711e-01, -7.0711e-01],\n",
      "        [-7.9676e-01, -1.0218e+00,  1.0321e+00, -1.3981e+00, -1.1815e+00,\n",
      "          1.4142e+00, -7.0711e-01, -7.0711e-01],\n",
      "        [ 3.4642e-02,  1.1592e+00, -5.8776e-01,  5.9216e-01,  2.6470e-01,\n",
      "         -7.0711e-01,  1.4142e+00, -7.0711e-01],\n",
      "        [ 1.3741e+00,  3.1100e-01, -1.0506e+00,  1.0471e+00,  2.6470e-01,\n",
      "         -7.0711e-01, -7.0711e-01,  1.4142e+00],\n",
      "        [-9.3533e-01, -1.1430e+00,  1.0645e-01, -1.2844e+00, -1.4444e+00,\n",
      "          1.4142e+00, -7.0711e-01, -7.0711e-01],\n",
      "        [-1.0970e+00, -7.7951e-01,  1.0321e+00, -1.2844e+00, -1.3130e+00,\n",
      "          1.4142e+00, -7.0711e-01, -7.0711e-01],\n",
      "        [ 4.5034e-01, -2.9484e-01, -8.1917e-01,  2.5097e-01,  1.3323e-01,\n",
      "         -7.0711e-01,  1.4142e+00, -7.0711e-01],\n",
      "        [ 2.4249e-01,  1.8983e-01,  8.0065e-01,  4.2156e-01,  5.2764e-01,\n",
      "         -7.0711e-01,  1.4142e+00, -7.0711e-01],\n",
      "        [ 5.1963e-01,  4.3217e-01, -3.5636e-01,  3.0783e-01,  1.3323e-01,\n",
      "         -7.0711e-01,  1.4142e+00, -7.0711e-01],\n",
      "        [ 6.3510e-01,  1.5227e+00, -1.2496e-01,  1.2177e+00,  1.1850e+00,\n",
      "         -7.0711e-01, -7.0711e-01,  1.4142e+00],\n",
      "        [-5.1963e-01,  1.2803e+00,  1.0645e-01,  6.4903e-01,  3.9617e-01,\n",
      "         -7.0711e-01,  1.4142e+00, -7.0711e-01],\n",
      "        [ 4.0415e-01, -5.2506e-02, -1.0506e+00,  1.3724e-01,  1.7530e-03,\n",
      "         -7.0711e-01,  1.4142e+00, -7.0711e-01],\n",
      "        [ 5.6582e-01, -1.7367e-01, -5.8776e-01,  1.9410e-01,  1.3323e-01,\n",
      "         -7.0711e-01,  1.4142e+00, -7.0711e-01],\n",
      "        [ 7.0438e-01,  2.1285e+00, -1.2496e-01,  1.6157e+00,  1.1850e+00,\n",
      "         -7.0711e-01, -7.0711e-01,  1.4142e+00],\n",
      "        [-1.5589e+00, -1.0218e+00,  8.0065e-01, -1.2844e+00, -1.3130e+00,\n",
      "          1.4142e+00, -7.0711e-01, -7.0711e-01],\n",
      "        [-6.1200e-01, -6.5835e-01,  1.4949e+00, -1.2844e+00, -1.3130e+00,\n",
      "          1.4142e+00, -7.0711e-01, -7.0711e-01],\n",
      "        [-3.1178e-01,  6.8662e-02, -1.2496e-01,  2.5097e-01,  3.9617e-01,\n",
      "         -7.0711e-01,  1.4142e+00, -7.0711e-01],\n",
      "        [ 1.0508e+00,  1.2803e+00,  3.3785e-01,  1.1040e+00,  1.4480e+00,\n",
      "         -7.0711e-01, -7.0711e-01,  1.4142e+00],\n",
      "        [ 1.4434e+00,  6.7450e-01,  1.0645e-01,  9.9022e-01,  7.9059e-01,\n",
      "         -7.0711e-01, -7.0711e-01,  1.4142e+00],\n",
      "        [ 1.1663e+00,  1.6438e+00,  3.3785e-01,  1.2745e+00,  7.9059e-01,\n",
      "         -7.0711e-01, -7.0711e-01,  1.4142e+00],\n",
      "        [ 1.6744e+00,  7.9567e-01, -1.2496e-01,  8.1962e-01,  1.0535e+00,\n",
      "         -7.0711e-01, -7.0711e-01,  1.4142e+00],\n",
      "        [-8.1986e-01, -9.0068e-01,  8.0065e-01, -1.2844e+00, -1.3130e+00,\n",
      "          1.4142e+00, -7.0711e-01, -7.0711e-01],\n",
      "        [ 2.1940e-01, -5.3718e-01, -1.2496e-01,  4.2156e-01,  3.9617e-01,\n",
      "         -7.0711e-01,  1.4142e+00, -7.0711e-01],\n",
      "        [-1.6744e+00, -1.3854e+00,  3.3785e-01, -1.3981e+00, -1.3130e+00,\n",
      "          1.4142e+00, -7.0711e-01, -7.0711e-01],\n",
      "        [-1.7321e-01, -5.2506e-02, -8.1917e-01,  1.9410e-01, -2.6119e-01,\n",
      "         -7.0711e-01,  1.4142e+00, -7.0711e-01],\n",
      "        [-4.5034e-01, -1.7367e-01, -5.8776e-01,  4.2156e-01,  1.3323e-01,\n",
      "         -7.0711e-01,  1.4142e+00, -7.0711e-01],\n",
      "        [-5.8891e-01, -1.0218e+00,  5.6925e-01, -1.3413e+00, -1.3130e+00,\n",
      "          1.4142e+00, -7.0711e-01, -7.0711e-01],\n",
      "        [-1.5011e-01,  4.3217e-01, -1.9762e+00,  4.2156e-01,  3.9617e-01,\n",
      "         -7.0711e-01,  1.4142e+00, -7.0711e-01],\n",
      "        [ 1.5127e+00,  1.0380e+00,  1.0645e-01,  1.0471e+00,  1.5794e+00,\n",
      "         -7.0711e-01, -7.0711e-01,  1.4142e+00],\n",
      "        [ 8.0831e-02,  1.8983e-01, -3.5636e-01,  4.2156e-01,  3.9617e-01,\n",
      "         -7.0711e-01,  1.4142e+00, -7.0711e-01],\n",
      "        [ 1.6051e+00,  1.0380e+00,  5.6925e-01,  1.1040e+00,  1.7109e+00,\n",
      "         -7.0711e-01, -7.0711e-01,  1.4142e+00],\n",
      "        [ 8.4295e-01,  6.7450e-01, -8.1917e-01,  8.7649e-01,  9.2206e-01,\n",
      "         -7.0711e-01, -7.0711e-01,  1.4142e+00],\n",
      "        [-9.8152e-01, -7.7951e-01,  2.4205e+00, -1.2844e+00, -1.4444e+00,\n",
      "          1.4142e+00, -7.0711e-01, -7.0711e-01],\n",
      "        [-3.4642e-02,  3.1100e-01, -5.8776e-01,  5.3530e-01,  1.7530e-03,\n",
      "         -7.0711e-01,  1.4142e+00, -7.0711e-01],\n",
      "        [-6.3510e-01, -1.5065e+00,  3.3785e-01, -1.3413e+00, -1.3130e+00,\n",
      "          1.4142e+00, -7.0711e-01, -7.0711e-01],\n",
      "        [ 1.6974e+00,  4.3217e-01,  8.0065e-01,  9.3336e-01,  1.4480e+00,\n",
      "         -7.0711e-01, -7.0711e-01,  1.4142e+00],\n",
      "        [ 8.8914e-01, -1.7367e-01, -1.2820e+00,  7.0589e-01,  1.0535e+00,\n",
      "         -7.0711e-01, -7.0711e-01,  1.4142e+00],\n",
      "        [ 4.9653e-01, -1.7367e-01, -3.5636e-01,  2.5097e-01,  1.3323e-01,\n",
      "         -7.0711e-01,  1.4142e+00, -7.0711e-01],\n",
      "        [-4.0415e-01, -1.1430e+00, -1.5134e+00, -2.6082e-01, -2.6119e-01,\n",
      "         -7.0711e-01,  1.4142e+00, -7.0711e-01],\n",
      "        [ 1.1201e+00,  5.5333e-01, -8.1917e-01,  6.4903e-01,  7.9059e-01,\n",
      "         -7.0711e-01, -7.0711e-01,  1.4142e+00],\n",
      "        [ 7.2748e-01, -1.1430e+00, -1.2820e+00,  4.2156e-01,  6.5912e-01,\n",
      "         -7.0711e-01, -7.0711e-01,  1.4142e+00],\n",
      "        [ 1.9630e-01,  1.8983e-01, -8.1917e-01,  7.6276e-01,  5.2764e-01,\n",
      "         -7.0711e-01,  1.4142e+00, -7.0711e-01],\n",
      "        [-1.3279e+00, -9.0068e-01,  1.0321e+00, -1.3413e+00, -1.1815e+00,\n",
      "          1.4142e+00, -7.0711e-01, -7.0711e-01],\n",
      "        [ 5.4272e-01, -9.0068e-01, -1.2820e+00, -4.3142e-01, -1.2972e-01,\n",
      "         -7.0711e-01,  1.4142e+00, -7.0711e-01],\n",
      "        [-1.9630e-01, -2.9484e-01, -1.2496e-01,  4.2156e-01,  3.9617e-01,\n",
      "         -7.0711e-01,  1.4142e+00, -7.0711e-01],\n",
      "        [ 1.1894e+00,  4.3217e-01, -5.8776e-01,  5.9216e-01,  7.9059e-01,\n",
      "         -7.0711e-01, -7.0711e-01,  1.4142e+00],\n",
      "        [ 7.9676e-01,  1.6438e+00,  1.2635e+00,  1.3314e+00,  1.7109e+00,\n",
      "         -7.0711e-01, -7.0711e-01,  1.4142e+00]], dtype=torch.float64)\n"
     ]
    }
   ],
   "source": [
    "print(x.size())\n",
    "print(y.size())\n",
    "print(x)"
   ],
   "metadata": {
    "collapsed": false,
    "ExecuteTime": {
     "end_time": "2023-10-04T00:41:09.953970700Z",
     "start_time": "2023-10-04T00:41:09.778143Z"
    }
   },
   "id": "ab532cf845ca0a8f"
  },
  {
   "cell_type": "code",
   "execution_count": 21,
   "outputs": [
    {
     "name": "stdout",
     "output_type": "stream",
     "text": [
      "running k-means on cuda:0..\n"
     ]
    },
    {
     "name": "stderr",
     "output_type": "stream",
     "text": [
      "[running kmeans]: 4it [00:00, 118.66it/s, center_shift=0.000000, iteration=4, tol=0.000100]\n"
     ]
    }
   ],
   "source": [
    "num_clusters = 3\n",
    "cluster_ids_x, cluster_centers = kmeans(\n",
    "    X=x, num_clusters=num_clusters, distance=\"euclidean\", device=device\n",
    ")"
   ],
   "metadata": {
    "collapsed": false,
    "ExecuteTime": {
     "end_time": "2023-10-04T00:41:12.254171100Z",
     "start_time": "2023-10-04T00:41:09.839060300Z"
    }
   },
   "id": "8c39b3ef9c1d59c"
  },
  {
   "cell_type": "code",
   "execution_count": 22,
   "outputs": [
    {
     "name": "stdout",
     "output_type": "stream",
     "text": [
      "tensor([2, 2, 0, 0, 1, 1, 2, 0, 0, 1, 1, 0, 2, 2, 2, 2, 2, 1, 0, 0, 2, 0, 0, 1,\n",
      "        1, 1, 1, 2, 1, 2, 0, 2, 1, 0, 0, 2, 1, 2, 2, 0, 1, 1, 2, 0, 2, 1, 1, 0,\n",
      "        2, 2, 0, 0, 1, 1, 2, 0, 0, 1, 0, 1, 2, 0, 2, 0, 0, 1, 0, 0, 1, 2, 1, 1,\n",
      "        1, 0, 0, 1, 2, 0, 0, 1, 1, 1, 2, 1, 1, 1, 2, 0, 0, 1, 2, 2, 2, 2, 0, 1,\n",
      "        0, 1, 1, 0, 1, 2, 1, 2, 2, 0, 1, 0, 2, 2, 1, 1, 2, 2, 1, 0, 1, 1, 2, 2])\n",
      "tensor([[-1.1850, -1.0022,  0.8757, -1.3028, -1.2384,  1.4142, -0.7071, -0.7071],\n",
      "        [-0.0063,  0.1292, -0.6246,  0.2742,  0.1631, -0.7071,  1.4142, -0.7071],\n",
      "        [ 1.1509,  0.9013, -0.2199,  1.0354,  1.0906, -0.7071, -0.7071,  1.4142]])\n"
     ]
    }
   ],
   "source": [
    "print(cluster_ids_x)\n",
    "print(cluster_centers)"
   ],
   "metadata": {
    "collapsed": false,
    "ExecuteTime": {
     "end_time": "2023-10-04T00:41:12.255174400Z",
     "start_time": "2023-10-04T00:41:12.224916200Z"
    }
   },
   "id": "baefd6545f30336b"
  },
  {
   "cell_type": "code",
   "execution_count": 23,
   "outputs": [
    {
     "name": "stdout",
     "output_type": "stream",
     "text": [
      "predicting on cuda:0..\n"
     ]
    }
   ],
   "source": [
    "cluster_ids_y = kmeans_predict(\n",
    "    y, cluster_centers, \"euclidean\", device=device\n",
    ")"
   ],
   "metadata": {
    "collapsed": false,
    "ExecuteTime": {
     "end_time": "2023-10-04T00:41:12.255174400Z",
     "start_time": "2023-10-04T00:41:12.232780400Z"
    }
   },
   "id": "25617dca0f3a06d8"
  },
  {
   "cell_type": "code",
   "execution_count": 24,
   "outputs": [
    {
     "name": "stdout",
     "output_type": "stream",
     "text": [
      "tensor([1, 2, 2, 1, 0, 2, 1, 0, 0, 1, 2, 0, 1, 2, 2, 2, 0, 0, 1, 0, 0, 2, 0, 2,\n",
      "        0, 0, 0, 2, 2, 0])\n"
     ]
    }
   ],
   "source": [
    "print(cluster_ids_y)"
   ],
   "metadata": {
    "collapsed": false,
    "ExecuteTime": {
     "end_time": "2023-10-04T00:41:12.255174400Z",
     "start_time": "2023-10-04T00:41:12.237530500Z"
    }
   },
   "id": "1eb491726a1ab934"
  },
  {
   "cell_type": "code",
   "execution_count": 25,
   "outputs": [
    {
     "data": {
      "text/plain": "<Figure size 640x480 with 1 Axes>",
      "image/png": "[encoded data removed]"
     },
     "metadata": {},
     "output_type": "display_data"
    }
   ],
   "source": [
    "import matplotlib.pyplot as plt\n",
    "\n",
    "plt.figure(figsize=(4, 3), dpi=160)\n",
    "plt.scatter(y[:, 0], y[:, 1], c=cluster_ids_y, cmap=\"viridis\", marker=\"x\")\n",
    "\n",
    "plt.scatter(\n",
    "    cluster_centers[:, 0],\n",
    "    cluster_centers[:, 1],\n",
    "    c=\"white\",\n",
    "    alpha=0.6,\n",
    "    edgecolors=\"black\",\n",
    "    linewidths=2\n",
    ")\n",
    "\n",
    "plt.tight_layout()\n",
    "plt.show()"
   ],
   "metadata": {
    "collapsed": false,
    "ExecuteTime": {
     "end_time": "2023-10-04T00:41:12.416110900Z",
     "start_time": "2023-10-04T00:41:12.242324600Z"
    }
   },
   "id": "9ea27f9d0295d977"
  }
 ],
 "metadata": {
  "kernelspec": {
   "display_name": "Python 3",
   "language": "python",
   "name": "python3"
  },
  "language_info": {
   "codemirror_mode": {
    "name": "ipython",
    "version": 2
   },
   "file_extension": ".py",
   "mimetype": "text/x-python",
   "name": "python",
   "nbconvert_exporter": "python",
   "pygments_lexer": "ipython2",
   "version": "2.7.6"
  }
 },
 "nbformat": 4,
 "nbformat_minor": 5
}
