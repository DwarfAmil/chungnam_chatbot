{
 "cells": [
  {
   "cell_type": "markdown",
   "source": [
    "**라이브러리 호출**"
   ],
   "metadata": {
    "collapsed": false
   },
   "id": "5eabfcddd2327ffb"
  },
  {
   "cell_type": "code",
   "execution_count": 71,
   "id": "initial_id",
   "metadata": {
    "collapsed": true,
    "ExecuteTime": {
     "end_time": "2023-09-22T05:55:39.716209300Z",
     "start_time": "2023-09-22T05:55:39.682620200Z"
    }
   },
   "outputs": [],
   "source": [
    "import torch\n",
    "import torch.nn as nn\n",
    "import torchvision.transforms as transforms\n",
    "import torchvision.datasets as dataset\n",
    "from torch.autograd import Variable\n",
    "from torch.nn import Parameter\n",
    "from torch import Tensor\n",
    "import torch.nn.functional as F\n",
    "from torch.utils.data import DataLoader\n",
    "import math\n",
    "\n",
    "device = torch.device(\"cuda:0\" if torch.cuda.is_available() else \"cpu\")\n",
    "cuda = True if torch.cuda.is_available() else False\n",
    "\n",
    "Tensor = torch.cuda.FloatTensor if cuda else torch.FloatTensor\n",
    "\n",
    "torch.manual_seed(125)\n",
    "if torch.cuda.is_available():\n",
    "    torch.cuda.manual_seed_all(125)"
   ]
  },
  {
   "cell_type": "markdown",
   "source": [
    "**데이터 전처리**"
   ],
   "metadata": {
    "collapsed": false
   },
   "id": "c7b9ea85e60432af"
  },
  {
   "cell_type": "code",
   "execution_count": 72,
   "outputs": [],
   "source": [
    "mnist_transform = transforms.Compose([\n",
    "    transforms.ToTensor(),\n",
    "    transforms.Normalize((0.5, ), (1.0, ))\n",
    "])"
   ],
   "metadata": {
    "collapsed": false,
    "ExecuteTime": {
     "end_time": "2023-09-22T05:55:39.717520400Z",
     "start_time": "2023-09-22T05:55:39.688665400Z"
    }
   },
   "id": "558ec6a73db8c7fb"
  },
  {
   "cell_type": "markdown",
   "source": [
    "**데이터셋 내려받기 및 전처리 적용**"
   ],
   "metadata": {
    "collapsed": false
   },
   "id": "968a28e69cd9f47e"
  },
  {
   "cell_type": "code",
   "execution_count": 73,
   "outputs": [],
   "source": [
    "from torchvision.datasets import MNIST\n",
    "download_root = \",,/pytorch/MNIST_DATASET\"\n",
    "\n",
    "train_dataset = MNIST(download_root, transform=mnist_transform, train=True, download=True)\n",
    "valid_dataset = MNIST(download_root, transform=mnist_transform, train=False, download=True)\n",
    "test_dataset = MNIST(download_root, transform=mnist_transform, train=False, download=True)"
   ],
   "metadata": {
    "collapsed": false,
    "ExecuteTime": {
     "end_time": "2023-09-22T05:55:39.740037300Z",
     "start_time": "2023-09-22T05:55:39.696607900Z"
    }
   },
   "id": "828327bbdf3f22a8"
  },
  {
   "cell_type": "markdown",
   "source": [
    "**데이터셋 메모리로 가져오기**"
   ],
   "metadata": {
    "collapsed": false
   },
   "id": "c685891ef8250aee"
  },
  {
   "cell_type": "code",
   "execution_count": 74,
   "outputs": [],
   "source": [
    "batch_size = 64\n",
    "train_loader = DataLoader(dataset=train_dataset, batch_size=batch_size, shuffle=True)\n",
    "valid_loader = DataLoader(dataset=test_dataset, batch_size=batch_size, shuffle=True)\n",
    "test_loader = DataLoader(dataset=test_dataset, batch_size=batch_size, shuffle=True)"
   ],
   "metadata": {
    "collapsed": false,
    "ExecuteTime": {
     "end_time": "2023-09-22T05:55:39.741038200Z",
     "start_time": "2023-09-22T05:55:39.739029700Z"
    }
   },
   "id": "4ee58ea455caa1a7"
  },
  {
   "cell_type": "markdown",
   "source": [
    "**변수 값 설정**"
   ],
   "metadata": {
    "collapsed": false
   },
   "id": "37ad6f8a395c7e0"
  },
  {
   "cell_type": "code",
   "execution_count": 75,
   "outputs": [],
   "source": [
    "batch_size = 100\n",
    "n_iters = 6000\n",
    "num_epochs = n_iters / (len(train_dataset) / batch_size)\n",
    "num_epochs = int(num_epochs)"
   ],
   "metadata": {
    "collapsed": false,
    "ExecuteTime": {
     "end_time": "2023-09-22T05:55:39.751501900Z",
     "start_time": "2023-09-22T05:55:39.744662900Z"
    }
   },
   "id": "31226d8e56c97836"
  },
  {
   "cell_type": "markdown",
   "source": [
    "**GRU 셀 네트워크**"
   ],
   "metadata": {
    "collapsed": false
   },
   "id": "355e8b3bbd4a56a2"
  },
  {
   "cell_type": "code",
   "execution_count": 76,
   "outputs": [],
   "source": [
    "class GRUCell(nn.Module):\n",
    "    def __init__(self, input_size, hidden_size, bias=True):\n",
    "        super(GRUCell, self).__init__()\n",
    "        self.input_size = input_size\n",
    "        self.hidden_size = hidden_size\n",
    "        self.bias = bias\n",
    "        self.x2h = nn.Linear(input_size, 3 * hidden_size, bias=bias)\n",
    "        self.h2h = nn.Linear(hidden_size, 3 * hidden_size, bias=bias)\n",
    "        self.reset_parameters()\n",
    "        \n",
    "    def reset_parameters(self):\n",
    "        std = 1.0 / math.sqrt(self.hidden_size)\n",
    "        for w in self.parameters():\n",
    "            w.data.uniform_(-std, std)\n",
    "            \n",
    "    def forward(self, x, hidden):\n",
    "        x = x.view(-1, x.size(1))\n",
    "        \n",
    "        gate_x = self.x2h(x)\n",
    "        gate_h = self.h2h(hidden)\n",
    "        gate_x = gate_x.squeeze()\n",
    "        gate_h = gate_h.squeeze()\n",
    "        \n",
    "        i_r, i_i, i_n = gate_x.chunk(3, 1)\n",
    "        h_r, h_i, h_n = gate_h.chunk(3, 1)\n",
    "        \n",
    "        resetgate = F.sigmoid(i_r + h_r)\n",
    "        inputgate = F.sigmoid(i_i + h_i)\n",
    "        newgate = F.tanh(i_n + (resetgate * h_n))\n",
    "        \n",
    "        hy = newgate + inputgate * (hidden - newgate)\n",
    "        return hy"
   ],
   "metadata": {
    "collapsed": false,
    "ExecuteTime": {
     "end_time": "2023-09-22T05:55:39.760548500Z",
     "start_time": "2023-09-22T05:55:39.754540Z"
    }
   },
   "id": "c12bffca150b312a"
  },
  {
   "cell_type": "markdown",
   "source": [
    "**전반적인 네트워크 구조**"
   ],
   "metadata": {
    "collapsed": false
   },
   "id": "6e780eeb9de7682e"
  },
  {
   "cell_type": "code",
   "execution_count": 77,
   "outputs": [],
   "source": [
    "class GRUModel(nn.Module):\n",
    "    def __init__(self, input_dim, hidden_dim, layer_dim, output_dim, bias=True):\n",
    "        super(GRUModel, self).__init__()\n",
    "        self.hidden_dim = hidden_dim\n",
    "        self.layer_dim = layer_dim\n",
    "        \n",
    "        self.gru_cell = GRUCell(input_dim, hidden_dim, layer_dim)\n",
    "        self.fc = nn.Linear(hidden_dim, output_dim)\n",
    "        \n",
    "    def forward(self, x):\n",
    "        if torch.cuda.is_available():\n",
    "            h0 = Variable(torch.zeros(self.layer_dim, x.size(0), self.hidden_dim).cuda())\n",
    "        else:\n",
    "            h0 = Variable(torch.zeros(self.layer_dim, x.size(0), self.hidden_dim))\n",
    "            \n",
    "        outs = []\n",
    "        hn = h0[0, :, :]\n",
    "        \n",
    "        for seq in range(x.size(1)):\n",
    "            hn = self.gru_cell(x[:, seq, :], hn)\n",
    "            outs.append(hn)\n",
    "        out = outs[-1].squeeze()\n",
    "        out = self.fc(out)\n",
    "        return out"
   ],
   "metadata": {
    "collapsed": false,
    "ExecuteTime": {
     "end_time": "2023-09-22T05:55:39.771374800Z",
     "start_time": "2023-09-22T05:55:39.756548500Z"
    }
   },
   "id": "83b62fe5aa6de1a9"
  },
  {
   "cell_type": "markdown",
   "source": [
    "**옵티마이저와 손실 함수 설정**"
   ],
   "metadata": {
    "collapsed": false
   },
   "id": "fbb98cda70e1ac1"
  },
  {
   "cell_type": "code",
   "execution_count": 78,
   "outputs": [],
   "source": [
    "input_dim = 28\n",
    "hidden_dim = 128\n",
    "layer_dim = 1\n",
    "output_dim = 10\n",
    "\n",
    "model = GRUModel(input_dim, hidden_dim, layer_dim, output_dim)\n",
    "\n",
    "if torch.cuda.is_available():\n",
    "    model.cuda()\n",
    "    \n",
    "criterion = nn.CrossEntropyLoss()\n",
    "learning_rate = 0.1\n",
    "optimizer = torch.optim.SGD(model.parameters(), lr=learning_rate)"
   ],
   "metadata": {
    "collapsed": false,
    "ExecuteTime": {
     "end_time": "2023-09-22T05:55:39.782077500Z",
     "start_time": "2023-09-22T05:55:39.767607200Z"
    }
   },
   "id": "2c9affe509d29f81"
  },
  {
   "cell_type": "markdown",
   "source": [
    "**모델 학습 및 성능 검증**"
   ],
   "metadata": {
    "collapsed": false
   },
   "id": "43fd737e630a8980"
  },
  {
   "cell_type": "code",
   "execution_count": 79,
   "outputs": [
    {
     "name": "stdout",
     "output_type": "stream",
     "text": [
      "Iteration: 500. Loss: 1.6616926193237305. Accuracy: 43.59000015258789\n",
      "Iteration: 1000. Loss: 0.8945668935775757. Accuracy: 76.19999694824219\n",
      "Iteration: 1500. Loss: 0.29147762060165405. Accuracy: 89.7300033569336\n",
      "Iteration: 2000. Loss: 0.23627915978431702. Accuracy: 93.51000213623047\n",
      "Iteration: 2500. Loss: 0.03288727253675461. Accuracy: 95.05000305175781\n",
      "Iteration: 3000. Loss: 0.030374936759471893. Accuracy: 95.81999969482422\n",
      "Iteration: 3500. Loss: 0.16210566461086273. Accuracy: 96.33999633789062\n",
      "Iteration: 4000. Loss: 0.19308781623840332. Accuracy: 96.19000244140625\n",
      "Iteration: 4500. Loss: 0.051720116287469864. Accuracy: 97.0\n",
      "Iteration: 5000. Loss: 0.1390017718076706. Accuracy: 97.26000213623047\n",
      "Iteration: 5500. Loss: 0.08090310543775558. Accuracy: 97.62000274658203\n",
      "Iteration: 6000. Loss: 0.10488355904817581. Accuracy: 97.69000244140625\n",
      "Iteration: 6500. Loss: 0.07983990013599396. Accuracy: 97.80000305175781\n",
      "Iteration: 7000. Loss: 0.1025036945939064. Accuracy: 97.55999755859375\n",
      "Iteration: 7500. Loss: 0.06477980315685272. Accuracy: 97.86000061035156\n",
      "Iteration: 8000. Loss: 0.10547620058059692. Accuracy: 97.80000305175781\n",
      "Iteration: 8500. Loss: 0.04281161352992058. Accuracy: 98.0199966430664\n",
      "Iteration: 9000. Loss: 0.04198884591460228. Accuracy: 98.22000122070312\n"
     ]
    }
   ],
   "source": [
    "seq_dim = 28\n",
    "loss_list = []\n",
    "iter = 0\n",
    "for epoch in range(num_epochs):\n",
    "    for i, (images, labels) in enumerate(train_loader):\n",
    "        if torch.cuda.is_available():\n",
    "            images = Variable(images.view(-1, seq_dim, input_dim).cuda())\n",
    "            labels = Variable(labels.cuda())\n",
    "        else:\n",
    "            images = Variable(images.view(-1, seq_dim, input_dim))\n",
    "            labels = Variable(labels)\n",
    "            \n",
    "        optimizer.zero_grad()\n",
    "        outputs = model(images)\n",
    "        loss = criterion(outputs, labels)\n",
    "        \n",
    "        if torch.cuda.is_available():\n",
    "            loss.cuda()\n",
    "        \n",
    "        loss.backward()\n",
    "        optimizer.step()\n",
    "        \n",
    "        loss_list.append(loss.item())\n",
    "        iter += 1\n",
    "        \n",
    "        if iter % 500 == 0:\n",
    "            correct = 0\n",
    "            total = 0\n",
    "            for images, labels in valid_loader:\n",
    "                if torch.cuda.is_available():\n",
    "                    images = Variable(images.view(-1, seq_dim, input_dim).cuda())\n",
    "                else:\n",
    "                    images = Variable(images.view(-1, seq_dim, input_dim))\n",
    "                    \n",
    "                outputs = model(images)\n",
    "                _, predicted = torch.max(outputs.data, 1)\n",
    "                total += labels.size(0)\n",
    "                \n",
    "                if torch.cuda.is_available():\n",
    "                    correct += (predicted.cpu() == labels.cpu()).sum()\n",
    "                else:\n",
    "                    correct += (predicted == labels).sum()\n",
    "                \n",
    "            accuracy = 100 * correct / total\n",
    "            print(f\"Iteration: {iter}. Loss: {loss.item()}. Accuracy: {accuracy}\")"
   ],
   "metadata": {
    "collapsed": false,
    "ExecuteTime": {
     "end_time": "2023-09-22T06:01:38.756337600Z",
     "start_time": "2023-09-22T05:55:39.780079300Z"
    }
   },
   "id": "a10c4ae6da01ad60"
  },
  {
   "cell_type": "markdown",
   "source": [
    "**테스트 데이터셋을 이용한 모델 예측**"
   ],
   "metadata": {
    "collapsed": false
   },
   "id": "f2257fa6cf8f8ee2"
  },
  {
   "cell_type": "code",
   "execution_count": 80,
   "outputs": [],
   "source": [
    "def evaluate(model, val_iter):\n",
    "    correct, total, total_loss = 0, 0, 0\n",
    "    model.eval()\n",
    "    for images, labels in val_iter:\n",
    "        if torch.cuda.is_available():\n",
    "            images = Variable(images.view(-1, seq_dim, input_dim).cuda())\n",
    "        else:\n",
    "            images = Variable(images.view(-1, seq_dim, input_dim)).to(device)\n",
    "        \n",
    "        logit = model(images).to(device)\n",
    "        loss = F.cross_entropy(logit, labels, reduction=\"sum\")\n",
    "        _, predicted = torch.max(logit.data, 1)\n",
    "        total += labels.size(0)\n",
    "        total_loss += loss.item()\n",
    "        correct += (predicted == labels).sum()\n",
    "        \n",
    "    avg_loss = total_loss / len(val_iter.dataset)\n",
    "    avg_accuracy = correct / total\n",
    "    return avg_loss, avg_accuracy"
   ],
   "metadata": {
    "collapsed": false,
    "ExecuteTime": {
     "end_time": "2023-09-22T06:01:38.769536200Z",
     "start_time": "2023-09-22T06:01:38.761430900Z"
    }
   },
   "id": "d2ae15374bc363f6"
  },
  {
   "cell_type": "markdown",
   "source": [
    "**모델 예측 결과**"
   ],
   "metadata": {
    "collapsed": false
   },
   "id": "e935e9f8ea06e6cd"
  },
  {
   "cell_type": "code",
   "execution_count": 81,
   "outputs": [
    {
     "name": "stdout",
     "output_type": "stream",
     "text": [
      "Test Loss:  0.07 | Test Accuracy:  0.98\n"
     ]
    }
   ],
   "source": [
    "test_loss, test_acc = evaluate(model, test_loader)\n",
    "print(f\"Test Loss: {test_loss :5.2f} | Test Accuracy: {test_acc :5.2f}\")"
   ],
   "metadata": {
    "collapsed": false,
    "ExecuteTime": {
     "end_time": "2023-09-22T06:01:41.932550600Z",
     "start_time": "2023-09-22T06:01:38.765034400Z"
    }
   },
   "id": "b18aef29ab929a4d"
  }
 ],
 "metadata": {
  "kernelspec": {
   "display_name": "Python 3",
   "language": "python",
   "name": "python3"
  },
  "language_info": {
   "codemirror_mode": {
    "name": "ipython",
    "version": 2
   },
   "file_extension": ".py",
   "mimetype": "text/x-python",
   "name": "python",
   "nbconvert_exporter": "python",
   "pygments_lexer": "ipython2",
   "version": "2.7.6"
  }
 },
 "nbformat": 4,
 "nbformat_minor": 5
}
