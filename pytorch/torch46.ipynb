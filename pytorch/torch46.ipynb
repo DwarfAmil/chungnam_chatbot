{
 "cells": [
  {
   "cell_type": "code",
   "execution_count": 2,
   "id": "initial_id",
   "metadata": {
    "collapsed": true,
    "ExecuteTime": {
     "end_time": "2023-10-10T05:19:26.356958200Z",
     "start_time": "2023-10-10T05:19:25.432699200Z"
    }
   },
   "outputs": [],
   "source": [
    "import torch\n",
    "import os\n",
    "from tensorboardX import SummaryWriter\n",
    "\n",
    "import torch\n",
    "import torchvision\n",
    "import torch.nn as nn\n",
    "import torch.optim as optim\n",
    "from torch.utils.data import DataLoader, Dataset\n",
    "import matplotlib.pyplot as plt\n",
    "\n",
    "import torchvision.datasets as datasets\n",
    "import torchvision.transforms as transforms\n",
    "\n",
    "device = torch.device(\"cuda\" if torch.cuda.is_available() else \"cpu\")"
   ]
  },
  {
   "cell_type": "code",
   "execution_count": 3,
   "outputs": [
    {
     "name": "stdout",
     "output_type": "stream",
     "text": [
      "Downloading http://yann.lecun.com/exdb/mnist/train-images-idx3-ubyte.gz\n",
      "Downloading http://yann.lecun.com/exdb/mnist/train-images-idx3-ubyte.gz to data2\\MNIST\\raw\\train-images-idx3-ubyte.gz\n"
     ]
    },
    {
     "name": "stderr",
     "output_type": "stream",
     "text": [
      "100%|██████████| 9912422/9912422 [00:01<00:00, 7544831.55it/s] \n"
     ]
    },
    {
     "name": "stdout",
     "output_type": "stream",
     "text": [
      "Extracting data2\\MNIST\\raw\\train-images-idx3-ubyte.gz to data2\\MNIST\\raw\n",
      "\n",
      "Downloading http://yann.lecun.com/exdb/mnist/train-labels-idx1-ubyte.gz\n",
      "Downloading http://yann.lecun.com/exdb/mnist/train-labels-idx1-ubyte.gz to data2\\MNIST\\raw\\train-labels-idx1-ubyte.gz\n"
     ]
    },
    {
     "name": "stderr",
     "output_type": "stream",
     "text": [
      "100%|██████████| 28881/28881 [00:00<?, ?it/s]\n"
     ]
    },
    {
     "name": "stdout",
     "output_type": "stream",
     "text": [
      "Extracting data2\\MNIST\\raw\\train-labels-idx1-ubyte.gz to data2\\MNIST\\raw\n",
      "\n",
      "Downloading http://yann.lecun.com/exdb/mnist/t10k-images-idx3-ubyte.gz\n",
      "Downloading http://yann.lecun.com/exdb/mnist/t10k-images-idx3-ubyte.gz to data2\\MNIST\\raw\\t10k-images-idx3-ubyte.gz\n"
     ]
    },
    {
     "name": "stderr",
     "output_type": "stream",
     "text": [
      "100%|██████████| 1648877/1648877 [00:00<00:00, 5597541.61it/s]\n"
     ]
    },
    {
     "name": "stdout",
     "output_type": "stream",
     "text": [
      "Extracting data2\\MNIST\\raw\\t10k-images-idx3-ubyte.gz to data2\\MNIST\\raw\n",
      "\n",
      "Downloading http://yann.lecun.com/exdb/mnist/t10k-labels-idx1-ubyte.gz\n",
      "Downloading http://yann.lecun.com/exdb/mnist/t10k-labels-idx1-ubyte.gz to data2\\MNIST\\raw\\t10k-labels-idx1-ubyte.gz\n"
     ]
    },
    {
     "name": "stderr",
     "output_type": "stream",
     "text": [
      "100%|██████████| 4542/4542 [00:00<?, ?it/s]"
     ]
    },
    {
     "name": "stdout",
     "output_type": "stream",
     "text": [
      "Extracting data2\\MNIST\\raw\\t10k-labels-idx1-ubyte.gz to data2\\MNIST\\raw\n"
     ]
    },
    {
     "name": "stderr",
     "output_type": "stream",
     "text": [
      "\n"
     ]
    }
   ],
   "source": [
    "transforms = transforms.Compose([transforms.ToTensor()])\n",
    "\n",
    "train_dataset = datasets.MNIST(\n",
    "    root=\"data2\", train=True, transform=transforms, download=True\n",
    ")\n",
    "\n",
    "test_dataset = datasets.MNIST(\n",
    "    root=\"data2\", train=False, transform=transforms, download=True\n",
    ")\n",
    "\n",
    "train_loder = DataLoader(\n",
    "    train_dataset, batch_size=100, shuffle=True, num_workers=4, pin_memory=False\n",
    ")\n",
    "\n",
    "test_loader = DataLoader(test_dataset, batch_size=100, shuffle=False, num_workers=4)"
   ],
   "metadata": {
    "collapsed": false,
    "ExecuteTime": {
     "end_time": "2023-10-10T05:19:29.159927Z",
     "start_time": "2023-10-10T05:19:26.357959400Z"
    }
   },
   "id": "8f3b5797c87d7d0f"
  },
  {
   "cell_type": "code",
   "execution_count": 4,
   "outputs": [],
   "source": [
    "class Encoder(nn.Module):\n",
    "    def __init__(self, input_dim, hidden_dim, latent_dim):\n",
    "        super().__init__()\n",
    "        self.input1 = nn.Linear(input_dim, hidden_dim)\n",
    "        self.input2 = nn.Linear(hidden_dim, hidden_dim)\n",
    "        self.mean = nn.Linear(hidden_dim, latent_dim)\n",
    "        self.var = nn.Linear(hidden_dim, latent_dim)\n",
    "\n",
    "        self.LeakyReLU = nn.LeakyReLU(0.2)\n",
    "        self.training = True\n",
    "\n",
    "    def forward(self, x):\n",
    "        h_ = self.LeakyReLU(self.input1(x))\n",
    "        h_ = self.LeakyReLU(self.input2(h_))\n",
    "        mean = self.mean(h_)\n",
    "        log_var = self.var(h_)\n",
    "        return mean, log_var\n",
    "\n",
    "\n",
    "class Decoder(nn.Module):\n",
    "    def __init__(self, latent_dim, hidden_dim, output_dim):\n",
    "        super().__init__()\n",
    "        self.input1 = nn.Linear(latent_dim, hidden_dim)\n",
    "        self.input2 = nn.Linear(hidden_dim, hidden_dim)\n",
    "        self.output = nn.Linear(hidden_dim, output_dim)\n",
    "        self.LeakyReLU = nn.LeakyReLU(0.2)\n",
    "\n",
    "    def forward(self, x):\n",
    "        h = self.LeakyReLU(self.input1(x))\n",
    "        h = self.LeakyReLU(self.input2(h))\n",
    "        x_hat = torch.sigmoid(self.output(h))\n",
    "        return x_hat\n",
    "\n",
    "\n",
    "class Model_network(nn.Module):\n",
    "    def __init__(self, Encoder, Decoder):\n",
    "        super().__init__()\n",
    "        self.Encoder = Encoder\n",
    "        self.Decoder = Decoder\n",
    "\n",
    "    def reparameterization(self, mean, var):\n",
    "        epsilon = torch.randn_like(var).to(device)\n",
    "        z = mean + var * epsilon\n",
    "        return z\n",
    "\n",
    "    def forward(self, x):\n",
    "        mean, log_var = self.Encoder(x)\n",
    "        z = self.reparameterization(mean, torch.exp(0.5 * log_var))\n",
    "        x_hat = self.Decoder(z)\n",
    "        return x_hat, mean, log_var"
   ],
   "metadata": {
    "collapsed": false,
    "ExecuteTime": {
     "end_time": "2023-10-10T05:19:29.160925700Z",
     "start_time": "2023-10-10T05:19:29.153922800Z"
    }
   },
   "id": "3da4ad183f5fb261"
  },
  {
   "cell_type": "code",
   "execution_count": 5,
   "outputs": [],
   "source": [
    "x_dim = 784\n",
    "hidden_dim = 400\n",
    "latent_dim = 200\n",
    "epochs = 30\n",
    "batch_size = 100\n",
    "\n",
    "encoder = Encoder(x_dim, hidden_dim, latent_dim).to(device)\n",
    "decoder = Decoder(latent_dim, hidden_dim, x_dim).to(device)\n",
    "model = Model_network(encoder, decoder).to(device)"
   ],
   "metadata": {
    "collapsed": false,
    "ExecuteTime": {
     "end_time": "2023-10-10T05:19:29.317815200Z",
     "start_time": "2023-10-10T05:19:29.158925800Z"
    }
   },
   "id": "44a228176dcde7e7"
  },
  {
   "cell_type": "code",
   "execution_count": 6,
   "outputs": [],
   "source": [
    "def loss_function(x, x_hat, mean, log_var):\n",
    "    reproduction_loss = nn.functional.binary_cross_entropy(x_hat, x, reduction=\"sum\")\n",
    "    KLD = -0.5 * torch.sum(1 + log_var - mean.pow(2) - log_var.exp())\n",
    "    return reproduction_loss, KLD\n",
    "\n",
    "\n",
    "optimizer = optim.Adam(model.parameters(), lr=1e-3)"
   ],
   "metadata": {
    "collapsed": false,
    "ExecuteTime": {
     "end_time": "2023-10-10T05:19:29.317815200Z",
     "start_time": "2023-10-10T05:19:29.311066Z"
    }
   },
   "id": "a5d51ccffe775ea2"
  },
  {
   "cell_type": "code",
   "execution_count": 7,
   "outputs": [],
   "source": [
    "saved_loc = \"scalar/\"\n",
    "writer = SummaryWriter(saved_loc)\n",
    "\n",
    "model.train()\n",
    "\n",
    "\n",
    "def train(epoch, model, train_loder, optimizer):\n",
    "    train_loss = 0\n",
    "    for batch_idx, (x, _) in enumerate(train_loder):\n",
    "        x = x.view(batch_size, x_dim)\n",
    "        x = x.to(device)\n",
    "\n",
    "        optimizer.zero_grad()\n",
    "        x_hat, mean, log_var = model(x)\n",
    "        BCE, KLD = loss_function(x, x_hat, mean, log_var)\n",
    "        loss = BCE + KLD\n",
    "        writer.add_scalar(\n",
    "            \"Train/Reconstruction Error\",\n",
    "            BCE.item(),\n",
    "            batch_idx + epoch * len(train_loder.dataset) / batch_size,\n",
    "        )\n",
    "        writer.add_scalar(\n",
    "            \"Train/KL-Divergence\",\n",
    "            KLD.item(),\n",
    "            batch_idx + epoch * len(train_loder.dataset) / batch_size,\n",
    "        )\n",
    "        writer.add_scalar(\n",
    "            \"Train/Total Loss\",\n",
    "            loss.item(),\n",
    "            batch_idx + epoch * len(train_loder.dataset) / batch_size,\n",
    "        )\n",
    "        train_loss += loss.item()\n",
    "        loss.backward()\n",
    "        optimizer.step()\n",
    "\n",
    "        if batch_idx % 100 == 0:\n",
    "            print(\n",
    "                f\"Train Epoch: {epoch} [{batch_idx * len(x)}/{len(train_loder.dataset)} ({100. * batch_idx / len(train_loder):.0f}%)]\\tLoss: {loss.item() / len(x):.6f}\"\n",
    "            )\n",
    "    print(\n",
    "        \"====> Epoch: {} Average loss: {:.4f}\".format(\n",
    "            epoch, train_loss / len(train_loder.dataset)\n",
    "        )\n",
    "    )"
   ],
   "metadata": {
    "collapsed": false,
    "ExecuteTime": {
     "end_time": "2023-10-10T05:19:29.331094400Z",
     "start_time": "2023-10-10T05:19:29.317815200Z"
    }
   },
   "id": "4eea97f8410eb145"
  },
  {
   "cell_type": "code",
   "execution_count": 8,
   "outputs": [],
   "source": [
    "def test(epoch, model, test_loader):\n",
    "    model.eval()\n",
    "    test_loss = 0\n",
    "    with torch.no_grad():\n",
    "        for batch_idx, (x, _) in enumerate(test_loader):\n",
    "            x = x.view(batch_size, x_dim)\n",
    "            x = x.to(device)\n",
    "            x_hat, mean, log_var = model(x)\n",
    "            BCE, KLD = loss_function(x, x_hat, mean, log_var)\n",
    "            loss = BCE + KLD\n",
    "\n",
    "            writer.add_scalar(\n",
    "                \"Test/Reconstruction Error\",\n",
    "                BCE.item(),\n",
    "                batch_idx + epoch * len(test_loader.dataset) / batch_size,\n",
    "            )\n",
    "            writer.add_scalar(\n",
    "                \"Test/KL-Divergence\",\n",
    "                KLD.item(),\n",
    "                batch_idx + epoch * len(test_loader.dataset) / batch_size,\n",
    "            )\n",
    "            writer.add_scalar(\n",
    "                \"Test/Total Loss\",\n",
    "                loss.item(),\n",
    "                batch_idx + epoch * len(test_loader.dataset) / batch_size,\n",
    "            )\n",
    "            test_loss += loss.item()\n",
    "\n",
    "            if batch_idx == 0:\n",
    "                n = min(x.size(0), 8)\n",
    "                comparison = torch.cat([x[:n], x_hat.view(batch_size, x_dim)[:n]])\n",
    "                grid = torchvision.utils.make_grid(comparison.cpu())\n",
    "                writer.add_image(\n",
    "                    \"Test image - Above: real data, below: reconstructed data\",\n",
    "                    grid,\n",
    "                    epoch,\n",
    "                )"
   ],
   "metadata": {
    "collapsed": false,
    "ExecuteTime": {
     "end_time": "2023-10-10T05:19:29.343071500Z",
     "start_time": "2023-10-10T05:19:29.331094400Z"
    }
   },
   "id": "a3b4a4b3a69c9ae5"
  },
  {
   "cell_type": "code",
   "execution_count": 9,
   "outputs": [
    {
     "data": {
      "text/plain": "  0%|          | 0/30 [00:00<?, ?it/s]",
      "application/vnd.jupyter.widget-view+json": {
       "version_major": 2,
       "version_minor": 0,
       "model_id": "e35516ffc874444fbf1a2f3d25518955"
      }
     },
     "metadata": {},
     "output_type": "display_data"
    },
    {
     "name": "stdout",
     "output_type": "stream",
     "text": [
      "Train Epoch: 0 [0/60000 (0%)]\tLoss: 545.455664\n",
      "Train Epoch: 0 [10000/60000 (17%)]\tLoss: 196.068516\n",
      "Train Epoch: 0 [20000/60000 (33%)]\tLoss: 176.250723\n",
      "Train Epoch: 0 [30000/60000 (50%)]\tLoss: 168.489102\n",
      "Train Epoch: 0 [40000/60000 (67%)]\tLoss: 152.664199\n",
      "Train Epoch: 0 [50000/60000 (83%)]\tLoss: 150.914277\n",
      "====> Epoch: 0 Average loss: 173.6330\n",
      "\n",
      "Train Epoch: 1 [0/60000 (0%)]\tLoss: 146.845811\n",
      "Train Epoch: 1 [10000/60000 (17%)]\tLoss: 134.045049\n",
      "Train Epoch: 1 [20000/60000 (33%)]\tLoss: 125.548047\n",
      "Train Epoch: 1 [30000/60000 (50%)]\tLoss: 124.920332\n",
      "Train Epoch: 1 [40000/60000 (67%)]\tLoss: 125.342275\n",
      "Train Epoch: 1 [50000/60000 (83%)]\tLoss: 123.736230\n",
      "====> Epoch: 1 Average loss: 128.3812\n",
      "Train Epoch: 2 [0/60000 (0%)]\tLoss: 115.108936\n",
      "Train Epoch: 2 [10000/60000 (17%)]\tLoss: 111.374316\n",
      "Train Epoch: 2 [20000/60000 (33%)]\tLoss: 121.361719\n",
      "Train Epoch: 2 [30000/60000 (50%)]\tLoss: 116.587119\n",
      "Train Epoch: 2 [40000/60000 (67%)]\tLoss: 114.488516\n",
      "Train Epoch: 2 [50000/60000 (83%)]\tLoss: 112.273633\n",
      "====> Epoch: 2 Average loss: 116.5594\n",
      "Train Epoch: 3 [0/60000 (0%)]\tLoss: 111.428545\n",
      "Train Epoch: 3 [10000/60000 (17%)]\tLoss: 119.795098\n",
      "Train Epoch: 3 [20000/60000 (33%)]\tLoss: 111.628887\n",
      "Train Epoch: 3 [30000/60000 (50%)]\tLoss: 113.308066\n",
      "Train Epoch: 3 [40000/60000 (67%)]\tLoss: 106.695293\n",
      "Train Epoch: 3 [50000/60000 (83%)]\tLoss: 110.191025\n",
      "====> Epoch: 3 Average loss: 112.1319\n",
      "Train Epoch: 4 [0/60000 (0%)]\tLoss: 107.436826\n",
      "Train Epoch: 4 [10000/60000 (17%)]\tLoss: 112.915977\n",
      "Train Epoch: 4 [20000/60000 (33%)]\tLoss: 107.400244\n",
      "Train Epoch: 4 [30000/60000 (50%)]\tLoss: 110.654160\n",
      "Train Epoch: 4 [40000/60000 (67%)]\tLoss: 106.526426\n",
      "Train Epoch: 4 [50000/60000 (83%)]\tLoss: 110.262988\n",
      "====> Epoch: 4 Average loss: 109.7575\n",
      "Train Epoch: 5 [0/60000 (0%)]\tLoss: 110.074316\n",
      "Train Epoch: 5 [10000/60000 (17%)]\tLoss: 103.483877\n",
      "Train Epoch: 5 [20000/60000 (33%)]\tLoss: 105.325215\n",
      "Train Epoch: 5 [30000/60000 (50%)]\tLoss: 108.774023\n",
      "Train Epoch: 5 [40000/60000 (67%)]\tLoss: 105.207734\n",
      "Train Epoch: 5 [50000/60000 (83%)]\tLoss: 110.506719\n",
      "====> Epoch: 5 Average loss: 108.0817\n",
      "Train Epoch: 6 [0/60000 (0%)]\tLoss: 105.631855\n",
      "Train Epoch: 6 [10000/60000 (17%)]\tLoss: 101.203594\n",
      "Train Epoch: 6 [20000/60000 (33%)]\tLoss: 102.262187\n",
      "Train Epoch: 6 [30000/60000 (50%)]\tLoss: 110.081309\n",
      "Train Epoch: 6 [40000/60000 (67%)]\tLoss: 106.682812\n",
      "Train Epoch: 6 [50000/60000 (83%)]\tLoss: 107.878613\n",
      "====> Epoch: 6 Average loss: 106.9279\n",
      "Train Epoch: 7 [0/60000 (0%)]\tLoss: 102.837422\n",
      "Train Epoch: 7 [10000/60000 (17%)]\tLoss: 105.124648\n",
      "Train Epoch: 7 [20000/60000 (33%)]\tLoss: 108.168594\n",
      "Train Epoch: 7 [30000/60000 (50%)]\tLoss: 105.035938\n",
      "Train Epoch: 7 [40000/60000 (67%)]\tLoss: 105.636914\n",
      "Train Epoch: 7 [50000/60000 (83%)]\tLoss: 100.754629\n",
      "====> Epoch: 7 Average loss: 105.9735\n",
      "\n",
      "Train Epoch: 8 [0/60000 (0%)]\tLoss: 104.976738\n",
      "Train Epoch: 8 [10000/60000 (17%)]\tLoss: 106.829414\n",
      "Train Epoch: 8 [20000/60000 (33%)]\tLoss: 109.541016\n",
      "Train Epoch: 8 [30000/60000 (50%)]\tLoss: 103.937012\n",
      "Train Epoch: 8 [40000/60000 (67%)]\tLoss: 104.888818\n",
      "Train Epoch: 8 [50000/60000 (83%)]\tLoss: 105.967988\n",
      "====> Epoch: 8 Average loss: 105.3685\n",
      "\n",
      "Train Epoch: 9 [0/60000 (0%)]\tLoss: 107.464551\n",
      "Train Epoch: 9 [10000/60000 (17%)]\tLoss: 107.252363\n",
      "Train Epoch: 9 [20000/60000 (33%)]\tLoss: 102.001426\n",
      "Train Epoch: 9 [30000/60000 (50%)]\tLoss: 108.615762\n",
      "Train Epoch: 9 [40000/60000 (67%)]\tLoss: 106.118437\n",
      "Train Epoch: 9 [50000/60000 (83%)]\tLoss: 101.620078\n",
      "====> Epoch: 9 Average loss: 104.6922\n",
      "\n",
      "Train Epoch: 10 [0/60000 (0%)]\tLoss: 102.406602\n",
      "Train Epoch: 10 [10000/60000 (17%)]\tLoss: 106.412568\n",
      "Train Epoch: 10 [20000/60000 (33%)]\tLoss: 105.430527\n",
      "Train Epoch: 10 [30000/60000 (50%)]\tLoss: 100.888154\n",
      "Train Epoch: 10 [40000/60000 (67%)]\tLoss: 104.785898\n",
      "Train Epoch: 10 [50000/60000 (83%)]\tLoss: 106.915371\n",
      "====> Epoch: 10 Average loss: 104.2365\n",
      "\n",
      "Train Epoch: 11 [0/60000 (0%)]\tLoss: 101.894316\n",
      "Train Epoch: 11 [10000/60000 (17%)]\tLoss: 102.953770\n",
      "Train Epoch: 11 [20000/60000 (33%)]\tLoss: 109.102412\n",
      "Train Epoch: 11 [30000/60000 (50%)]\tLoss: 102.324668\n",
      "Train Epoch: 11 [40000/60000 (67%)]\tLoss: 102.620176\n",
      "Train Epoch: 11 [50000/60000 (83%)]\tLoss: 103.917510\n",
      "====> Epoch: 11 Average loss: 103.7784\n",
      "\n",
      "Train Epoch: 12 [0/60000 (0%)]\tLoss: 102.364180\n",
      "Train Epoch: 12 [10000/60000 (17%)]\tLoss: 106.731826\n",
      "Train Epoch: 12 [20000/60000 (33%)]\tLoss: 108.166924\n",
      "Train Epoch: 12 [30000/60000 (50%)]\tLoss: 101.685791\n",
      "Train Epoch: 12 [40000/60000 (67%)]\tLoss: 101.592305\n",
      "Train Epoch: 12 [50000/60000 (83%)]\tLoss: 102.831963\n",
      "====> Epoch: 12 Average loss: 103.3555\n",
      "\n",
      "Train Epoch: 13 [0/60000 (0%)]\tLoss: 101.235830\n",
      "Train Epoch: 13 [10000/60000 (17%)]\tLoss: 101.061318\n",
      "Train Epoch: 13 [20000/60000 (33%)]\tLoss: 103.889219\n",
      "Train Epoch: 13 [30000/60000 (50%)]\tLoss: 102.752686\n",
      "Train Epoch: 13 [40000/60000 (67%)]\tLoss: 110.572842\n",
      "Train Epoch: 13 [50000/60000 (83%)]\tLoss: 102.526992\n",
      "====> Epoch: 13 Average loss: 103.0026\n",
      "\n",
      "Train Epoch: 14 [0/60000 (0%)]\tLoss: 104.182998\n",
      "Train Epoch: 14 [10000/60000 (17%)]\tLoss: 99.393926\n",
      "Train Epoch: 14 [20000/60000 (33%)]\tLoss: 98.541318\n",
      "Train Epoch: 14 [30000/60000 (50%)]\tLoss: 105.372031\n",
      "Train Epoch: 14 [40000/60000 (67%)]\tLoss: 101.754238\n",
      "Train Epoch: 14 [50000/60000 (83%)]\tLoss: 107.226533\n",
      "====> Epoch: 14 Average loss: 102.6596\n",
      "\n",
      "Train Epoch: 15 [0/60000 (0%)]\tLoss: 99.314434\n",
      "Train Epoch: 15 [10000/60000 (17%)]\tLoss: 101.980117\n",
      "Train Epoch: 15 [20000/60000 (33%)]\tLoss: 102.737754\n",
      "Train Epoch: 15 [30000/60000 (50%)]\tLoss: 103.072969\n",
      "Train Epoch: 15 [40000/60000 (67%)]\tLoss: 101.698105\n",
      "Train Epoch: 15 [50000/60000 (83%)]\tLoss: 99.662617\n",
      "====> Epoch: 15 Average loss: 102.3887\n",
      "\n",
      "Train Epoch: 16 [0/60000 (0%)]\tLoss: 102.997959\n",
      "Train Epoch: 16 [10000/60000 (17%)]\tLoss: 103.382988\n",
      "Train Epoch: 16 [20000/60000 (33%)]\tLoss: 94.694043\n",
      "Train Epoch: 16 [30000/60000 (50%)]\tLoss: 103.893223\n",
      "Train Epoch: 16 [40000/60000 (67%)]\tLoss: 102.356631\n",
      "Train Epoch: 16 [50000/60000 (83%)]\tLoss: 96.502305\n",
      "====> Epoch: 16 Average loss: 102.1218\n",
      "\n",
      "Train Epoch: 17 [0/60000 (0%)]\tLoss: 100.421338\n",
      "Train Epoch: 17 [10000/60000 (17%)]\tLoss: 100.609873\n",
      "Train Epoch: 17 [20000/60000 (33%)]\tLoss: 99.352607\n",
      "Train Epoch: 17 [30000/60000 (50%)]\tLoss: 104.614053\n",
      "Train Epoch: 17 [40000/60000 (67%)]\tLoss: 101.759629\n",
      "Train Epoch: 17 [50000/60000 (83%)]\tLoss: 103.005605\n",
      "====> Epoch: 17 Average loss: 101.9588\n",
      "\n",
      "Train Epoch: 18 [0/60000 (0%)]\tLoss: 97.804258\n",
      "Train Epoch: 18 [10000/60000 (17%)]\tLoss: 103.019414\n",
      "Train Epoch: 18 [20000/60000 (33%)]\tLoss: 100.328281\n",
      "Train Epoch: 18 [30000/60000 (50%)]\tLoss: 102.942061\n",
      "Train Epoch: 18 [40000/60000 (67%)]\tLoss: 104.495273\n",
      "Train Epoch: 18 [50000/60000 (83%)]\tLoss: 102.602695\n",
      "====> Epoch: 18 Average loss: 101.7313\n",
      "\n",
      "Train Epoch: 19 [0/60000 (0%)]\tLoss: 101.334385\n",
      "Train Epoch: 19 [10000/60000 (17%)]\tLoss: 100.923418\n",
      "Train Epoch: 19 [20000/60000 (33%)]\tLoss: 100.814443\n",
      "Train Epoch: 19 [30000/60000 (50%)]\tLoss: 99.924678\n",
      "Train Epoch: 19 [40000/60000 (67%)]\tLoss: 100.856133\n",
      "Train Epoch: 19 [50000/60000 (83%)]\tLoss: 101.616240\n",
      "====> Epoch: 19 Average loss: 101.5428\n",
      "\n",
      "Train Epoch: 20 [0/60000 (0%)]\tLoss: 108.344844\n",
      "Train Epoch: 20 [10000/60000 (17%)]\tLoss: 97.798330\n",
      "Train Epoch: 20 [20000/60000 (33%)]\tLoss: 102.312559\n",
      "Train Epoch: 20 [30000/60000 (50%)]\tLoss: 102.366182\n",
      "Train Epoch: 20 [40000/60000 (67%)]\tLoss: 102.660000\n",
      "Train Epoch: 20 [50000/60000 (83%)]\tLoss: 101.882949\n",
      "====> Epoch: 20 Average loss: 101.3697\n",
      "\n",
      "Train Epoch: 21 [0/60000 (0%)]\tLoss: 102.273770\n",
      "Train Epoch: 21 [10000/60000 (17%)]\tLoss: 99.524727\n",
      "Train Epoch: 21 [20000/60000 (33%)]\tLoss: 104.446475\n",
      "Train Epoch: 21 [30000/60000 (50%)]\tLoss: 101.337363\n",
      "Train Epoch: 21 [40000/60000 (67%)]\tLoss: 105.176406\n",
      "Train Epoch: 21 [50000/60000 (83%)]\tLoss: 105.039844\n",
      "====> Epoch: 21 Average loss: 101.1782\n",
      "\n",
      "Train Epoch: 22 [0/60000 (0%)]\tLoss: 101.284990\n",
      "Train Epoch: 22 [10000/60000 (17%)]\tLoss: 101.314600\n",
      "Train Epoch: 22 [20000/60000 (33%)]\tLoss: 104.667793\n",
      "Train Epoch: 22 [30000/60000 (50%)]\tLoss: 98.448496\n",
      "Train Epoch: 22 [40000/60000 (67%)]\tLoss: 101.410752\n",
      "Train Epoch: 22 [50000/60000 (83%)]\tLoss: 98.768779\n",
      "====> Epoch: 22 Average loss: 101.0778\n",
      "\n",
      "Train Epoch: 23 [0/60000 (0%)]\tLoss: 101.554922\n",
      "Train Epoch: 23 [10000/60000 (17%)]\tLoss: 97.636455\n",
      "Train Epoch: 23 [20000/60000 (33%)]\tLoss: 98.692480\n",
      "Train Epoch: 23 [30000/60000 (50%)]\tLoss: 99.341816\n",
      "Train Epoch: 23 [40000/60000 (67%)]\tLoss: 103.854072\n",
      "Train Epoch: 23 [50000/60000 (83%)]\tLoss: 102.747139\n",
      "====> Epoch: 23 Average loss: 100.9537\n",
      "\n",
      "Train Epoch: 24 [0/60000 (0%)]\tLoss: 100.499844\n",
      "Train Epoch: 24 [10000/60000 (17%)]\tLoss: 98.095820\n",
      "Train Epoch: 24 [20000/60000 (33%)]\tLoss: 100.090664\n",
      "Train Epoch: 24 [30000/60000 (50%)]\tLoss: 101.766055\n",
      "Train Epoch: 24 [40000/60000 (67%)]\tLoss: 97.540645\n",
      "Train Epoch: 24 [50000/60000 (83%)]\tLoss: 98.677686\n",
      "====> Epoch: 24 Average loss: 100.8101\n",
      "\n",
      "Train Epoch: 25 [0/60000 (0%)]\tLoss: 100.657246\n",
      "Train Epoch: 25 [10000/60000 (17%)]\tLoss: 98.329902\n",
      "Train Epoch: 25 [20000/60000 (33%)]\tLoss: 104.158379\n",
      "Train Epoch: 25 [30000/60000 (50%)]\tLoss: 101.993906\n",
      "Train Epoch: 25 [40000/60000 (67%)]\tLoss: 101.026543\n",
      "Train Epoch: 25 [50000/60000 (83%)]\tLoss: 100.311123\n",
      "====> Epoch: 25 Average loss: 100.6985\n",
      "\n",
      "Train Epoch: 26 [0/60000 (0%)]\tLoss: 99.913613\n",
      "Train Epoch: 26 [10000/60000 (17%)]\tLoss: 103.983467\n",
      "Train Epoch: 26 [20000/60000 (33%)]\tLoss: 97.668594\n",
      "Train Epoch: 26 [30000/60000 (50%)]\tLoss: 99.270508\n",
      "Train Epoch: 26 [40000/60000 (67%)]\tLoss: 100.274619\n",
      "Train Epoch: 26 [50000/60000 (83%)]\tLoss: 97.759346\n",
      "====> Epoch: 26 Average loss: 100.6095\n",
      "\n",
      "Train Epoch: 27 [0/60000 (0%)]\tLoss: 101.970342\n",
      "Train Epoch: 27 [10000/60000 (17%)]\tLoss: 97.035938\n",
      "Train Epoch: 27 [20000/60000 (33%)]\tLoss: 100.260293\n",
      "Train Epoch: 27 [30000/60000 (50%)]\tLoss: 97.352324\n",
      "Train Epoch: 27 [40000/60000 (67%)]\tLoss: 97.497920\n",
      "Train Epoch: 27 [50000/60000 (83%)]\tLoss: 102.023379\n",
      "====> Epoch: 27 Average loss: 100.4632\n",
      "\n",
      "Train Epoch: 28 [0/60000 (0%)]\tLoss: 103.867061\n",
      "Train Epoch: 28 [10000/60000 (17%)]\tLoss: 99.962070\n",
      "Train Epoch: 28 [20000/60000 (33%)]\tLoss: 98.629883\n",
      "Train Epoch: 28 [30000/60000 (50%)]\tLoss: 101.604785\n",
      "Train Epoch: 28 [40000/60000 (67%)]\tLoss: 100.674629\n",
      "Train Epoch: 28 [50000/60000 (83%)]\tLoss: 99.644209\n",
      "====> Epoch: 28 Average loss: 100.4097\n",
      "\n",
      "Train Epoch: 29 [0/60000 (0%)]\tLoss: 97.362490\n",
      "Train Epoch: 29 [10000/60000 (17%)]\tLoss: 102.243564\n",
      "Train Epoch: 29 [20000/60000 (33%)]\tLoss: 102.470850\n",
      "Train Epoch: 29 [30000/60000 (50%)]\tLoss: 99.759512\n",
      "Train Epoch: 29 [40000/60000 (67%)]\tLoss: 102.115801\n",
      "Train Epoch: 29 [50000/60000 (83%)]\tLoss: 98.604473\n",
      "====> Epoch: 29 Average loss: 100.2825\n"
     ]
    }
   ],
   "source": [
    "from tqdm.auto import tqdm\n",
    "\n",
    "for epoch in tqdm(range(0, epochs)):\n",
    "    train(epoch, model, train_loder, optimizer)\n",
    "    test(epoch, model, test_loader)\n",
    "    print(\"\\n\")\n",
    "writer.close()"
   ],
   "metadata": {
    "collapsed": false,
    "ExecuteTime": {
     "end_time": "2023-10-10T05:23:27.750158Z",
     "start_time": "2023-10-10T05:19:29.334809100Z"
    }
   },
   "id": "e30343d374696b2e"
  },
  {
   "cell_type": "code",
   "execution_count": 10,
   "outputs": [
    {
     "data": {
      "text/plain": "Launching TensorBoard..."
     },
     "metadata": {},
     "output_type": "display_data"
    }
   ],
   "source": [
    "%load_ext tensorboard\n",
    "%tensorboard --logdir scalar --port=6013"
   ],
   "metadata": {
    "collapsed": false,
    "ExecuteTime": {
     "end_time": "2023-10-10T05:23:41.904878100Z",
     "start_time": "2023-10-10T05:23:34.227881700Z"
    }
   },
   "id": "6b62a8382698aeeb"
  }
 ],
 "metadata": {
  "kernelspec": {
   "display_name": "Python 3",
   "language": "python",
   "name": "python3"
  },
  "language_info": {
   "codemirror_mode": {
    "name": "ipython",
    "version": 2
   },
   "file_extension": ".py",
   "mimetype": "text/x-python",
   "name": "python",
   "nbconvert_exporter": "python",
   "pygments_lexer": "ipython2",
   "version": "2.7.6"
  }
 },
 "nbformat": 4,
 "nbformat_minor": 5
}
