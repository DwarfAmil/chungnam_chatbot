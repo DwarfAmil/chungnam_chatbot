{
 "cells": [
  {
   "cell_type": "code",
   "execution_count": 11,
   "id": "initial_id",
   "metadata": {
    "collapsed": true,
    "ExecuteTime": {
     "end_time": "2023-10-05T03:25:57.566648300Z",
     "start_time": "2023-10-05T03:25:57.560109100Z"
    }
   },
   "outputs": [],
   "source": [
    "import gym\n",
    "import math\n",
    "import random\n",
    "import numpy as np\n",
    "import matplotlib\n",
    "import matplotlib.pyplot as plt\n",
    "from collections import namedtuple\n",
    "from itertools import count\n",
    "from PIL import Image\n",
    "\n",
    "import torch\n",
    "import torch.nn as nn\n",
    "import torch.optim as optim\n",
    "import torch.nn.functional as F\n",
    "import torchvision.transforms as T\n",
    "\n",
    "env = gym.make(\"CartPole-v1\", render_mode=\"rgb_array\").unwrapped\n",
    "plt.ion()\n",
    "device = torch.device(\"cuda:0\" if torch.cuda.is_available() else \"cpu\")"
   ]
  },
  {
   "cell_type": "code",
   "execution_count": 12,
   "outputs": [],
   "source": [
    "from matplotlib import font_manager\n",
    "font_fname = \"C:/Windows/Fonts/malgun.ttf\"\n",
    "font_family = font_manager.FontProperties(fname=font_fname).get_name()\n",
    "plt.rcParams[\"font.family\"] = font_family"
   ],
   "metadata": {
    "collapsed": false,
    "ExecuteTime": {
     "end_time": "2023-10-05T03:25:57.608446900Z",
     "start_time": "2023-10-05T03:25:57.565321100Z"
    }
   },
   "id": "508c054410b2f60f"
  },
  {
   "cell_type": "code",
   "execution_count": 13,
   "outputs": [],
   "source": [
    "Transition = namedtuple(\"Transition\", (\"state\", \"action\", \"next_state\", \"reward\"))\n",
    "\n",
    "class ReplayMemory(object):\n",
    "    def __init__(self, capacity):\n",
    "        self.capacity = capacity\n",
    "        self.memory = []\n",
    "        self.position = 0\n",
    "        \n",
    "    def push(self, *args):\n",
    "        if len(self.memory) < self.capacity:\n",
    "            self.memory.append(None)\n",
    "        self.memory[self.position] = Transition(*args)\n",
    "        self.position = (self.position + 1) % self.capacity\n",
    "        \n",
    "    def sample(self, batch_size):\n",
    "        return random.sample(self.memory, batch_size)\n",
    "    \n",
    "    def __len__(self):\n",
    "        return len(self.memory)"
   ],
   "metadata": {
    "collapsed": false,
    "ExecuteTime": {
     "end_time": "2023-10-05T03:25:57.609446500Z",
     "start_time": "2023-10-05T03:25:57.574607900Z"
    }
   },
   "id": "94160853fbd4252c"
  },
  {
   "cell_type": "code",
   "execution_count": 14,
   "outputs": [],
   "source": [
    "class DQN(nn.Module):\n",
    "    def __init__(self, h, w, outputs):\n",
    "        super(DQN, self).__init__()\n",
    "        self.conv1 = nn.Conv2d(3, 16, kernel_size=5, stride=2)\n",
    "        self.bn1 = nn.BatchNorm2d(16)\n",
    "        self.conv2 = nn.Conv2d(16, 32, kernel_size=5, stride=2)\n",
    "        self.bn2 = nn.BatchNorm2d(32)\n",
    "        self.conv3 = nn.Conv2d(32, 32, kernel_size=5, stride=2)\n",
    "        self.bn3 = nn.BatchNorm2d(32)\n",
    "        \n",
    "        def conv2d_size_out(size, kernel_size=5, stride=2):\n",
    "            return (size - (kernel_size - 1) - 1) // stride + 1\n",
    "        \n",
    "        convw = conv2d_size_out(conv2d_size_out(conv2d_size_out(w)))\n",
    "        convh = conv2d_size_out(conv2d_size_out(conv2d_size_out(h)))\n",
    "        linear_input_size = convw * convh * 32\n",
    "        self.head = nn.Linear(linear_input_size, outputs)\n",
    "        \n",
    "    def forward(self, x):\n",
    "        x = F.relu(self.bn1(self.conv1(x)))\n",
    "        x = F.relu(self.bn2(self.conv2(x)))\n",
    "        x = F.relu(self.bn3(self.conv3(x)))\n",
    "        return self.head(x.view(x.size(0), -1))"
   ],
   "metadata": {
    "collapsed": false,
    "ExecuteTime": {
     "end_time": "2023-10-05T03:25:57.609446500Z",
     "start_time": "2023-10-05T03:25:57.583373800Z"
    }
   },
   "id": "e358fbd4cbb34787"
  },
  {
   "cell_type": "code",
   "execution_count": 15,
   "outputs": [
    {
     "name": "stderr",
     "output_type": "stream",
     "text": [
      "C:\\Users\\amil0\\AppData\\Local\\Temp\\ipykernel_22888\\1326023502.py:3: DeprecationWarning: CUBIC is deprecated and will be removed in Pillow 10 (2023-07-01). Use BICUBIC or Resampling.BICUBIC instead.\n",
      "  resize = T.Compose([T.ToPILImage(), T.Resize(40, interpolation=Image.CUBIC), T.ToTensor()])\n"
     ]
    },
    {
     "data": {
      "text/plain": "<Figure size 640x480 with 1 Axes>",
      "image/png": "[encoded data removed]"
     },
     "metadata": {},
     "output_type": "display_data"
    }
   ],
   "source": [
    "import pyglet\n",
    "\n",
    "resize = T.Compose([T.ToPILImage(), T.Resize(40, interpolation=Image.CUBIC), T.ToTensor()])\n",
    "\n",
    "def get_cart_location(screen_width):\n",
    "    world_width = env.x_threshold * 2\n",
    "    scale = screen_width / world_width\n",
    "    return int(env.state[0] * scale + screen_width / 2.0)\n",
    "\n",
    "def get_screen():\n",
    "    screen = env.render().transpose((2, 0, 1))\n",
    "    _, screen_height, screen_width = screen.shape\n",
    "    screen = screen[:, int(screen_height * 0.4):int(screen_width * 0.8)]\n",
    "    view_width = int(screen_width * 0.6)\n",
    "    cart_location = get_cart_location(screen_width)\n",
    "    \n",
    "    if cart_location < view_width // 2:\n",
    "        slice_range = slice(view_width)\n",
    "    elif cart_location > (screen_width - view_width // 2):\n",
    "        slice_range = slice(-view_width, None)\n",
    "    else:\n",
    "        slice_range = slice(cart_location - view_width // 2, cart_location + view_width // 2)\n",
    "    screen = screen[:, :, slice_range]\n",
    "    screen = np.ascontiguousarray(screen, dtype=np.float32) / 255\n",
    "    screen = torch.from_numpy(screen)\n",
    "    return resize(screen).unsqueeze(0).to(device)\n",
    "\n",
    "env.reset()\n",
    "plt.figure()\n",
    "plt.imshow(get_screen().cpu().squeeze(0).permute(1, 2, 0).numpy(), interpolation=\"none\")\n",
    "plt.title(\"testing screen\")\n",
    "plt.show()"
   ],
   "metadata": {
    "collapsed": false,
    "ExecuteTime": {
     "end_time": "2023-10-05T03:25:58.775649500Z",
     "start_time": "2023-10-05T03:25:58.636776500Z"
    }
   },
   "id": "6c88aa78320776bf"
  },
  {
   "cell_type": "code",
   "execution_count": 16,
   "outputs": [],
   "source": [
    "BATCH_SIZE = 128\n",
    "GAMMA = 0.999\n",
    "EPS_START = 0.9\n",
    "EPS_END = 0.05\n",
    "EPS_DECAY = 200\n",
    "TARGET_UPDATE = 10\n",
    "\n",
    "init_screen = get_screen()\n",
    "_, _, screen_height, screen_width = init_screen.shape\n",
    "n_actions = env.action_space.n\n",
    "policy_net = DQN(screen_height, screen_width, n_actions).to(device)\n",
    "target_net = DQN(screen_height, screen_width, n_actions).to(device)\n",
    "target_net.load_state_dict(policy_net.state_dict())\n",
    "target_net.eval()\n",
    "\n",
    "optimizer = optim.RMSprop(policy_net.parameters())\n",
    "memory = ReplayMemory(10000)\n",
    "\n",
    "steps_done = 0\n",
    "\n",
    "def select_action(state):\n",
    "    global steps_done\n",
    "    sample = random.random()\n",
    "    eps_threshold = EPS_END + (EPS_START - EPS_END) * math.exp(-1. * steps_done / EPS_DECAY)\n",
    "    steps_done += 1\n",
    "    if sample > eps_threshold:\n",
    "        with torch.no_grad():\n",
    "            return policy_net(state).max(1)[1].view(1, 1)\n",
    "    else:\n",
    "        return torch.tensor([[random.randrange(n_actions)]], device=device, dtype=torch.long)\n",
    "    \n",
    "episode_durations = []"
   ],
   "metadata": {
    "collapsed": false,
    "ExecuteTime": {
     "end_time": "2023-10-05T03:25:58.862936400Z",
     "start_time": "2023-10-05T03:25:58.767888300Z"
    }
   },
   "id": "5c9a9dc785358aee"
  },
  {
   "cell_type": "code",
   "execution_count": 17,
   "outputs": [],
   "source": [
    "def optimize_model():\n",
    "    if len(memory) < BATCH_SIZE:\n",
    "        return \n",
    "    \n",
    "    transitions = memory.sample(BATCH_SIZE)\n",
    "    batch = Transition(*zip(*transitions))\n",
    "    non_final_mask = torch.tensor(tuple(map(lambda s: s is not None, batch.next_state)), device=device, dtype=torch.bool)\n",
    "    non_final_next_states = torch.cat([s for s in batch.next_state if s is not None])\n",
    "    \n",
    "    state_batch = torch.cat(batch.state)\n",
    "    action_batch = torch.cat(batch.action)\n",
    "    reward_batch = torch.cat(batch.reward)\n",
    "    \n",
    "    state_action_values = policy_net(state_batch).gather(1, action_batch)\n",
    "    next_state_values = torch.zeros(BATCH_SIZE, device=device)\n",
    "    next_state_values[non_final_mask] = target_net(non_final_next_states).max(1)[0].detach()\n",
    "    expected_state_action_values = (next_state_values * GAMMA) + reward_batch\n",
    "    \n",
    "    loss = F.smooth_l1_loss(state_action_values, expected_state_action_values.unsqueeze(1))\n",
    "    optimizer.zero_grad()\n",
    "    loss.backward()\n",
    "    \n",
    "    for param in policy_net.parameters():\n",
    "        param.grad.data.clamp_(-1, 1)\n",
    "    optimizer.step()"
   ],
   "metadata": {
    "collapsed": false,
    "ExecuteTime": {
     "end_time": "2023-10-05T03:25:58.870441900Z",
     "start_time": "2023-10-05T03:25:58.808925600Z"
    }
   },
   "id": "4c92e048cae9679f"
  },
  {
   "cell_type": "code",
   "execution_count": null,
   "outputs": [
    {
     "name": "stdout",
     "output_type": "stream",
     "text": [
      "버틴시간 리스트 [74, 11, 11, 18, 14, 11, 57, 29, 36, 32, 35, 13, 13, 13, 30, 12, 12, 21, 25, 23, 21, 72, 97, 93, 11, 26, 52, 50, 32, 14, 77, 78, 26, 69, 56, 48, 13, 59, 40, 63, 69, 31, 33, 17, 29, 23, 63, 16, 60, 31, 36, 34, 19, 44, 107, 33, 53, 186, 50, 58, 37, 92, 22, 28, 13, 13, 90, 31, 43, 16, 14, 14, 35, 39, 41, 86, 24, 18, 88, 14, 87, 8, 22, 21, 14, 14, 10, 16, 11, 45, 26, 16, 13, 23, 12, 10, 22, 44, 12, 10, 98, 23, 28, 37, 17, 14, 24, 13, 10, 28, 63, 11, 9, 14, 86, 18, 15, 44, 16, 47, 10, 18, 18, 12, 19, 32, 12, 11, 45, 14, 27, 11, 10, 11, 20, 27, 15, 24, 11, 16, 10, 18, 14, 25, 11, 42, 17, 65, 10, 13, 20, 21, 13, 81, 16, 14, 18, 21, 11, 13, 11, 47, 157, 35, 53, 34, 15, 27, 30, 13, 77, 11, 14, 21, 13, 33, 12, 20, 22, 9, 11, 18, 15, 12, 12, 8, 21, 17, 15, 17, 17, 13, 26, 13, 10, 33, 10, 10, 11, 18, 9, 10, 9, 12, 12, 10, 12, 12, 17, 10, 24, 26, 97, 20, 27, 37, 65, 26, 13, 13, 26, 117, 18, 37, 36, 13, 57, 18, 42, 40, 25, 55, 69, 26, 93, 11, 30, 97, 85, 38, 32, 42, 76, 16, 21, 18, 103, 64, 64, 83, 53, 85, 121, 75, 102, 39, 21, 56, 15, 38, 86, 38, 47, 34, 16, 119, 50, 25, 49, 46, 34, 28, 35, 43, 19, 33, 28, 121, 52, 70, 96, 54, 73, 32, 48, 65, 20, 179, 30, 22, 39, 34, 68, 24, 25, 36, 82, 35, 39, 30, 60, 20, 13, 59, 40, 18, 56, 24, 18, 49, 32, 17, 14, 21, 25, 51, 39, 75, 17, 18, 11, 14, 27, 17, 141, 115, 21, 30, 28, 29, 55, 27, 71, 46, 27, 19, 46, 26, 41, 33, 17, 29, 37, 18, 19, 108, 43, 20, 19, 42, 13, 33, 20, 44, 49, 29, 32, 28, 22, 24, 18, 43, 36, 27, 20, 43, 22, 12, 26, 19, 30, 26, 27, 15, 31, 35, 49, 53, 24, 10, 17, 32, 22, 21, 17, 21, 27, 13, 37, 66, 87, 27, 34, 15, 70, 26, 53, 62, 94, 58, 55, 36, 19, 27, 27, 57, 61, 56, 58, 10, 65, 52, 24, 21, 93, 50, 70, 51, 14, 62, 12, 21, 16, 48, 15, 41, 67, 25, 15, 13, 48, 95, 19, 15, 13, 21, 103, 51, 15, 16, 47, 23, 56, 40, 113, 134, 59, 12, 82, 32, 29, 91, 110, 17, 24, 35, 11, 24, 43, 21, 17, 49, 22, 14, 30, 21, 12, 14, 16, 19, 27, 26, 21, 19, 13, 39, 52, 35, 34, 103, 47, 98, 21, 24, 22, 27, 25, 55, 33, 78, 74, 38, 14, 17, 82, 18, 19, 29, 21, 28, 36, 19, 61, 69, 15, 43, 19, 14, 28, 19, 29, 23, 16, 18, 104, 14, 62, 76, 39, 29, 54, 22, 30, 63, 17, 89, 13, 30, 41, 22, 29, 12, 32, 67, 38, 19, 34, 48, 28, 57, 95, 17, 35, 39, 19, 11, 28, 18, 39, 64, 23, 46, 43, 13, 38, 51, 52, 13, 27, 16, 65, 22, 28, 31, 31, 40, 31, 49, 62, 45, 41, 50, 124, 49, 20, 55, 54, 28, 45, 34, 30, 29, 61, 18, 70, 25, 23, 49, 44, 58, 18, 29, 31, 27, 36, 36, 17, 45, 40, 62, 23, 38, 38, 24, 15, 82, 31, 59, 21, 19, 31, 15, 80, 76, 38, 30, 31, 59, 20, 79, 21, 39, 25, 32, 41, 23, 28, 16, 64, 43, 24, 25, 38, 23, 32, 78, 19, 81, 28, 39, 59, 58, 14, 38, 44, 24, 32, 39, 38, 31, 48, 46, 46, 38, 34, 43, 30, 21, 20, 101, 36, 32, 22, 28, 27, 30, 32, 27, 24, 56, 40, 38, 32, 27, 39, 21, 23, 48, 25, 124, 34, 20, 35, 113, 28, 19, 104, 41, 20, 73, 26, 26, 62, 22, 21, 26, 15, 15, 17, 10, 27, 12, 35, 21, 110, 46, 26, 43, 27, 25, 49, 20, 54, 27, 13, 24, 29, 34, 21, 18, 27, 62, 31, 24, 103, 24, 22, 53, 28, 52, 29, 36, 40, 37, 43, 13, 43, 52, 30, 24, 37, 52, 25, 16, 36, 46, 35, 69, 24, 46, 39, 69, 25, 20, 26, 33, 24, 59, 49, 60, 28, 38, 26, 103, 28, 61, 69, 157, 17, 138, 31, 32, 68, 24, 31, 27, 31, 36, 36, 81, 44, 98, 27, 23, 37, 23, 31, 54, 36, 35, 28, 52, 70, 18, 37, 51, 24, 17, 17, 75, 90, 22, 85, 20, 99, 37, 32, 90, 43, 17, 48, 17, 28, 21, 16, 19, 25, 10, 27, 28, 21, 20, 11, 34, 21, 17, 9, 17, 18, 24, 71, 25, 58, 75, 20, 25, 16, 54, 54, 10, 15, 22, 30, 36, 13, 24, 21, 23, 14, 11, 11, 23, 21, 10, 21, 14, 9, 9, 13, 14, 16, 13, 13, 10, 12, 10, 11, 9, 9, 10, 16, 11, 12, 22, 14, 14, 9, 10, 11, 20, 16, 23, 15, 12, 11, 10, 10, 22, 25, 20, 12, 24, 33, 13, 15, 9, 14, 15, 13, 11, 10, 15, 10, 10, 24, 38, 10, 15, 14, 13, 11, 25, 22, 13, 51, 16, 13, 12, 13, 10, 12, 38, 9, 17, 11, 12, 10, 11, 12, 11, 19, 17, 15, 11, 15, 18, 20, 13, 11, 12, 11, 11, 12, 17, 19, 34, 14, 11, 15, 32, 13, 12, 13, 10, 12, 9, 10, 10, 12, 15, 9, 9, 10, 35, 12, 25, 10, 12, 31, 18, 14, 18, 13, 12, 29, 22, 13, 13, 16, 10, 9, 10, 9, 13, 22, 17, 14, 14, 15, 29, 15, 10, 14, 13, 18, 14, 25, 10, 23, 13, 11, 18, 13, 21, 16, 16, 14, 17, 12, 11, 14, 10, 12, 13, 20, 15, 10, 27, 13, 68, 12, 13, 16, 25, 14, 33, 11, 23, 11, 10, 17, 9, 15, 20, 9, 15, 21, 14, 13, 28, 17, 28, 12, 20, 14, 17, 11, 10, 11, 9, 34, 13, 10, 9, 15, 12, 22, 10, 33, 17, 11, 23, 32, 15, 31, 20, 37, 24, 19, 17, 21, 25, 37, 21, 29, 28, 36, 69, 19, 12, 41, 15, 49, 29, 22, 17, 86, 17, 18, 9, 20, 22, 13, 20, 24, 15, 11, 21, 12, 27, 17, 21, 23, 13, 23, 21, 38, 19, 21, 22, 16, 32, 27, 21, 18, 12, 21, 11, 19, 15, 9, 8, 36, 15, 13, 12, 18, 16, 15, 10, 23, 18, 14, 11, 13, 11, 14, 15, 9, 37, 14, 24, 10, 19, 15, 12, 15, 11, 15, 17, 13, 11, 13, 11, 19, 12, 9, 11, 13, 14, 9, 13, 16, 11, 23, 12, 19, 21, 27, 11, 16, 15, 18, 21, 40, 13, 27, 13, 22, 15, 16, 12, 14, 13, 12, 10, 19, 14, 17, 11, 11, 10, 13, 10, 12, 12, 12, 11, 10, 12, 10, 12, 11, 11, 11, 9, 12, 10, 11, 10, 10, 8, 11, 12, 10, 8, 10, 11, 10, 11, 12, 10, 11, 9, 12, 10, 13, 12, 10, 11, 10, 10, 13, 8, 9, 12, 13, 9, 9, 11, 14, 14, 11, 14, 13, 10, 12, 14, 13, 12, 12, 8, 10, 10, 9, 9, 11, 10, 10, 9, 14, 10, 16, 13, 10, 10, 10, 9, 10, 11, 10, 15, 10, 10, 9, 10, 11, 8, 10, 10, 9, 12, 9, 10, 10, 10, 10, 9, 10, 12, 13, 10, 10, 10, 10, 16, 11, 9, 9, 9, 9, 12, 10, 9, 10, 13, 9, 10, 10, 10, 11, 10, 10, 10, 10, 11, 13, 11, 12, 10, 12, 10, 9, 12, 9, 12, 11, 13, 9, 9, 13, 10, 15, 9, 13, 11, 13, 10, 15, 13, 10, 14, 12, 11, 10, 13, 8, 20, 10, 14, 10, 13, 11, 21, 11, 10, 9, 17, 10, 10, 12, 10, 9, 9, 14, 10, 8, 11, 8, 10, 13, 12, 26, 12, 13, 15, 11, 12, 10, 9, 10, 12, 9, 11, 9, 14, 10, 11, 14, 13, 11, 9, 9, 10, 10, 9, 11, 9, 9, 12, 9, 10, 10, 11, 14, 10, 10, 9, 9, 9, 11, 10, 11, 10, 10, 12, 10, 16, 12, 11, 10, 12, 15, 12, 13, 10, 13, 13, 10, 10, 17, 10, 13, 14, 11, 13, 9, 11, 12, 8, 12, 8, 10, 10, 9, 12, 14, 11, 11, 10, 10, 10, 18, 12, 11, 24, 13, 15, 11, 12, 13, 12, 9, 9, 10, 16, 10, 17, 11, 13, 15, 11, 14, 17, 14, 24, 25, 26, 13, 25, 18, 16, 32, 29, 13, 23, 23, 31, 14, 55, 21, 48, 19, 36, 28, 41, 11, 31, 29, 35, 41, 38, 69, 38, 28, 56, 30, 31, 36, 18, 19, 52, 34, 56, 17, 34, 53, 38, 79, 37, 12, 78, 43, 73, 49, 39, 18, 41, 73, 99, 38, 21, 14, 13, 24, 35, 25, 24, 26, 27, 40, 27, 14, 33, 15, 46, 14, 11, 13, 13, 13, 22, 13, 34, 14, 20, 15, 17, 22, 14, 11, 30, 14, 15, 29, 18, 20, 18, 10, 18, 15, 19, 24, 13, 60, 11, 22, 12, 28, 30, 30, 23, 13, 11, 32, 17, 29, 14, 15, 62, 97, 21, 19, 16, 12, 15, 11, 13, 23, 50, 15, 14, 19, 113, 46, 120, 62, 33, 64, 112, 46, 108, 80, 80, 15, 128, 70, 38, 68, 58, 39, 28, 75, 17, 13, 23, 68, 23, 25, 29, 27, 58, 53, 77, 22, 20, 21, 19, 43, 107, 82, 15, 61, 44, 15, 31, 144, 131, 112, 89, 152, 138, 127, 19, 30, 25, 64, 13, 40, 50, 106, 81, 44, 37, 13, 101, 91, 35, 32, 52, 76, 127, 95, 27, 98, 107, 45, 70, 105, 64, 65, 270, 45, 62, 52, 25, 31, 39, 40, 44, 53, 39, 24, 40, 34, 42, 40, 37, 30, 40, 25, 40, 21, 23, 44, 82, 25, 37, 25, 41, 18, 16, 29, 68, 59, 56, 70, 33, 24, 21, 23, 41, 24, 26, 76, 19, 23, 67, 30, 28, 31, 20, 31, 25, 44, 34, 22, 27, 40, 24, 21, 41, 30, 21, 27, 36, 19, 23, 40, 60, 26, 31, 50, 40, 53, 21, 31, 42, 36, 55, 26, 37, 47, 40, 16, 35, 30, 42, 48, 33, 36, 15, 49, 51, 29, 24, 54, 31, 17, 26, 30, 83, 63, 25, 29, 54, 27, 24, 44, 39, 44, 11, 134, 26, 28, 45, 22, 27, 43, 17, 22, 36, 66, 30, 30, 19, 18, 26, 32, 36, 39, 48, 12, 33, 47, 42, 34, 72, 27, 28, 30, 51, 78, 21, 52, 34, 45, 26, 36, 79, 70, 38, 96, 57, 50, 29, 47, 127, 42, 30, 59, 39, 32, 38, 28, 60, 64, 58, 71, 72, 27, 78, 38, 15, 138, 44, 118, 38, 67, 39, 37, 72, 56, 49, 23, 44, 48, 42, 32, 57, 58, 33, 57, 38, 44, 35, 45, 18, 34, 41, 53, 38, 93, 12, 54, 12, 44, 26, 21, 35, 27, 32, 72, 22, 105, 25, 32, 90, 20, 27, 39, 66, 52, 19, 43, 18, 35, 25, 17, 32, 35, 31, 37, 18, 33, 24, 45, 31, 26, 27, 54, 26, 33, 19, 43, 37, 22, 28, 33, 39, 25, 28, 28, 29, 21, 26, 38, 17, 27, 33, 19, 22, 31, 42, 24, 37, 16, 20, 14, 31, 18, 29, 28, 24, 22, 37, 24, 22, 25, 28, 29, 20, 57, 21, 29, 66, 40, 27, 17, 36, 41, 20, 19, 22, 25, 26, 24, 20, 21, 26, 25, 22, 52, 29, 30, 21, 20, 26, 15, 18, 13, 62, 19, 20, 67, 23, 21, 36, 48, 22, 38, 40, 18, 15, 20, 12, 26, 46, 34, 24, 39, 35, 61, 34, 25, 74, 56, 32, 36, 19, 41, 24, 38, 16, 22, 23, 23, 21, 32, 31, 20, 25, 58, 38, 27, 49, 25, 55, 39, 24, 131, 24, 20, 35, 30, 63, 40, 30, 77, 38, 23, 41, 26, 33, 34, 29, 29, 42, 105, 29, 27, 54, 26, 39, 48, 64, 23, 38, 45, 26, 31, 26, 38, 30, 17, 24, 20, 22, 34, 23, 32, 35, 27, 23, 27, 39, 24, 36, 26, 30, 22, 46, 45, 44, 25, 57, 19, 29, 41, 30, 40, 56, 24, 31, 37, 35, 14, 16, 36, 29, 24, 23, 50, 48, 90, 31, 22, 36, 49, 57, 33, 44, 28, 27, 22, 30, 120, 87, 34, 45, 71, 44, 31, 69, 26, 35, 44, 46, 25, 43, 65, 27, 30, 38, 20, 40, 17, 34, 27, 24, 28, 19, 46, 31, 37, 28, 45, 24, 53, 38, 25, 43, 38, 86, 26, 33, 30, 32, 27, 29, 48, 61, 56, 37, 17, 17, 26, 34, 42, 101, 29, 15, 32, 31, 47, 36, 23, 41, 42, 29, 39, 32, 35, 83, 72, 37, 53, 30, 22, 89, 55, 94, 41, 40, 28, 41, 15, 50, 25, 19, 72, 16, 30, 38, 25, 36, 80, 32, 26, 24, 44, 25, 18, 38, 78, 31, 23, 40, 20, 33, 22, 58, 26, 33, 20, 36, 32, 64, 35, 23, 37, 42, 24, 75, 30, 36, 26, 25, 29, 48, 42, 51, 42, 32, 52, 20, 146, 48, 56, 28, 26, 24, 36, 16, 34, 17, 35, 29, 52, 23, 29, 42, 52, 23, 33, 52, 21, 16, 31, 35, 34, 59, 109, 40, 34, 70, 17, 41, 26, 13, 35, 14, 29, 18, 40, 21, 57, 67, 12, 24, 41, 18, 51, 25, 24, 11, 30, 9, 14, 34, 20, 10, 59, 10, 54, 31, 13, 9, 19, 30, 11, 16, 14, 18, 18, 46, 31, 13, 31]\n"
     ]
    },
    {
     "data": {
      "text/plain": "<Figure size 640x480 with 1 Axes>",
      "image/png": "[encoded data removed]"
     },
     "metadata": {},
     "output_type": "display_data"
    }
   ],
   "source": [
    "from IPython.display import clear_output\n",
    "\n",
    "num_episodes = 5000\n",
    "\n",
    "t_li = []\n",
    "for i_episode in range(num_episodes):\n",
    "    env.reset()\n",
    "    last_screen = get_screen()\n",
    "    current_screen = get_screen()\n",
    "    state = current_screen - last_screen\n",
    "\n",
    "    for t in count():\n",
    "        action = select_action(state)\n",
    "        _, reward, done, _, _ = env.step(action.item())\n",
    "        reward = torch.tensor([reward], device=device)\n",
    "\n",
    "        last_screen = current_screen\n",
    "        current_screen = get_screen()\n",
    "\n",
    "        if not done:\n",
    "            next_state = current_screen - last_screen\n",
    "        else:\n",
    "            next_state = None\n",
    "\n",
    "        memory.push(state, action, next_state, reward)\n",
    "        state = next_state\n",
    "\n",
    "        optimize_model()\n",
    "        # plt imshow in jupyter notebook update same figure\n",
    "        clear_output(wait=True)\n",
    "        plt.imshow(\n",
    "            get_screen().cpu().squeeze(0).permute(1, 2, 0).numpy(), interpolation=\"none\"\n",
    "        )\n",
    "        print(\"List of endured times\", t_li)\n",
    "        plt.show()\n",
    "        if done:\n",
    "            episode_durations.append(t + 1)\n",
    "            t_li.append(t + 1)\n",
    "            break\n",
    "    if i_episode % TARGET_UPDATE == 0:\n",
    "        target_net.load_state_dict(policy_net.state_dict())\n",
    "\n",
    "    print(\"Complete\")\n",
    "\n",
    "plt.title(\"screen\")\n",
    "env.render()\n",
    "env.close()\n",
    "plt.show()"
   ],
   "metadata": {
    "collapsed": false,
    "is_executing": true
   },
   "id": "e838467902aecc6e"
  }
 ],
 "metadata": {
  "kernelspec": {
   "display_name": "Python 3",
   "language": "python",
   "name": "python3"
  },
  "language_info": {
   "codemirror_mode": {
    "name": "ipython",
    "version": 2
   },
   "file_extension": ".py",
   "mimetype": "text/x-python",
   "name": "python",
   "nbconvert_exporter": "python",
   "pygments_lexer": "ipython2",
   "version": "2.7.6"
  }
 },
 "nbformat": 4,
 "nbformat_minor": 5
}
