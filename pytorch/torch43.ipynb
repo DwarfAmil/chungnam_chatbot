{
 "cells": [
  {
   "cell_type": "code",
   "execution_count": 11,
   "id": "initial_id",
   "metadata": {
    "collapsed": true,
    "ExecuteTime": {
     "end_time": "2023-10-05T03:25:57.566648300Z",
     "start_time": "2023-10-05T03:25:57.560109100Z"
    }
   },
   "outputs": [],
   "source": [
    "import gym\n",
    "import math\n",
    "import random\n",
    "import numpy as np\n",
    "import matplotlib\n",
    "import matplotlib.pyplot as plt\n",
    "from collections import namedtuple\n",
    "from itertools import count\n",
    "from PIL import Image\n",
    "\n",
    "import torch\n",
    "import torch.nn as nn\n",
    "import torch.optim as optim\n",
    "import torch.nn.functional as F\n",
    "import torchvision.transforms as T\n",
    "\n",
    "env = gym.make(\"CartPole-v1\", render_mode=\"rgb_array\").unwrapped\n",
    "plt.ion()\n",
    "device = torch.device(\"cuda:0\" if torch.cuda.is_available() else \"cpu\")"
   ]
  },
  {
   "cell_type": "code",
   "execution_count": 12,
   "outputs": [],
   "source": [
    "from matplotlib import font_manager\n",
    "font_fname = \"C:/Windows/Fonts/malgun.ttf\"\n",
    "font_family = font_manager.FontProperties(fname=font_fname).get_name()\n",
    "plt.rcParams[\"font.family\"] = font_family"
   ],
   "metadata": {
    "collapsed": false,
    "ExecuteTime": {
     "end_time": "2023-10-05T03:25:57.608446900Z",
     "start_time": "2023-10-05T03:25:57.565321100Z"
    }
   },
   "id": "508c054410b2f60f"
  },
  {
   "cell_type": "code",
   "execution_count": 13,
   "outputs": [],
   "source": [
    "Transition = namedtuple(\"Transition\", (\"state\", \"action\", \"next_state\", \"reward\"))\n",
    "\n",
    "class ReplayMemory(object):\n",
    "    def __init__(self, capacity):\n",
    "        self.capacity = capacity\n",
    "        self.memory = []\n",
    "        self.position = 0\n",
    "        \n",
    "    def push(self, *args):\n",
    "        if len(self.memory) < self.capacity:\n",
    "            self.memory.append(None)\n",
    "        self.memory[self.position] = Transition(*args)\n",
    "        self.position = (self.position + 1) % self.capacity\n",
    "        \n",
    "    def sample(self, batch_size):\n",
    "        return random.sample(self.memory, batch_size)\n",
    "    \n",
    "    def __len__(self):\n",
    "        return len(self.memory)"
   ],
   "metadata": {
    "collapsed": false,
    "ExecuteTime": {
     "end_time": "2023-10-05T03:25:57.609446500Z",
     "start_time": "2023-10-05T03:25:57.574607900Z"
    }
   },
   "id": "94160853fbd4252c"
  },
  {
   "cell_type": "code",
   "execution_count": 14,
   "outputs": [],
   "source": [
    "class DQN(nn.Module):\n",
    "    def __init__(self, h, w, outputs):\n",
    "        super(DQN, self).__init__()\n",
    "        self.conv1 = nn.Conv2d(3, 16, kernel_size=5, stride=2)\n",
    "        self.bn1 = nn.BatchNorm2d(16)\n",
    "        self.conv2 = nn.Conv2d(16, 32, kernel_size=5, stride=2)\n",
    "        self.bn2 = nn.BatchNorm2d(32)\n",
    "        self.conv3 = nn.Conv2d(32, 32, kernel_size=5, stride=2)\n",
    "        self.bn3 = nn.BatchNorm2d(32)\n",
    "        \n",
    "        def conv2d_size_out(size, kernel_size=5, stride=2):\n",
    "            return (size - (kernel_size - 1) - 1) // stride + 1\n",
    "        \n",
    "        convw = conv2d_size_out(conv2d_size_out(conv2d_size_out(w)))\n",
    "        convh = conv2d_size_out(conv2d_size_out(conv2d_size_out(h)))\n",
    "        linear_input_size = convw * convh * 32\n",
    "        self.head = nn.Linear(linear_input_size, outputs)\n",
    "        \n",
    "    def forward(self, x):\n",
    "        x = F.relu(self.bn1(self.conv1(x)))\n",
    "        x = F.relu(self.bn2(self.conv2(x)))\n",
    "        x = F.relu(self.bn3(self.conv3(x)))\n",
    "        return self.head(x.view(x.size(0), -1))"
   ],
   "metadata": {
    "collapsed": false,
    "ExecuteTime": {
     "end_time": "2023-10-05T03:25:57.609446500Z",
     "start_time": "2023-10-05T03:25:57.583373800Z"
    }
   },
   "id": "e358fbd4cbb34787"
  },
  {
   "cell_type": "code",
   "execution_count": 15,
   "outputs": [
    {
     "name": "stderr",
     "output_type": "stream",
     "text": [
      "C:\\Users\\amil0\\AppData\\Local\\Temp\\ipykernel_22888\\1326023502.py:3: DeprecationWarning: CUBIC is deprecated and will be removed in Pillow 10 (2023-07-01). Use BICUBIC or Resampling.BICUBIC instead.\n",
      "  resize = T.Compose([T.ToPILImage(), T.Resize(40, interpolation=Image.CUBIC), T.ToTensor()])\n"
     ]
    },
    {
     "data": {
      "text/plain": "<Figure size 640x480 with 1 Axes>",
      "image/png": "iVBORw0KGgoAAAANSUhEUgAAAh0AAAGKCAYAAACo6/OBAAAAOXRFWHRTb2Z0d2FyZQBNYXRwbG90bGliIHZlcnNpb24zLjcuMiwgaHR0cHM6Ly9tYXRwbG90bGliLm9yZy8pXeV/AAAACXBIWXMAAA9hAAAPYQGoP6dpAAAkq0lEQVR4nO3df3RU9Z3/8deEJBMCZCISSAz5AYkJRVgUzIYUDUJjoVTiLizsSm3LlpXTqkDU4jbruv3W1pPC7voDumi3CqIthLO48QcqMcsPsSesCg10ZUHcJLKDCXUCmACBwGQ+3z84zDpNSDJh+GQmPh/n3HOcz+dz733Px4S85s794TDGGAEAAFxlUX1dAAAA+HIgdAAAACsIHQAAwApCBwAAsILQAQAArCB0AAAAKwgdAADACkIHAACwgtABAACsIHQA0JEjR3TttdeqoqKir0sB0I8ROoAwdfbsWa1du1YnTpwI6XYbGxv13HPPBbTFxcUpNzdXiYmJId0XAHyRg2evAOFp3759uummm1RfX6/MzMyQbfepp57SU089pU8++SRk2wSAnuBIB4B+wefz9XUJALpB6ADC0MKFC3XTTTdJkkaNGiWHw6GdO3dKkowxeuKJJzR69Gg5nU7deOONqqqqClh/y5Yt+tM//VMNGjRISUlJeuyxxyRJmZmZeuCBB3TkyBE5HA45HA5J0ueffx6wD0lyOBx6+eWX9cgjj2jEiBEaNmyY/uZv/katra0B+zpy5Ijmzp2rhIQEuVwu3XPPPVqzZk2Pvqo5f/68SktLlZGR4f+KZ8+ePf7+Cxcu6Gc/+5lyc3PldDqVkpKi1atXS5JeeOEFJSYmqqamRuPGjdOAAQN07tw5SdLWrVt18803Ky4uThkZGXriiSc67Lu7MbfddptKSkq0YcMG5eTkaPDgwSoqKlJ9fX237wvAZRgAYcfj8Zg33njDSDLvvvuuqa+vN2fPnjXGGPO3f/u3JjEx0axbt87s37/flJaWmtjYWFNbW2uMMea9994zTqfT/Ou//qs5ePCgqaysNM8884wxxhi3220effRRk5qaaurr6019fb0xxpiTJ08aSWbHjh3+GiSZCRMmmIceesjU1NSY3/zmN2bIkCHmRz/6kX/MyZMnTXp6upk8ebKpqqoye/fuNffdd58ZPny4cblc3b7PJUuWmBtuuMHs2rXL/P73vze/+tWvzHvvvWeMMcbn85ni4mKTlJRknn/+efNf//VfZsuWLeaXv/ylMcaYdevWmSFDhpjp06ebyspKs3v3buP1es2WLVtMTEyMefTRR83+/fvNunXrzKBBg8xLL73k329PxkydOtX8yZ/8ifnGN75hdu/ebXbs2GHGjBljCgoKgv8fCsAYYwyhAwhTNTU1RpI/GBhjTH19vYmKijL/9m//FjB2+vTp5r777jPGGPOP//iPZvTo0Zfd7pNPPmkyMjIC2i4XOubMmRMw7oc//KHJysryv/7pT39qhg0bZk6dOhUw7s477+xR6LjhhhvMY4891mlfRUWFGTBggKmpqem0f926dUaSefnllwPas7Ky/HNxyWOPPWZuuOGGoMZMnTrVpKammtbWVn/bli1bjCTjdru7fW8AOuLrFSCCvP3220pISNCcOXMC2m+99Vbt379fkvTVr35V9fX1evDBB+XxeK5of9/85jcDXk+YMEFut9v/uqqqSvPmzdPgwYMDxs2YMaNH27/lllv0L//yL9q0aZPa29sD+l599VVNmzZNN954Y5fb+MY3vuH/78OHD6u2tlbf+973AsbceuutOnjwoC5cuNCjMZdMnz5dAwcO9L+eMGGCJAXMAYCeI3QAEcTj8ai5uVnx8fGKi4vzL48//rgaGhokXQwdb775pv7jP/5D6enp+v73v9/ry26HDh0a8Hrw4ME6f/68/3VjY6PS09M7rPfFP9RdWbVqlRYvXqzFixcrOztba9eu9fd9+umnGj16dJfrDxkyJGBfl0LWV7/61YD5mTFjhnw+n44dO9ajMV29f0lqa2vr0fsDECi6rwsA0HOJiYlKSUnRtm3bOvTFxMT4/3vmzJmaOXOmtm7dqvvvv18HDhzQu+++G/J6rr32WjU1NXVo/8Mf/tCj9WNjY/XYY4/phz/8oVavXq3FixfLGKNFixZpyJAhamxs7HL9qKjAz02XTl594403lJqa2mF8cnKyWlpauh0D4OogdABh6lKI+OKn6ltuuUXHjh2Tw+FQbm5ut9uYOXOm/umf/klz5szRhQsXFBMTo5iYmJB9Up84caJeeeUV/fznP1d09MV/Tnw+nzZv3hzUdhISEvTII4/ogw8+0M6dO7Vo0SJNmzZNDz/8sI4ePaqRI0f2aDtjxozRsGHDVFdXp6997Wu9HgPg6iB0AGEqIyNDTqdTa9eu1Xe+8x0lJSVpwoQJKi4u1h133KHHH39c48ePV2NjoyoqKvTNb35TM2fO1LPPPqtz586psLBQUVFRevHFFzV58mR/iMnJydGxY8e0efNmjRw5UpMnT+51jQ8//LDWrVunP//zP1dpaakcDof++Z//WaaH9xz87ne/qzlz5ig3N1dHjhzRf/7nf/ov7/3e976nX/7yl5o+fbrKyso0ZswYHTp0SG63WyUlJZ1ub8CAAfr7v/97PfTQQzpz5oymT5+u1tZW7dq1S+3t7SotLe3RGABXSV+fyQrg8p599lmTlJRkXC6X+d3vfmeMMaa1tdWUlJSYlJQUExcXZ66//nqzfPlyc+LECWOMMW+99ZYZN26ciYuLM8OHDzff/va3TUNDg3+bPp/PLFq0yAwePNikp6cbYy5/9UpFRUVAPRUVFeaP/9nYtWuXycvLM7GxsSYjI8M88cQT5plnnjFJSUndvr9L78PpdJrc3Fzz5JNPBvQ3NTWZe+65xwwfPtzExcWZ8ePHm82bNxtjLl69crkrZNasWWNyc3NNbGysSUtLM3fddZc5ePBgUGOmTp1qli1bFrBOZ/MEoOe4DTqAkCstLdVbb72lffv29XUpAMIIV68ACKm2tjZt2LCB8yUAdMCRDgC9VlVVpfLycv3lX/6lRo4cqbq6Oj3++OOqra3Vvn37dN111/V1iQDCCCeSAui17OxsNTc3a+HChWpqatLQoUNVVFSkDRs2EDgAdMCRDgAAYAXndAAAACsIHQAAwIqQntNx9uxZLVu2TJWVlWpvb9eCBQu0YsUKORyObtf1+XxqaGjQkCFDejQeAAD0PWOMTp06peuuu67Down+WEhDx0MPPSSfz6fa2lqdOXNGRUVF+sUvfqElS5Z0u25DQ4PS0tJCWQ4AALDE7XZ3+8iCkJ1Ievr0aY0YMUJut9v/ZMZ///d/109/+lPV1NR0u35zc7MSExPldruVkJAQipIAAMBV1tLSorS0NH3++edyuVxdjg3ZkY69e/dq1KhRAY+Czs/P14cffqj29nYNGDCgy/UvfaWSkJBA6AAAIML05NSIkIWOxsZGjRgxIqBt+PDh8nq9am5uDggj0sW7Fn7xSZeXHjcNAAD6p5BdveL1ejs8WbK9vV1S5+mnrKxMLpfLv3A+BwAA/VvIQsfQoUPV1NQU0ObxeBQXF9fpdzylpaVqbm72L263O1SlAACAMBSyr1cmTpyojz76SCdPntQ111wjSaqurlZ+fn6nl9A4nU45nc5Q7R4AAIS5kB3pSE5O1syZM/V3f/d38nq9ampq0uOPP66SkpJQ7QJAGGtva+1y8Z470+UiY7pfAES0kN6R9Pnnn1dDQ4NSUlJ08803a/HixfqzP/uzUO4CAABEqJDeHGzYsGF69dVXQ7lJAADQT/DsFQAAYAWhAwAAWEHoAAAAVhA6AACAFYQOAABgBaEDAABYEdJLZgH0V93fmOtw5Zou+y+cOdFl/9g5j3S7j2jnoG7HAAhfHOkAAABWEDoAAIAVhA4AAGAFoQMAAFhB6AAAAFYQOgAAgBWEDgAAYAX36QAQEt5zp7vsv3C2pesNmO7vBQIgsnGkAwAAWEHoAAAAVhA6AACAFYQOAABgBaEDAABYQegAAABWEDoAAIAV3KcDQEg4HF1/humuH0D/x78CAADACkIHAACwgtABAACsIHQAAAArCB0AAMAKQgcAALCC0AEAAKwgdAAAACtCGjruv/9+uVwuZWZm+pcjR46EchcAACBChfxIR0lJiT755BP/kpGREepdAACACBTy0JGYmBjqTQIAgH4g5M9e6WnoaGtrU1tbm/91S0tLqEsBAABhJORHOkpLS5Wenq5p06bp7bffvuy4srIyuVwu/5KWlhbqUgAAQBgJaehYtWqVjh07pvr6ei1fvlzz58/X3r17Ox1bWlqq5uZm/+J2u0NZCgAACDMhDR1RURc3N2DAAM2aNUt33XWXXnnllU7HOp1OJSQkBCwAAKD/uqr36fB6vYqNjb2auwAAABEipKGjsrJSPp9PkvT222/r5Zdf1ty5c0O5CwAAEKFCevXKk08+qW9/+9uKj49Xenq6KioqNHbs2FDuAgAARKiQho6tW7eGcnMAAKAf4dkrAADACkIHAACwgtABAACsIHQAAAArCB0AAMAKQgcAALCC0AEAAKwgdAAAACsIHQAAwApCBwAAsILQAQAArCB0AAAAKwgdAADACkIHAACwgtABAACsIHQAAAArCB0AAMAKQgcAALCC0AEAAKwgdAAAACsIHQAAwApCBwAAsILQAQAArCB0AAAAKwgdAADACkIHAACwgtABAACsIHQAAAArCB0AAMAKQgcAALCiV6HDGKMXX3xRBQUFAe01NTWaPHmyMjIyNHbsWFVVVYWkSAAAEPmig11h69atWr58uc6ePavo6P9b/dSpU5o9e7ZeeOEFFRUV6Z133tGdd96pQ4cOKTk5OaRFAwCAyBP0kY4zZ85oxYoVeu655wLaN27cqLy8PBUVFUmSpk6dqsLCQm3atCk0lQIAgIgW9JGOuXPnSpJ27twZ0L57925NmTIloC0/P1/79u3rdDttbW1qa2vzv25paQm2FAAAEEFCdiJpY2OjRowYEdA2fPhwHT9+vNPxZWVlcrlc/iUtLS1UpQAAgDAUstDh9XpljAloa29vl8Ph6HR8aWmpmpub/Yvb7Q5VKQAAIAwF/fXK5QwdOlRNTU0BbR6P57InkTqdTjmdzlDtHgAAhLmQHemYNGmSqqurA9qqq6s7XFYLAAC+nEIWOr71rW9p27Zt2r59uyTpzTff1MGDBzVv3rxQ7QIAAESwkH29MnLkSJWXl+vee+/ViRMnlJ2drddff12DBg0K1S4AAEAE63XouO2223To0KGAthkzZnRoAwAAkHj2CgAAsITQAQAArCB0AAAAKwgdAADACkIHAACwgtABAACsIHQAAAArCB0AAMAKQgcAALCC0AEAAKwgdAAAACsIHQAAwApCBwAAsILQAQAArCB0AAAAKwgdAADACkIHAACwgtABAACsIHQAAAArCB0AAMAKQgcAALCC0AEAAKwgdAAAACsIHQAAwApCBwAAsILQAQAArCB0AAAAKwgdAADACkIHAACwgtABAACs6FXoMMboxRdfVEFBQUD74MGDlZqaqszMTGVmZmrevHkhKRIAAES+6GBX2Lp1q5YvX66zZ88qOrrj6r/97W81atSokBQHAAD6j6CPdJw5c0YrVqzQc88912l/YmLildYEAAD6oaCPdMydO1eStHPnzg59UVFRcrlcV1wUAADof0J6IqnD4VBWVpZycnK0aNEiNTQ0XHZsW1ubWlpaAhYAANB/hTR0nDx5UvX19frggw8UHx+v2bNnyxjT6diysjK5XC7/kpaWFspSAABAmAlp6IiKurg5l8ulp59+Wh999JHq6uo6HVtaWqrm5mb/4na7Q1kKAAAIM0Gf09FTPp9PPp9PsbGxnfY7nU45nc6rtXsAABBmQnako7a2VocPH5Z08XyNZcuWKS8vj69NAACApBCGjhMnTmjWrFlKTU3VV77yFZ0/f16bN28O1eYBAECE6/XXK7fddpsOHTrkf52Xl6f/+Z//CUlRAACg/+HZKwAAwApCBwAAsILQAQAArCB0AAAAKwgdAADACkIHAACwgtABAACsIHQAAAArCB0AAMAKQgcAALCC0AEAAKwgdAAAACsIHQAAwApCBwAAsILQAQAArCB0AAAAKwgdAADACkIHAACwgtABAACsIHQAAAArCB0AAMAKQgcAALAiuq8LABAJHN2OiIrq+jOMo5tNRMcNDKYgABGIIx0AAMAKQgcAALCC0AEAAKwgdAAAACsIHQAAwApCBwAAsILQAQAArOA+HUA/8Pnnn3fZX1VV1WW/MabL/u7usSFJqc3Hu+yPNue77H95U3m3+2h3xHRfSBcKCgq67E9LS7ui7QPoWtBHOrZv364pU6YoOztbWVlZWr16tb/vk08+0e23366MjAxlZ2fr17/+dUiLBQAAkSvoIx2vvvqq1q5dq9zcXNXV1amwsFDXX3+9br/9ds2ePVsPPfSQFi5cqP/+7//WLbfconHjxunGG2+8CqUDAIBIEnToePrpp/3/PXr0aM2fP1/bt29XVFSUoqOjtXDhQknS2LFjdffdd2v9+vWEDgAAcOUnkno8HrlcLu3evVtTpkwJ6MvPz9e+ffs6Xa+trU0tLS0BCwAA6L+uKHS8//772rJlixYsWKDGxkaNGDEioH/48OE6frzzk8vKysrkcrn8CydwAQDQv/U6dJSXl6u4uFjr16/XqFGj5PV6O5wB397eLsdlTnsvLS1Vc3Ozf3G73b0tBQAARICgz+lob2/XkiVLtGPHDlVWVmrChAmSpKFDh6qpqSlgrMfjUXJycqfbcTqdcjqdvSgZAABEoqCPdJSUlKiurk579uzxBw5JmjRpkqqrqwPGVldXd3tdPAAA+HJwmO7uCvQF586d0+DBg+V2u5WSkhLQ19raquzsbK1cuVJ333239uzZo+LiYr3//vsaOXJkt9tuaWmRy+VSc3OzEhISgn8nwJfY7373uy77J02adNVr+PGDK7vsHzo0pcv+h//fd7vdR5vXF1RNf2zjxo1d9v/VX/3VFW0f+DIK5u93UF+v1NXVyefzdTh6kZubq8rKSr3++uu655579OCDDyo5OVkbNmzoUeAAAAD9X1ChY+zYsfL5Lv9JY9KkSd1+4gIAAF9OPPANAABYQegAAABWEDoAAIAVhA4AAGAFoQMAAFgR9B1Jr7bW1lZFR4ddWUBYa2tr67L/co8juKS72/VEdb26JOmzU7Fd9p8d0HV/TOzAbvfR5j3TfSFd8Hq9Xfa3trZe0faBL6Ngfm840gEAAKwgdAAAACsIHQAAwApCBwAAsILQAQAArCB0AAAAKwgdAADAirC7IUZjY6NOnTrV12UAEeWzzz67qtv3dX0bD0nSS7/5UZf9DkfXn3Faz179e2ScOHGiy/5PP/30qtcA9DenT5/u8ViOdAAAACsIHQAAwApCBwAAsILQAQAArCB0AAAAKwgdAADACkIHAACwgtABAACsCLubg2VlZSkhIaGvywAiypkzZ7rsN6YHd/e6Qqdbz131fVyp5OTkLvuvv/56S5UA/UdLS0uPx3KkAwAAWEHoAAAAVhA6AACAFYQOAABgBaEDAABYQegAAABWEDoAAIAVQd+nY/v27Xr00Uf1hz/8QcYYlZSUaMmSJZKkcePGyePxaODAgZKklJQU7d69O7QVA+ggLi6uy/6JEyd22W/jPh7hIDExsa9LAL7Ugg4dr776qtauXavc3FzV1dWpsLBQ119/vWbOnClJKi8v17Rp00JeKAAAiGxBf73y9NNPKzc3V5I0evRozZ8/X9u3b/f380kCAAB05opvg+7xeDRmzBj/656Gjra2NrW1tflfB3MbVQAAEHmu6ETS999/X1u2bNGCBQskSQ6HQ7fddpv/CMjhw4cvu25ZWZlcLpd/SUtLu5JSAABAmOt16CgvL1dxcbHWr1+vUaNGSZL279+vI0eO6MCBA7rppptUVFSk06dPd7p+aWmpmpub/Yvb7e5tKQAAIAIEHTra29t177336ic/+YkqKytVXFz8fxuLuri5gQMHqrS0VIMGDdJ7773X6XacTqcSEhICFgAA0H8FfU5HSUmJ6urqtGfPHg0aNKjLsV6vV7Gxsb0uDgAA9B9BhY5z587pmWeekdvt7hA4PvvsMx09elQTJ05Ue3u7VqxYoaioKOXl5YW0YAAdffFk7s7s2bPHUiXhzeFw9HUJwJdaUKGjrq5OPp9PBQUFAe25ubn61a9+pe985zs6fvy44uLilJeXp8rKym5vWgQAAL4cggodY8eOlc/nu2z/hx9+eMUFAQCA/olnrwAAACsIHQAAwApCBwAAsILQAQAArCB0AAAAK674gW8Awh/3pwAQDjjSAQAArCB0AAAAKwgdAADACkIHAACwgtABAACsIHQAAAArCB0AAMAKQgcAALCC0AEAAKwgdAAAACsIHQAAwApCBwAAsILQAQAArCB0AAAAKwgdAADACkIHAACwgtABAACsIHQAAAArCB0AAMAKQgcAALCC0AEAAKwgdAAAACsIHQAAwApCBwAAsCLo0LFy5Url5OQoPT1d48eP12uvvebvq6mp0eTJk5WRkaGxY8eqqqoqpMUCAIDIFR3sCvn5+XrggQcUExOjXbt2acaMGTp69KhiY2M1e/ZsvfDCCyoqKtI777yjO++8U4cOHVJycvLVqB0AAESQoI90TJ06VTExMZKkwsJCxcfHy+PxaOPGjcrLy1NRUZF/XGFhoTZt2hTaigEAQETq9Tkd586d01NPPaW8vDyNGTNGu3fv1pQpUwLG5Ofna9++fVdaIwAA6AeCDh21tbVKS0tTfHy8ysvLtWbNGklSY2OjRowYETB2+PDhOn78eKfbaWtrU0tLS8ACAAD6r6BDR1ZWltxut1pbW7V06VIVFBTo448/ltfrlTEmYGx7e7scDken2ykrK5PL5fIvaWlpvXsHAAAgIvT665W4uDgtWLBAd9xxh9avX6+hQ4eqqakpYIzH47nsSaSlpaVqbm72L263u7elAACACHDF9+lwOp0aOHCgJk2apOrq6oC+6upqFRQUXHa9hISEgAUAAPRfQYWOTz/9VBs3bpTX65Uk7dq1SxUVFZo3b56+9a1vadu2bdq+fbsk6c0339TBgwc1b9680FcNAAAiTlD36XA6nXr++ee1bNkyDRkyRJmZmaqoqFBOTo4kqby8XPfee69OnDih7Oxsvf766xo0aNBVKRwAAEQWh/njsz/7SEtLi1wul5qbm/mqBQCACBHM32+evQIAAKwgdAAAACsIHQAAwApCBwAAsILQAQAArCB0AAAAKwgdAADACkIHAACwgtABAACsIHQAAAArCB0AAMAKQgcAALCC0AEAAKwgdAAAACsIHQAAwApCBwAAsILQAQAArCB0AAAAKwgdAADACkIHAACwgtABAACsIHQAAAArCB0AAMAKQgcAALCC0AEAAKwgdAAAACsIHQAAwApCBwAAsILQAQAArCB0AAAAKwgdAADAiqBDx8qVK5WTk6P09HSNHz9er732mr9v8ODBSk1NVWZmpjIzMzVv3ryQFgsAACJXdLAr5Ofn64EHHlBMTIx27dqlGTNm6OjRo7r22mslSb/97W81atSokBcKAAAiW9BHOqZOnaqYmBhJUmFhoeLj4+XxePz9iYmJISsOAAD0H0Ef6bjk3LlzevbZZ5WXl6cxY8ZIkqKiouRyuXq0fltbm9ra2vyvW1paelsKAACIAEEf6aitrVVaWpri4+NVXl6uNWvW+PscDoeysrKUk5OjRYsWqaGh4bLbKSsrk8vl8i9paWm9ewcAACAiBB06srKy5Ha71draqqVLl6qgoEAff/yxJOnkyZOqr6/XBx98oPj4eM2ePVvGmE63U1paqubmZv/idruv7J0AAICw5jCXSwU9tGjRIqWkpOhnP/tZQLvP51NCQoL279+vrKysbrfT0tIil8ul5uZmJSQkXElJAADAkmD+fl/xfTqcTqcGDhzYod3n88nn8yk2NvZKdwEAAPqBoELHp59+qo0bN8rr9UqSdu3apYqKCs2bN0+1tbU6fPiwpIsniS5btkx5eXmcqwEAACQFGTqcTqeef/55XXfddcrKytJPfvITVVRUKCcnRydOnNCsWbOUmpqqr3zlKzp//rw2b958teoGAAAR5orP6QgVzukAACDyWD2nAwAAoCcIHQAAwApCBwAAsILQAQAArCB0AAAAKwgdAADACkIHAACwgtABAACsIHQAAAArCB0AAMAKQgcAALCC0AEAAKwgdAAAACsIHQAAwApCBwAAsILQAQAArCB0AAAAKwgdAADACkIHAACwgtABAACsIHQAAAArCB0AAMAKQgcAALCC0AEAAKwgdAAAACsIHQAAwApCBwAAsILQAQAArCB0AAAAK6L7uoBLjDGSpJaWlj6uBAAA9NSlv9uX/o53JWxCx6lTpyRJaWlpfVwJAAAI1qlTp+Ryuboc4zA9iSYW+Hw+NTQ0aMiQIXI4HGppaVFaWprcbrcSEhL6uryIxlyGDnMZGsxj6DCXocNc9o4xRqdOndJ1112nqKiuz9oImyMdUVFRGjlyZIf2hIQE/ueHCHMZOsxlaDCPocNchg5zGbzujnBcwomkAADACkIHAACwImxDh9Pp1I9//GM5nc6+LiXiMZehw1yGBvMYOsxl6DCXV1/YnEgKAAD6t7A90gEAAPoXQgcAALCC0AEAAKwgdAAAACvCMnScPXtWixcvVkZGhkaOHKmHH364R/d0x0XGGL344osqKCgIaK+pqdHkyZOVkZGhsWPHqqqqqo8qjAzbt2/XlClTlJ2draysLK1evdrf98knn+j2229XRkaGsrOz9etf/7oPKw1vK1euVE5OjtLT0zV+/Hi99tpr/j5+JnvnBz/4gcaMGeN/zTwG5/7775fL5VJmZqZ/OXLkiCTm8qozYegHP/iBWbRokblw4YL5/PPPzc0332xWrVrV12VFhLfeesuMGzfOZGVlmdzcXH97S0uLSU1NNVVVVcYYY3bu3GlcLpdpbGzsq1LD3tKlS82hQ4eMMcbU1taa1NRU89Zbbxmv12vGjRtn1q1bZ4wx5sCBA+aaa64xNTU1fVdsGNu5c6c5f/68McaYd955x8TFxZmmpiZ+Jnvpf//3f018fLz/95t5DN59991n/uEf/qFDO3N59YXdkY7Tp09r/fr1WrlypaKjo+VyuVRaWqq1a9f2dWkR4cyZM1qxYoWee+65gPaNGzcqLy9PRUVFkqSpU6eqsLBQmzZt6osyI8LTTz+t3NxcSdLo0aM1f/58bd++Xdu2bVN0dLQWLlwoSRo7dqzuvvturV+/vg+rDV9Tp05VTEyMJKmwsFDx8fHyeDz8TPbSAw88oL/+67/2v2YeeycxMbFDG3N59YVd6Ni7d69GjRqloUOH+tvy8/P14Ycfqr29vQ8riwxz587VrFmzOrTv3r1bU6ZMCWjLz8/Xvn37LFUW+Twej1wuF3PZS+fOndNTTz2lvLw8jRkzhnnshTfeeEPHjx/XX/zFX/jbmMfe6Sx0MJdXX9iFjsbGRo0YMSKgbfjw4fJ6vWpubu6jqiLf5eb1+PHjfVRRZHn//fe1ZcsWLViwgLkMUm1trdLS0hQfH6/y8nKtWbNGEj+TwTp+/LiWLl2qZ555JqCdeeyd0tJSpaena9q0aXr77bclMZc2hF3o8Hq9HU4avXSEw+Fw9EVJ/cLl5pU57V55ebmKi4u1fv16jRo1irkMUlZWltxut1pbW7V06VIVFBTo448/Zh6DYIzRokWLVFJSEnACqcTvdm+sWrVKx44dU319vZYvX6758+dr7969zKUFYfNo+0uGDh2qpqamgDaPx6O4uLgePzoXHV1uXpOTk/uoovDX3t6uJUuWaMeOHaqsrNSECRMkMZe9FRcXpwULFmjbtm1av3498xiEn//857pw4YLuv//+Dn3MY/Cioi5+3h4wYIBmzZqlu+66S6+88gpzaUHYHemYOHGiPvroI508edLfVl1drfz8fP8PCoI3adIkVVdXB7RVV1d3uKwW/6ekpER1dXXas2ePP3BIzOWVcjqdGjhwIPMYhFWrVundd9/VNddco8TERN1xxx36+OOPlZiYyDyGgNfrVWxsLHNpQx9eOXNZxcXF5vvf/765cOGC8Xg8Zvz48aaioqKvy4ooO3bsCLhk1u12m8TERLNt2zZjjDFvvPGGycjIMKdPn+6rEsPa2bNnzYABA0xDQ0OHvjNnzpiUlBTz0ksvGWOM+eCDD0xKSopxu922ywx7R48eNRs2bDAXLlwwxly8ZDY5Odl89NFH/ExegS/+fjOPwdu6datpb283xhhTWVlprrnmGnPgwAHm0oKwDB0ej8cUFxebYcOGmYyMDLN69eq+Lini/HHoMObiL1pubq5JSkoyBQUF5ve//30fVRf+Dhw4YBwOh8nIyAhYvv71rxtjjNmzZ4+56aabTFJSkhk/frzZsWNH3xYcpjwej/na175mkpKSzOjRo8306dPN7t27/f38TPbOH/9+M4/BmTFjhklKSjIZGRnm1ltvNTt37vT3MZdXF4+2BwAAVnCSBAAAsILQAQAArCB0AAAAKwgdAADACkIHAACwgtABAACsIHQAAAArCB0AAMAKQgcAALCC0AEAAKwgdAAAACv+PwBGnJEwKuveAAAAAElFTkSuQmCC"
     },
     "metadata": {},
     "output_type": "display_data"
    }
   ],
   "source": [
    "import pyglet\n",
    "\n",
    "resize = T.Compose([T.ToPILImage(), T.Resize(40, interpolation=Image.CUBIC), T.ToTensor()])\n",
    "\n",
    "def get_cart_location(screen_width):\n",
    "    world_width = env.x_threshold * 2\n",
    "    scale = screen_width / world_width\n",
    "    return int(env.state[0] * scale + screen_width / 2.0)\n",
    "\n",
    "def get_screen():\n",
    "    screen = env.render().transpose((2, 0, 1))\n",
    "    _, screen_height, screen_width = screen.shape\n",
    "    screen = screen[:, int(screen_height * 0.4):int(screen_width * 0.8)]\n",
    "    view_width = int(screen_width * 0.6)\n",
    "    cart_location = get_cart_location(screen_width)\n",
    "    \n",
    "    if cart_location < view_width // 2:\n",
    "        slice_range = slice(view_width)\n",
    "    elif cart_location > (screen_width - view_width // 2):\n",
    "        slice_range = slice(-view_width, None)\n",
    "    else:\n",
    "        slice_range = slice(cart_location - view_width // 2, cart_location + view_width // 2)\n",
    "    screen = screen[:, :, slice_range]\n",
    "    screen = np.ascontiguousarray(screen, dtype=np.float32) / 255\n",
    "    screen = torch.from_numpy(screen)\n",
    "    return resize(screen).unsqueeze(0).to(device)\n",
    "\n",
    "env.reset()\n",
    "plt.figure()\n",
    "plt.imshow(get_screen().cpu().squeeze(0).permute(1, 2, 0).numpy(), interpolation=\"none\")\n",
    "plt.title(\"testing screen\")\n",
    "plt.show()"
   ],
   "metadata": {
    "collapsed": false,
    "ExecuteTime": {
     "end_time": "2023-10-05T03:25:58.775649500Z",
     "start_time": "2023-10-05T03:25:58.636776500Z"
    }
   },
   "id": "6c88aa78320776bf"
  },
  {
   "cell_type": "code",
   "execution_count": 16,
   "outputs": [],
   "source": [
    "BATCH_SIZE = 128\n",
    "GAMMA = 0.999\n",
    "EPS_START = 0.9\n",
    "EPS_END = 0.05\n",
    "EPS_DECAY = 200\n",
    "TARGET_UPDATE = 10\n",
    "\n",
    "init_screen = get_screen()\n",
    "_, _, screen_height, screen_width = init_screen.shape\n",
    "n_actions = env.action_space.n\n",
    "policy_net = DQN(screen_height, screen_width, n_actions).to(device)\n",
    "target_net = DQN(screen_height, screen_width, n_actions).to(device)\n",
    "target_net.load_state_dict(policy_net.state_dict())\n",
    "target_net.eval()\n",
    "\n",
    "optimizer = optim.RMSprop(policy_net.parameters())\n",
    "memory = ReplayMemory(10000)\n",
    "\n",
    "steps_done = 0\n",
    "\n",
    "def select_action(state):\n",
    "    global steps_done\n",
    "    sample = random.random()\n",
    "    eps_threshold = EPS_END + (EPS_START - EPS_END) * math.exp(-1. * steps_done / EPS_DECAY)\n",
    "    steps_done += 1\n",
    "    if sample > eps_threshold:\n",
    "        with torch.no_grad():\n",
    "            return policy_net(state).max(1)[1].view(1, 1)\n",
    "    else:\n",
    "        return torch.tensor([[random.randrange(n_actions)]], device=device, dtype=torch.long)\n",
    "    \n",
    "episode_durations = []"
   ],
   "metadata": {
    "collapsed": false,
    "ExecuteTime": {
     "end_time": "2023-10-05T03:25:58.862936400Z",
     "start_time": "2023-10-05T03:25:58.767888300Z"
    }
   },
   "id": "5c9a9dc785358aee"
  },
  {
   "cell_type": "code",
   "execution_count": 17,
   "outputs": [],
   "source": [
    "def optimize_model():\n",
    "    if len(memory) < BATCH_SIZE:\n",
    "        return \n",
    "    \n",
    "    transitions = memory.sample(BATCH_SIZE)\n",
    "    batch = Transition(*zip(*transitions))\n",
    "    non_final_mask = torch.tensor(tuple(map(lambda s: s is not None, batch.next_state)), device=device, dtype=torch.bool)\n",
    "    non_final_next_states = torch.cat([s for s in batch.next_state if s is not None])\n",
    "    \n",
    "    state_batch = torch.cat(batch.state)\n",
    "    action_batch = torch.cat(batch.action)\n",
    "    reward_batch = torch.cat(batch.reward)\n",
    "    \n",
    "    state_action_values = policy_net(state_batch).gather(1, action_batch)\n",
    "    next_state_values = torch.zeros(BATCH_SIZE, device=device)\n",
    "    next_state_values[non_final_mask] = target_net(non_final_next_states).max(1)[0].detach()\n",
    "    expected_state_action_values = (next_state_values * GAMMA) + reward_batch\n",
    "    \n",
    "    loss = F.smooth_l1_loss(state_action_values, expected_state_action_values.unsqueeze(1))\n",
    "    optimizer.zero_grad()\n",
    "    loss.backward()\n",
    "    \n",
    "    for param in policy_net.parameters():\n",
    "        param.grad.data.clamp_(-1, 1)\n",
    "    optimizer.step()"
   ],
   "metadata": {
    "collapsed": false,
    "ExecuteTime": {
     "end_time": "2023-10-05T03:25:58.870441900Z",
     "start_time": "2023-10-05T03:25:58.808925600Z"
    }
   },
   "id": "4c92e048cae9679f"
  },
  {
   "cell_type": "code",
   "execution_count": null,
   "outputs": [
    {
     "name": "stdout",
     "output_type": "stream",
     "text": [
<<<<<<< HEAD
      "버틴시간 리스트 [74, 11, 11, 18, 14, 11, 57, 29, 36, 32, 35, 13, 13, 13, 30, 12, 12, 21, 25, 23, 21, 72, 97, 93, 11, 26, 52, 50, 32, 14, 77, 78, 26, 69, 56, 48, 13, 59, 40, 63, 69, 31, 33, 17, 29, 23, 63, 16, 60, 31, 36, 34, 19, 44, 107, 33, 53, 186, 50, 58, 37, 92, 22, 28, 13, 13, 90, 31, 43, 16, 14, 14, 35, 39, 41, 86, 24, 18, 88, 14, 87, 8, 22, 21, 14, 14, 10, 16, 11, 45, 26, 16, 13, 23, 12, 10, 22, 44, 12, 10, 98, 23, 28, 37, 17, 14, 24, 13, 10, 28, 63, 11, 9, 14, 86, 18, 15, 44, 16, 47, 10, 18, 18, 12, 19, 32, 12, 11, 45, 14, 27, 11, 10, 11, 20, 27, 15, 24, 11, 16, 10, 18, 14, 25, 11, 42, 17, 65, 10, 13, 20, 21, 13, 81, 16, 14, 18, 21, 11, 13, 11, 47, 157, 35, 53, 34, 15, 27, 30, 13, 77, 11, 14, 21, 13, 33, 12, 20, 22, 9, 11, 18, 15, 12, 12, 8, 21, 17, 15, 17, 17, 13, 26, 13, 10, 33, 10, 10, 11, 18, 9, 10, 9, 12, 12, 10, 12, 12, 17, 10, 24, 26, 97, 20, 27, 37, 65, 26, 13, 13, 26, 117, 18, 37, 36, 13, 57, 18, 42, 40, 25, 55, 69, 26, 93, 11, 30, 97, 85, 38, 32, 42, 76, 16, 21, 18, 103, 64, 64, 83, 53, 85, 121, 75, 102, 39, 21, 56, 15, 38, 86, 38, 47, 34, 16, 119, 50, 25, 49, 46, 34, 28, 35, 43, 19, 33, 28, 121, 52, 70, 96, 54, 73, 32, 48, 65, 20, 179, 30, 22, 39, 34, 68, 24, 25, 36, 82, 35, 39, 30, 60, 20, 13, 59, 40, 18, 56, 24, 18, 49, 32, 17, 14, 21, 25, 51, 39, 75, 17, 18, 11, 14, 27, 17, 141, 115, 21, 30, 28, 29, 55, 27, 71, 46, 27, 19, 46, 26, 41, 33, 17, 29, 37, 18, 19, 108, 43, 20, 19, 42, 13, 33, 20, 44, 49, 29, 32, 28, 22, 24, 18, 43, 36, 27, 20, 43, 22, 12, 26, 19, 30, 26, 27, 15, 31, 35, 49, 53, 24, 10, 17, 32, 22, 21, 17, 21, 27, 13, 37, 66, 87, 27, 34, 15, 70, 26, 53, 62, 94, 58, 55, 36, 19, 27, 27, 57, 61, 56, 58, 10, 65, 52, 24, 21, 93, 50, 70, 51, 14, 62, 12, 21, 16, 48, 15, 41, 67, 25, 15, 13, 48, 95, 19, 15, 13, 21, 103, 51, 15, 16, 47, 23, 56, 40, 113, 134, 59, 12, 82, 32, 29, 91, 110, 17, 24, 35, 11, 24, 43, 21, 17, 49, 22, 14, 30, 21, 12, 14, 16, 19, 27, 26, 21, 19, 13, 39, 52, 35, 34, 103, 47, 98, 21, 24, 22, 27, 25, 55, 33, 78, 74, 38, 14, 17, 82, 18, 19, 29, 21, 28, 36, 19, 61, 69, 15, 43, 19, 14, 28, 19, 29, 23, 16, 18, 104, 14, 62, 76, 39, 29, 54, 22, 30, 63, 17, 89, 13, 30, 41, 22, 29, 12, 32, 67, 38, 19, 34, 48, 28, 57, 95, 17, 35, 39, 19, 11, 28, 18, 39, 64, 23, 46, 43, 13, 38, 51, 52, 13, 27, 16, 65, 22, 28, 31, 31, 40, 31, 49, 62, 45, 41, 50, 124, 49, 20, 55, 54, 28, 45, 34, 30, 29, 61, 18, 70, 25, 23, 49, 44, 58, 18, 29, 31, 27, 36, 36, 17, 45, 40, 62, 23, 38, 38, 24, 15, 82, 31, 59, 21, 19, 31, 15, 80, 76, 38, 30, 31, 59, 20, 79, 21, 39, 25, 32, 41, 23, 28, 16, 64, 43, 24, 25, 38, 23, 32, 78, 19, 81, 28, 39, 59, 58, 14, 38, 44, 24, 32, 39, 38, 31, 48, 46, 46, 38, 34, 43, 30, 21, 20, 101, 36, 32, 22, 28, 27, 30, 32, 27, 24, 56, 40, 38, 32, 27, 39, 21, 23, 48, 25, 124, 34, 20, 35, 113, 28, 19, 104, 41, 20, 73, 26, 26, 62, 22, 21, 26, 15, 15, 17, 10, 27, 12, 35, 21, 110, 46, 26, 43, 27, 25, 49, 20, 54, 27, 13, 24, 29, 34, 21, 18, 27, 62, 31, 24, 103, 24, 22, 53, 28, 52, 29, 36, 40, 37, 43, 13, 43, 52, 30, 24, 37, 52, 25, 16, 36, 46, 35, 69, 24, 46, 39, 69, 25, 20, 26, 33, 24, 59, 49, 60, 28, 38, 26, 103, 28, 61, 69, 157, 17, 138, 31, 32, 68, 24, 31, 27, 31, 36, 36, 81, 44, 98, 27, 23, 37, 23, 31, 54, 36, 35, 28, 52, 70, 18, 37, 51, 24, 17, 17, 75, 90, 22, 85, 20, 99, 37, 32, 90, 43, 17, 48, 17, 28, 21, 16, 19, 25, 10, 27, 28, 21, 20, 11, 34, 21, 17, 9, 17, 18, 24, 71, 25, 58, 75, 20, 25, 16, 54, 54, 10, 15, 22, 30, 36, 13, 24, 21, 23, 14, 11, 11, 23, 21, 10, 21, 14, 9, 9, 13, 14, 16, 13, 13, 10, 12, 10, 11, 9, 9, 10, 16, 11, 12, 22, 14, 14, 9, 10, 11, 20, 16, 23, 15, 12, 11, 10, 10, 22, 25, 20, 12, 24, 33, 13, 15, 9, 14, 15, 13, 11, 10, 15, 10, 10, 24, 38, 10, 15, 14, 13, 11, 25, 22, 13, 51, 16, 13, 12, 13, 10, 12, 38, 9, 17, 11, 12, 10, 11, 12, 11, 19, 17, 15, 11, 15, 18, 20, 13, 11, 12, 11, 11, 12, 17, 19, 34, 14, 11, 15, 32, 13, 12, 13, 10, 12, 9, 10, 10, 12, 15, 9, 9, 10, 35, 12, 25, 10, 12, 31, 18, 14, 18, 13, 12, 29, 22, 13, 13, 16, 10, 9, 10, 9, 13, 22, 17, 14, 14, 15, 29, 15, 10, 14, 13, 18, 14, 25, 10, 23, 13, 11, 18, 13, 21, 16, 16, 14, 17, 12, 11, 14, 10, 12, 13, 20, 15, 10, 27, 13, 68, 12, 13, 16, 25, 14, 33, 11, 23, 11, 10, 17, 9, 15, 20, 9, 15, 21, 14, 13, 28, 17, 28, 12, 20, 14, 17, 11, 10, 11, 9, 34, 13, 10, 9, 15, 12, 22, 10, 33, 17, 11, 23, 32, 15, 31, 20, 37, 24, 19, 17, 21, 25, 37, 21, 29, 28, 36, 69, 19, 12, 41, 15, 49, 29, 22, 17, 86, 17, 18, 9, 20, 22, 13, 20, 24, 15, 11, 21, 12, 27, 17, 21, 23, 13, 23, 21, 38, 19, 21, 22, 16, 32, 27, 21, 18, 12, 21, 11, 19, 15, 9, 8, 36, 15, 13, 12, 18, 16, 15, 10, 23, 18, 14, 11, 13, 11, 14, 15, 9, 37, 14, 24, 10, 19, 15, 12, 15, 11, 15, 17, 13, 11, 13, 11, 19, 12, 9, 11, 13, 14, 9, 13, 16, 11, 23, 12, 19, 21, 27, 11, 16, 15, 18, 21, 40, 13, 27, 13, 22, 15, 16, 12, 14, 13, 12, 10, 19, 14, 17, 11, 11, 10, 13, 10, 12, 12, 12, 11, 10, 12, 10, 12, 11, 11, 11, 9, 12, 10, 11, 10, 10, 8, 11, 12, 10, 8, 10, 11, 10, 11, 12, 10, 11, 9, 12, 10, 13, 12, 10, 11, 10, 10, 13, 8, 9, 12, 13, 9, 9, 11, 14, 14, 11, 14, 13, 10, 12, 14, 13, 12, 12, 8, 10, 10, 9, 9, 11, 10, 10, 9, 14, 10, 16, 13, 10, 10, 10, 9, 10, 11, 10, 15, 10, 10, 9, 10, 11, 8, 10, 10, 9, 12, 9, 10, 10, 10, 10, 9, 10, 12, 13, 10, 10, 10, 10, 16, 11, 9, 9, 9, 9, 12, 10, 9, 10, 13, 9, 10, 10, 10, 11, 10, 10, 10, 10, 11, 13, 11, 12, 10, 12, 10, 9, 12, 9, 12, 11, 13, 9, 9, 13, 10, 15, 9, 13, 11, 13, 10, 15, 13, 10, 14, 12, 11, 10, 13, 8, 20, 10, 14, 10, 13, 11, 21, 11, 10, 9, 17, 10, 10, 12, 10, 9, 9, 14, 10, 8, 11, 8, 10, 13, 12, 26, 12, 13, 15, 11, 12, 10, 9, 10, 12, 9, 11, 9, 14, 10, 11, 14, 13, 11, 9, 9, 10, 10, 9, 11, 9, 9, 12, 9, 10, 10, 11, 14, 10, 10, 9, 9, 9, 11, 10, 11, 10, 10, 12, 10, 16, 12, 11, 10, 12, 15, 12, 13, 10, 13, 13, 10, 10, 17, 10, 13, 14, 11, 13, 9, 11, 12, 8, 12, 8, 10, 10, 9, 12, 14, 11, 11, 10, 10, 10, 18, 12, 11, 24, 13, 15, 11, 12, 13, 12, 9, 9, 10, 16, 10, 17, 11, 13, 15, 11, 14, 17, 14, 24, 25, 26, 13, 25, 18, 16, 32, 29, 13, 23, 23, 31, 14, 55, 21, 48, 19, 36, 28, 41, 11, 31, 29, 35, 41, 38, 69, 38, 28, 56, 30, 31, 36, 18, 19, 52, 34, 56, 17, 34, 53, 38, 79, 37, 12, 78, 43, 73, 49, 39, 18, 41, 73, 99, 38, 21, 14, 13, 24, 35, 25, 24, 26, 27, 40, 27, 14, 33, 15, 46, 14, 11, 13, 13, 13, 22, 13, 34, 14, 20, 15, 17, 22, 14, 11, 30, 14, 15, 29, 18, 20, 18, 10, 18, 15, 19, 24, 13, 60, 11, 22, 12, 28, 30, 30, 23, 13, 11, 32, 17, 29, 14, 15, 62, 97, 21, 19, 16, 12, 15, 11, 13, 23, 50, 15, 14, 19, 113, 46, 120, 62, 33, 64, 112, 46, 108, 80, 80, 15, 128, 70, 38, 68, 58, 39, 28, 75, 17, 13, 23, 68, 23, 25, 29, 27, 58, 53, 77, 22, 20, 21, 19, 43, 107, 82, 15, 61, 44, 15, 31, 144, 131, 112, 89, 152, 138, 127, 19, 30, 25, 64, 13, 40, 50, 106, 81, 44, 37, 13, 101, 91, 35, 32, 52, 76, 127, 95, 27, 98, 107, 45, 70, 105, 64, 65, 270, 45, 62, 52, 25, 31, 39, 40, 44, 53, 39, 24, 40, 34, 42, 40, 37, 30, 40, 25, 40, 21, 23, 44, 82, 25, 37, 25, 41, 18, 16, 29, 68, 59, 56, 70, 33, 24, 21, 23, 41, 24, 26, 76, 19, 23, 67, 30, 28, 31, 20, 31, 25, 44, 34, 22, 27, 40, 24, 21, 41, 30, 21, 27, 36, 19, 23, 40, 60, 26, 31, 50, 40, 53, 21, 31, 42, 36, 55, 26, 37, 47, 40, 16, 35, 30, 42, 48, 33, 36, 15, 49, 51, 29, 24, 54, 31, 17, 26, 30, 83, 63, 25, 29, 54, 27, 24, 44, 39, 44, 11, 134, 26, 28, 45, 22, 27, 43, 17, 22, 36, 66, 30, 30, 19, 18, 26, 32, 36, 39, 48, 12, 33, 47, 42, 34, 72, 27, 28, 30, 51, 78, 21, 52, 34, 45, 26, 36, 79, 70, 38, 96, 57, 50, 29, 47, 127, 42, 30, 59, 39, 32, 38, 28, 60, 64, 58, 71, 72, 27, 78, 38, 15, 138, 44, 118, 38, 67, 39, 37, 72, 56, 49, 23, 44, 48, 42, 32, 57, 58, 33, 57, 38, 44, 35, 45, 18, 34, 41, 53, 38, 93, 12, 54, 12, 44, 26, 21, 35, 27, 32, 72, 22, 105, 25, 32, 90, 20, 27, 39, 66, 52, 19, 43, 18, 35, 25, 17, 32, 35, 31, 37, 18, 33, 24, 45, 31, 26, 27, 54, 26, 33, 19, 43, 37, 22, 28, 33, 39, 25, 28, 28, 29, 21, 26, 38, 17, 27, 33, 19, 22, 31, 42, 24, 37, 16, 20, 14, 31, 18, 29, 28, 24, 22, 37, 24, 22, 25, 28, 29, 20, 57, 21, 29, 66, 40, 27, 17, 36, 41, 20, 19, 22, 25, 26, 24, 20, 21, 26, 25, 22, 52, 29, 30, 21, 20, 26, 15, 18, 13, 62, 19, 20, 67, 23, 21, 36, 48, 22, 38, 40, 18, 15, 20, 12, 26, 46, 34, 24, 39, 35, 61, 34, 25, 74, 56, 32, 36, 19, 41, 24, 38, 16, 22, 23, 23, 21, 32, 31, 20, 25, 58, 38, 27, 49, 25, 55, 39, 24, 131, 24, 20, 35, 30, 63, 40, 30, 77, 38, 23, 41, 26, 33, 34, 29, 29, 42, 105, 29, 27, 54, 26, 39, 48, 64, 23, 38, 45, 26, 31, 26, 38, 30, 17, 24, 20, 22, 34, 23, 32, 35, 27, 23, 27, 39, 24, 36, 26, 30, 22, 46, 45, 44, 25, 57, 19, 29, 41, 30, 40, 56, 24, 31, 37, 35, 14, 16, 36, 29, 24, 23, 50, 48, 90, 31, 22, 36, 49, 57, 33, 44, 28, 27, 22, 30, 120, 87, 34, 45, 71, 44, 31, 69, 26, 35, 44, 46, 25, 43, 65, 27, 30, 38, 20, 40, 17, 34, 27, 24, 28, 19, 46, 31, 37, 28, 45, 24, 53, 38, 25, 43, 38, 86, 26, 33, 30, 32, 27, 29, 48, 61, 56, 37, 17, 17, 26, 34, 42, 101, 29, 15, 32, 31, 47, 36, 23, 41, 42, 29, 39, 32, 35, 83, 72, 37, 53, 30, 22, 89, 55, 94, 41, 40, 28, 41, 15, 50, 25, 19, 72, 16, 30, 38, 25, 36, 80, 32, 26, 24, 44, 25, 18, 38, 78, 31, 23, 40, 20, 33, 22, 58, 26, 33, 20, 36, 32, 64, 35, 23, 37, 42, 24, 75, 30, 36, 26, 25, 29, 48, 42, 51, 42, 32, 52, 20, 146, 48, 56, 28, 26, 24, 36, 16, 34, 17, 35, 29, 52, 23, 29, 42, 52, 23, 33, 52, 21, 16, 31, 35, 34, 59, 109, 40, 34, 70, 17, 41, 26, 13, 35, 14, 29, 18, 40, 21, 57, 67, 12, 24, 41, 18, 51, 25, 24, 11, 30, 9, 14, 34, 20, 10, 59, 10, 54, 31, 13, 9, 19, 30, 11, 16, 14, 18, 18, 46, 31, 13, 31]\n"
=======
      "버틴시간 리스트 [74, 11, 11, 18, 14, 11, 57, 29, 36, 32, 35, 13, 13, 13, 30, 12, 12, 21, 25, 23, 21, 72, 97, 93, 11, 26, 52, 50, 32, 14, 77, 78, 26, 69, 56, 48, 13, 59, 40, 63, 69, 31, 33, 17, 29, 23, 63, 16, 60, 31, 36, 34, 19, 44, 107, 33, 53, 186, 50, 58, 37, 92, 22, 28, 13, 13, 90, 31, 43, 16, 14, 14, 35, 39, 41, 86, 24, 18, 88, 14, 87, 8, 22, 21, 14, 14, 10, 16, 11, 45, 26, 16, 13, 23, 12, 10, 22, 44, 12, 10, 98, 23, 28, 37, 17, 14, 24, 13, 10, 28, 63, 11, 9, 14, 86, 18, 15, 44, 16, 47, 10, 18, 18, 12, 19, 32, 12, 11, 45, 14, 27, 11, 10, 11, 20, 27, 15, 24, 11, 16, 10, 18, 14, 25, 11, 42, 17, 65, 10, 13, 20, 21, 13, 81, 16, 14, 18, 21, 11, 13, 11, 47, 157, 35, 53, 34, 15, 27, 30, 13, 77, 11, 14, 21, 13, 33, 12, 20, 22, 9, 11, 18, 15, 12, 12, 8, 21, 17, 15, 17, 17, 13, 26, 13, 10, 33, 10, 10, 11, 18, 9, 10, 9, 12, 12, 10, 12, 12, 17, 10, 24, 26, 97, 20, 27, 37, 65, 26, 13, 13, 26, 117, 18, 37, 36, 13, 57, 18, 42, 40, 25, 55, 69, 26, 93, 11, 30, 97, 85, 38, 32, 42, 76, 16, 21, 18, 103, 64, 64, 83, 53, 85, 121, 75, 102, 39, 21, 56, 15, 38, 86, 38, 47, 34, 16, 119, 50, 25, 49, 46, 34, 28, 35, 43, 19, 33, 28, 121, 52, 70, 96, 54, 73, 32, 48, 65, 20, 179, 30, 22, 39, 34, 68, 24, 25, 36, 82, 35, 39, 30, 60, 20, 13, 59, 40, 18, 56, 24, 18, 49, 32, 17, 14, 21, 25, 51, 39, 75, 17, 18, 11, 14, 27, 17, 141, 115, 21, 30, 28, 29, 55, 27, 71, 46, 27, 19, 46, 26, 41, 33, 17, 29, 37, 18, 19, 108, 43, 20, 19, 42, 13, 33, 20, 44, 49, 29, 32, 28, 22, 24, 18, 43, 36, 27, 20, 43, 22, 12, 26, 19, 30, 26, 27, 15, 31, 35, 49, 53, 24, 10, 17, 32, 22, 21, 17, 21, 27, 13, 37, 66, 87, 27, 34, 15, 70, 26, 53, 62, 94, 58, 55, 36, 19, 27, 27, 57, 61, 56, 58, 10, 65, 52, 24, 21, 93, 50, 70, 51, 14, 62, 12, 21, 16, 48, 15, 41, 67, 25, 15, 13, 48, 95, 19, 15, 13, 21, 103, 51, 15, 16, 47, 23, 56, 40, 113, 134, 59, 12, 82, 32, 29, 91, 110, 17, 24, 35, 11, 24, 43, 21, 17, 49, 22, 14, 30, 21, 12, 14, 16, 19, 27, 26, 21, 19, 13, 39, 52, 35, 34, 103, 47, 98, 21, 24, 22, 27, 25, 55, 33, 78, 74, 38, 14, 17, 82, 18, 19, 29, 21, 28, 36, 19, 61, 69, 15, 43, 19, 14, 28, 19, 29, 23, 16, 18, 104, 14, 62, 76, 39, 29, 54, 22, 30, 63, 17, 89, 13, 30, 41, 22, 29, 12, 32, 67, 38, 19, 34, 48, 28, 57, 95, 17, 35, 39, 19, 11, 28, 18, 39, 64, 23, 46, 43, 13, 38, 51, 52, 13, 27, 16, 65, 22, 28, 31, 31, 40, 31, 49, 62, 45, 41, 50, 124, 49, 20, 55, 54, 28, 45, 34, 30, 29, 61, 18, 70, 25, 23, 49, 44, 58, 18, 29, 31, 27, 36, 36, 17, 45, 40, 62, 23, 38, 38, 24, 15, 82, 31, 59, 21, 19, 31, 15, 80, 76, 38, 30, 31, 59, 20, 79, 21, 39, 25, 32, 41, 23, 28, 16, 64, 43, 24, 25, 38, 23, 32, 78, 19, 81, 28, 39, 59, 58, 14, 38, 44, 24, 32, 39, 38, 31, 48, 46, 46, 38, 34, 43, 30, 21, 20, 101, 36, 32, 22, 28, 27, 30, 32, 27, 24, 56, 40, 38, 32, 27, 39, 21, 23, 48, 25, 124, 34, 20, 35, 113, 28, 19, 104, 41, 20, 73, 26, 26, 62, 22, 21, 26, 15, 15, 17, 10, 27, 12, 35, 21, 110, 46, 26, 43, 27, 25, 49, 20, 54, 27, 13, 24, 29, 34, 21, 18, 27, 62, 31, 24, 103, 24, 22, 53, 28, 52, 29, 36, 40, 37, 43, 13, 43, 52, 30, 24, 37, 52, 25, 16, 36, 46, 35, 69, 24, 46, 39, 69, 25, 20, 26, 33, 24, 59, 49, 60, 28, 38, 26, 103, 28, 61, 69, 157, 17, 138, 31, 32, 68, 24, 31, 27, 31, 36, 36, 81, 44, 98, 27, 23, 37, 23, 31, 54, 36, 35, 28, 52, 70, 18, 37, 51, 24, 17, 17, 75, 90, 22, 85, 20, 99, 37, 32, 90, 43, 17, 48, 17, 28, 21, 16, 19, 25, 10, 27, 28, 21, 20, 11, 34, 21, 17, 9, 17, 18, 24, 71, 25, 58, 75, 20, 25, 16, 54, 54, 10, 15, 22, 30, 36, 13, 24, 21, 23, 14, 11, 11, 23, 21, 10, 21, 14, 9, 9, 13, 14, 16, 13, 13, 10, 12, 10, 11, 9, 9, 10, 16, 11, 12, 22, 14, 14, 9, 10, 11, 20, 16, 23, 15, 12, 11, 10, 10, 22, 25, 20, 12, 24, 33, 13, 15, 9, 14, 15, 13, 11, 10, 15, 10, 10, 24, 38, 10, 15, 14, 13, 11, 25, 22, 13, 51, 16, 13, 12, 13, 10, 12, 38, 9, 17, 11, 12, 10, 11, 12, 11, 19, 17, 15, 11, 15, 18, 20, 13, 11, 12, 11, 11, 12, 17, 19, 34, 14, 11, 15, 32, 13, 12, 13, 10, 12, 9, 10, 10, 12, 15, 9, 9, 10, 35, 12, 25, 10, 12, 31, 18, 14, 18, 13, 12, 29, 22, 13, 13, 16, 10, 9, 10, 9, 13, 22, 17, 14, 14, 15, 29, 15, 10, 14, 13, 18, 14, 25, 10, 23, 13, 11, 18, 13, 21, 16, 16, 14, 17, 12, 11, 14, 10, 12, 13, 20, 15, 10, 27, 13, 68, 12, 13, 16, 25, 14, 33, 11, 23, 11, 10, 17, 9, 15, 20, 9, 15, 21, 14, 13, 28, 17, 28, 12, 20, 14, 17, 11, 10, 11, 9, 34, 13, 10, 9, 15, 12, 22, 10, 33, 17, 11, 23, 32, 15, 31, 20, 37, 24, 19, 17, 21, 25, 37, 21, 29, 28, 36, 69, 19, 12, 41, 15, 49, 29, 22, 17, 86, 17, 18, 9, 20, 22, 13, 20, 24, 15, 11, 21, 12, 27, 17, 21, 23, 13, 23, 21, 38, 19, 21, 22, 16, 32, 27, 21, 18, 12, 21, 11, 19, 15, 9, 8, 36, 15, 13, 12, 18, 16, 15, 10, 23, 18, 14, 11, 13, 11, 14, 15, 9, 37, 14, 24, 10, 19, 15, 12, 15, 11, 15, 17, 13, 11, 13, 11, 19, 12, 9, 11, 13, 14, 9, 13, 16, 11, 23, 12, 19, 21, 27, 11, 16, 15, 18, 21, 40, 13, 27, 13, 22, 15, 16, 12, 14, 13, 12, 10, 19, 14, 17, 11, 11, 10, 13, 10, 12, 12, 12, 11, 10, 12, 10, 12, 11, 11, 11, 9, 12, 10, 11, 10, 10, 8, 11, 12, 10, 8, 10, 11, 10, 11, 12, 10, 11, 9, 12, 10, 13, 12, 10, 11, 10, 10, 13, 8, 9, 12, 13, 9, 9, 11, 14, 14, 11, 14, 13, 10, 12, 14, 13, 12, 12, 8, 10, 10, 9, 9, 11, 10, 10, 9, 14, 10, 16, 13, 10, 10, 10, 9, 10, 11, 10, 15, 10, 10, 9, 10, 11, 8, 10, 10, 9, 12, 9, 10, 10, 10, 10, 9, 10, 12, 13, 10, 10, 10, 10, 16, 11, 9, 9, 9, 9, 12, 10, 9, 10, 13, 9, 10, 10, 10, 11, 10, 10, 10, 10, 11, 13, 11, 12, 10, 12, 10, 9, 12, 9, 12, 11, 13, 9, 9, 13, 10, 15, 9, 13, 11, 13, 10, 15, 13, 10, 14, 12, 11, 10, 13, 8, 20, 10, 14, 10, 13, 11, 21, 11, 10, 9, 17, 10, 10, 12, 10, 9, 9, 14, 10, 8, 11, 8, 10, 13, 12, 26, 12, 13, 15, 11, 12, 10, 9, 10, 12, 9, 11, 9, 14, 10, 11, 14, 13, 11, 9, 9, 10, 10, 9, 11, 9, 9, 12, 9, 10, 10, 11, 14, 10, 10, 9, 9, 9, 11, 10, 11, 10, 10, 12, 10, 16, 12, 11, 10, 12, 15, 12, 13, 10, 13, 13, 10, 10, 17, 10, 13, 14, 11, 13, 9, 11, 12, 8, 12, 8, 10, 10, 9, 12, 14, 11, 11, 10, 10, 10, 18, 12, 11, 24, 13, 15, 11, 12, 13, 12, 9, 9, 10, 16, 10, 17, 11, 13, 15, 11, 14, 17, 14, 24, 25, 26, 13, 25, 18, 16, 32, 29, 13, 23, 23, 31, 14, 55, 21, 48, 19, 36, 28, 41, 11, 31, 29, 35, 41, 38, 69, 38, 28, 56, 30, 31, 36, 18, 19, 52, 34, 56, 17, 34, 53, 38, 79, 37, 12, 78, 43, 73, 49, 39, 18, 41, 73, 99, 38, 21, 14, 13, 24, 35, 25, 24, 26, 27, 40, 27, 14, 33, 15, 46, 14, 11, 13, 13, 13, 22, 13, 34, 14, 20, 15, 17, 22, 14, 11, 30, 14, 15, 29, 18, 20, 18, 10, 18, 15, 19, 24, 13, 60, 11, 22, 12, 28, 30, 30, 23, 13, 11, 32, 17, 29, 14, 15, 62, 97, 21, 19, 16, 12, 15, 11, 13, 23, 50, 15, 14, 19, 113, 46, 120, 62, 33, 64, 112, 46, 108, 80, 80, 15, 128, 70, 38, 68, 58, 39, 28, 75, 17, 13, 23, 68, 23, 25, 29, 27, 58, 53, 77, 22, 20, 21, 19, 43, 107, 82, 15, 61, 44, 15, 31, 144, 131, 112, 89, 152, 138, 127, 19, 30, 25, 64, 13, 40, 50, 106, 81, 44, 37, 13, 101, 91, 35, 32, 52, 76, 127, 95, 27, 98, 107, 45, 70, 105, 64, 65, 270, 45, 62, 52, 25, 31, 39, 40, 44, 53, 39, 24, 40, 34, 42, 40, 37, 30, 40, 25, 40, 21, 23, 44, 82, 25, 37, 25, 41, 18, 16, 29, 68, 59, 56, 70, 33, 24, 21, 23, 41, 24, 26, 76, 19, 23, 67, 30, 28, 31, 20, 31, 25, 44, 34, 22, 27, 40, 24, 21, 41, 30, 21, 27, 36, 19, 23, 40, 60, 26, 31, 50, 40, 53, 21, 31, 42, 36, 55, 26, 37, 47, 40, 16, 35, 30, 42, 48, 33, 36, 15, 49, 51, 29, 24, 54, 31, 17, 26, 30, 83, 63, 25, 29, 54, 27, 24, 44, 39, 44, 11, 134, 26, 28, 45, 22, 27, 43, 17, 22, 36, 66, 30, 30, 19, 18, 26, 32, 36, 39, 48, 12, 33, 47, 42, 34, 72, 27, 28, 30, 51, 78, 21, 52, 34, 45, 26, 36, 79, 70, 38, 96, 57, 50, 29, 47, 127, 42, 30, 59, 39, 32, 38, 28, 60, 64, 58, 71, 72, 27, 78, 38, 15, 138, 44, 118, 38, 67, 39, 37, 72, 56, 49, 23, 44, 48, 42, 32, 57, 58, 33, 57, 38, 44, 35, 45, 18, 34, 41, 53, 38, 93, 12, 54, 12, 44, 26, 21, 35, 27, 32, 72, 22, 105, 25, 32, 90, 20, 27, 39, 66, 52, 19, 43, 18, 35, 25, 17, 32, 35, 31, 37, 18, 33, 24, 45, 31, 26, 27, 54, 26, 33, 19, 43, 37, 22, 28, 33, 39, 25, 28, 28, 29, 21, 26, 38, 17, 27, 33, 19, 22, 31, 42, 24, 37, 16, 20, 14, 31, 18, 29, 28, 24, 22, 37, 24, 22, 25, 28, 29, 20, 57, 21, 29, 66, 40, 27, 17, 36, 41, 20, 19, 22, 25, 26, 24, 20, 21, 26, 25, 22, 52, 29, 30, 21, 20, 26, 15, 18, 13, 62, 19, 20, 67, 23, 21, 36, 48, 22, 38, 40, 18, 15, 20, 12, 26, 46, 34, 24, 39, 35, 61, 34, 25, 74, 56, 32, 36, 19, 41, 24, 38, 16, 22, 23, 23, 21, 32, 31, 20, 25, 58, 38, 27, 49, 25, 55, 39, 24, 131, 24, 20, 35, 30, 63, 40, 30, 77, 38, 23, 41, 26, 33, 34, 29, 29, 42, 105, 29, 27, 54, 26, 39, 48, 64, 23, 38, 45, 26, 31, 26, 38, 30, 17, 24, 20, 22, 34, 23, 32, 35, 27, 23, 27, 39, 24, 36, 26, 30, 22, 46, 45, 44, 25, 57, 19, 29, 41, 30, 40, 56, 24, 31, 37, 35, 14, 16, 36, 29, 24, 23, 50, 48, 90, 31, 22, 36, 49, 57, 33, 44, 28, 27, 22, 30, 120, 87, 34, 45, 71, 44, 31, 69, 26, 35, 44, 46, 25, 43, 65, 27, 30, 38, 20, 40, 17, 34, 27, 24, 28, 19, 46, 31, 37, 28, 45, 24, 53, 38, 25, 43, 38, 86, 26, 33, 30, 32, 27, 29, 48, 61, 56, 37, 17, 17, 26, 34, 42, 101, 29, 15, 32, 31, 47, 36, 23, 41, 42, 29, 39, 32, 35, 83, 72, 37, 53, 30, 22, 89, 55, 94, 41, 40, 28, 41, 15, 50, 25, 19, 72, 16, 30, 38, 25, 36, 80, 32, 26, 24, 44, 25, 18, 38, 78, 31, 23, 40, 20, 33, 22, 58, 26, 33, 20, 36, 32, 64, 35, 23, 37, 42, 24, 75, 30, 36, 26, 25, 29, 48, 42, 51, 42, 32, 52, 20, 146, 48, 56, 28, 26, 24, 36, 16, 34, 17, 35, 29, 52, 23, 29, 42, 52, 23, 33, 52, 21, 16, 31, 35, 34, 59, 109, 40, 34, 70, 17, 41, 26, 13, 35, 14, 29, 18, 40, 21, 57, 67, 12, 24, 41, 18, 51, 25, 24, 11, 30, 9, 14, 34, 20, 10, 59, 10, 54, 31, 13, 9, 19, 30, 11, 16, 14, 18, 18, 46, 31, 13, 31, 60, 41, 14, 36, 12, 12, 24, 29, 24, 30, 27, 45, 18, 18, 25, 38, 38, 46, 45, 19, 17, 11, 29, 10, 12, 22, 19, 14, 13, 32, 42, 42, 27, 18]\n"
>>>>>>> 00a2086 (231005 study)
     ]
    },
    {
     "data": {
      "text/plain": "<Figure size 640x480 with 1 Axes>",
<<<<<<< HEAD
      "image/png": "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"
     },
     "metadata": {},
     "output_type": "display_data"
=======
      "image/png": "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"
     },
     "metadata": {},
     "output_type": "display_data"
    },
    {
     "name": "stdout",
     "output_type": "stream",
     "text": [
      "Complete\n"
     ]
>>>>>>> 00a2086 (231005 study)
    }
   ],
   "source": [
    "from IPython.display import clear_output\n",
    "\n",
    "num_episodes = 5000\n",
    "\n",
    "t_li = []\n",
    "for i_episode in range(num_episodes):\n",
    "    env.reset()\n",
    "    last_screen = get_screen()\n",
    "    current_screen = get_screen()\n",
    "    state = current_screen - last_screen\n",
    "\n",
    "    for t in count():\n",
    "        action = select_action(state)\n",
    "        _, reward, done, _, _ = env.step(action.item())\n",
    "        reward = torch.tensor([reward], device=device)\n",
    "\n",
    "        last_screen = current_screen\n",
    "        current_screen = get_screen()\n",
    "\n",
    "        if not done:\n",
    "            next_state = current_screen - last_screen\n",
    "        else:\n",
    "            next_state = None\n",
    "\n",
    "        memory.push(state, action, next_state, reward)\n",
    "        state = next_state\n",
    "\n",
    "        optimize_model()\n",
    "        # plt imshow in jupyter notebook update same figure\n",
    "        clear_output(wait=True)\n",
    "        plt.imshow(\n",
    "            get_screen().cpu().squeeze(0).permute(1, 2, 0).numpy(), interpolation=\"none\"\n",
    "        )\n",
    "        print(\"List of endured times\", t_li)\n",
    "        plt.show()\n",
    "        if done:\n",
    "            episode_durations.append(t + 1)\n",
    "            t_li.append(t + 1)\n",
    "            break\n",
    "    if i_episode % TARGET_UPDATE == 0:\n",
    "        target_net.load_state_dict(policy_net.state_dict())\n",
    "\n",
    "    print(\"Complete\")\n",
    "\n",
    "plt.title(\"screen\")\n",
    "env.render()\n",
    "env.close()\n",
    "plt.show()"
   ],
   "metadata": {
    "collapsed": false,
    "is_executing": true
   },
   "id": "e838467902aecc6e"
  }
 ],
 "metadata": {
  "kernelspec": {
   "display_name": "Python 3",
   "language": "python",
   "name": "python3"
  },
  "language_info": {
   "codemirror_mode": {
    "name": "ipython",
    "version": 2
   },
   "file_extension": ".py",
   "mimetype": "text/x-python",
   "name": "python",
   "nbconvert_exporter": "python",
   "pygments_lexer": "ipython2",
   "version": "2.7.6"
  }
 },
 "nbformat": 4,
 "nbformat_minor": 5
}
