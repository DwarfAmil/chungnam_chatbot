{
 "cells": [
  {
   "cell_type": "code",
   "execution_count": 1,
   "id": "initial_id",
   "metadata": {
    "collapsed": true,
    "ExecuteTime": {
     "end_time": "2023-10-04T00:40:12.301774600Z",
     "start_time": "2023-10-04T00:40:11.366898100Z"
    }
   },
   "outputs": [
    {
     "ename": "ValueError",
     "evalue": "y should be a 1d array, got an array of shape (6, 8) instead.",
     "output_type": "error",
     "traceback": [
      "\u001B[1;31m---------------------------------------------------------------------------\u001B[0m",
      "\u001B[1;31mValueError\u001B[0m                                Traceback (most recent call last)",
      "Cell \u001B[1;32mIn[1], line 8\u001B[0m\n\u001B[0;32m      5\u001B[0m label_encoder \u001B[38;5;241m=\u001B[39m preprocessing\u001B[38;5;241m.\u001B[39mLabelEncoder()\n\u001B[0;32m      6\u001B[0m onehot_encoder \u001B[38;5;241m=\u001B[39m preprocessing\u001B[38;5;241m.\u001B[39mOneHotEncoder()\n\u001B[1;32m----> 8\u001B[0m train_x \u001B[38;5;241m=\u001B[39m label_encoder\u001B[38;5;241m.\u001B[39mfit_transform(class2)\n\u001B[0;32m      9\u001B[0m \u001B[38;5;28mprint\u001B[39m(train_x)\n",
      "File \u001B[1;32m~\\anaconda3\\Lib\\site-packages\\sklearn\\utils\\_set_output.py:140\u001B[0m, in \u001B[0;36m_wrap_method_output.<locals>.wrapped\u001B[1;34m(self, X, *args, **kwargs)\u001B[0m\n\u001B[0;32m    138\u001B[0m \u001B[38;5;129m@wraps\u001B[39m(f)\n\u001B[0;32m    139\u001B[0m \u001B[38;5;28;01mdef\u001B[39;00m \u001B[38;5;21mwrapped\u001B[39m(\u001B[38;5;28mself\u001B[39m, X, \u001B[38;5;241m*\u001B[39margs, \u001B[38;5;241m*\u001B[39m\u001B[38;5;241m*\u001B[39mkwargs):\n\u001B[1;32m--> 140\u001B[0m     data_to_wrap \u001B[38;5;241m=\u001B[39m f(\u001B[38;5;28mself\u001B[39m, X, \u001B[38;5;241m*\u001B[39margs, \u001B[38;5;241m*\u001B[39m\u001B[38;5;241m*\u001B[39mkwargs)\n\u001B[0;32m    141\u001B[0m     \u001B[38;5;28;01mif\u001B[39;00m \u001B[38;5;28misinstance\u001B[39m(data_to_wrap, \u001B[38;5;28mtuple\u001B[39m):\n\u001B[0;32m    142\u001B[0m         \u001B[38;5;66;03m# only wrap the first output for cross decomposition\u001B[39;00m\n\u001B[0;32m    143\u001B[0m         return_tuple \u001B[38;5;241m=\u001B[39m (\n\u001B[0;32m    144\u001B[0m             _wrap_data_with_container(method, data_to_wrap[\u001B[38;5;241m0\u001B[39m], X, \u001B[38;5;28mself\u001B[39m),\n\u001B[0;32m    145\u001B[0m             \u001B[38;5;241m*\u001B[39mdata_to_wrap[\u001B[38;5;241m1\u001B[39m:],\n\u001B[0;32m    146\u001B[0m         )\n",
      "File \u001B[1;32m~\\anaconda3\\Lib\\site-packages\\sklearn\\preprocessing\\_label.py:114\u001B[0m, in \u001B[0;36mLabelEncoder.fit_transform\u001B[1;34m(self, y)\u001B[0m\n\u001B[0;32m    101\u001B[0m \u001B[38;5;28;01mdef\u001B[39;00m \u001B[38;5;21mfit_transform\u001B[39m(\u001B[38;5;28mself\u001B[39m, y):\n\u001B[0;32m    102\u001B[0m \u001B[38;5;250m    \u001B[39m\u001B[38;5;124;03m\"\"\"Fit label encoder and return encoded labels.\u001B[39;00m\n\u001B[0;32m    103\u001B[0m \n\u001B[0;32m    104\u001B[0m \u001B[38;5;124;03m    Parameters\u001B[39;00m\n\u001B[1;32m   (...)\u001B[0m\n\u001B[0;32m    112\u001B[0m \u001B[38;5;124;03m        Encoded labels.\u001B[39;00m\n\u001B[0;32m    113\u001B[0m \u001B[38;5;124;03m    \"\"\"\u001B[39;00m\n\u001B[1;32m--> 114\u001B[0m     y \u001B[38;5;241m=\u001B[39m column_or_1d(y, warn\u001B[38;5;241m=\u001B[39m\u001B[38;5;28;01mTrue\u001B[39;00m)\n\u001B[0;32m    115\u001B[0m     \u001B[38;5;28mself\u001B[39m\u001B[38;5;241m.\u001B[39mclasses_, y \u001B[38;5;241m=\u001B[39m _unique(y, return_inverse\u001B[38;5;241m=\u001B[39m\u001B[38;5;28;01mTrue\u001B[39;00m)\n\u001B[0;32m    116\u001B[0m     \u001B[38;5;28;01mreturn\u001B[39;00m y\n",
      "File \u001B[1;32m~\\anaconda3\\Lib\\site-packages\\sklearn\\utils\\validation.py:1245\u001B[0m, in \u001B[0;36mcolumn_or_1d\u001B[1;34m(y, dtype, warn)\u001B[0m\n\u001B[0;32m   1234\u001B[0m         warnings\u001B[38;5;241m.\u001B[39mwarn(\n\u001B[0;32m   1235\u001B[0m             (\n\u001B[0;32m   1236\u001B[0m                 \u001B[38;5;124m\"\u001B[39m\u001B[38;5;124mA column-vector y was passed when a 1d array was\u001B[39m\u001B[38;5;124m\"\u001B[39m\n\u001B[1;32m   (...)\u001B[0m\n\u001B[0;32m   1241\u001B[0m             stacklevel\u001B[38;5;241m=\u001B[39m\u001B[38;5;241m2\u001B[39m,\n\u001B[0;32m   1242\u001B[0m         )\n\u001B[0;32m   1243\u001B[0m     \u001B[38;5;28;01mreturn\u001B[39;00m _asarray_with_order(xp\u001B[38;5;241m.\u001B[39mreshape(y, (\u001B[38;5;241m-\u001B[39m\u001B[38;5;241m1\u001B[39m,)), order\u001B[38;5;241m=\u001B[39m\u001B[38;5;124m\"\u001B[39m\u001B[38;5;124mC\u001B[39m\u001B[38;5;124m\"\u001B[39m, xp\u001B[38;5;241m=\u001B[39mxp)\n\u001B[1;32m-> 1245\u001B[0m \u001B[38;5;28;01mraise\u001B[39;00m \u001B[38;5;167;01mValueError\u001B[39;00m(\n\u001B[0;32m   1246\u001B[0m     \u001B[38;5;124m\"\u001B[39m\u001B[38;5;124my should be a 1d array, got an array of shape \u001B[39m\u001B[38;5;132;01m{}\u001B[39;00m\u001B[38;5;124m instead.\u001B[39m\u001B[38;5;124m\"\u001B[39m\u001B[38;5;241m.\u001B[39mformat(shape)\n\u001B[0;32m   1247\u001B[0m )\n",
      "\u001B[1;31mValueError\u001B[0m: y should be a 1d array, got an array of shape (6, 8) instead."
     ]
    }
   ],
   "source": [
    "import pandas as pd\n",
    "from sklearn import preprocessing\n",
    "\n",
    "class2 = pd.read_csv(\"../pytorch/data/class2.csv\")\n",
    "label_encoder = preprocessing.LabelEncoder()\n",
    "onehot_encoder = preprocessing.OneHotEncoder()\n",
    "\n",
    "train_x = label_encoder.fit_transform(class2)\n",
    "print(train_x)"
   ]
  },
  {
   "cell_type": "code",
   "execution_count": null,
   "outputs": [],
   "source": [
    "from sklearn.feature_extraction.text import CountVectorizer\n",
    "\n",
    "corpus = [\n",
    "    \"This is the first document.\",\n",
    "    \"This is the second second document.\",\n",
    "    \"And the third one.\",\n",
    "    \"Is this the first document?\",\n",
    "]\n",
    "vect = CountVectorizer()\n",
    "vect.fit(corpus)\n",
    "vect.vocabulary_"
   ],
   "metadata": {
    "collapsed": false,
    "ExecuteTime": {
     "end_time": "2023-10-04T00:40:12.308813Z",
     "start_time": "2023-10-04T00:40:12.302773400Z"
    }
   },
   "id": "872c0b5aa0da8fc8"
  },
  {
   "cell_type": "code",
   "execution_count": null,
   "outputs": [],
   "source": [
    "vect.transform([\"This is the first document.\"]).toarray()"
   ],
   "metadata": {
    "collapsed": false,
    "ExecuteTime": {
     "start_time": "2023-10-04T00:40:12.308813Z"
    }
   },
   "id": "1162148efb8821b6"
  },
  {
   "cell_type": "code",
   "execution_count": null,
   "outputs": [],
   "source": [
    "from sklearn.feature_extraction.text import TfidfVectorizer\n",
    "\n",
    "doc = [\"I like machine learning\", \"I love deep learning\", \"I run everyday\"]\n",
    "tfidf_vectorize = TfidfVectorizer(min_df=1)\n",
    "tfidf_matrix = tfidf_vectorize.fit_transform(doc)\n",
    "doc_distance = tfidf_matrix * tfidf_matrix.T\n",
    "print(\n",
    "    \"유사도를 위한\",\n",
    "    str(doc_distance.get_shape()[0]),\n",
    "    \"x\",\n",
    "    str(doc_distance.get_shape()[1]),\n",
    "    \"행렬을 만들었습니다.\",\n",
    ")\n",
    "print(doc_distance.toarray())"
   ],
   "metadata": {
    "collapsed": false,
    "ExecuteTime": {
     "start_time": "2023-10-04T00:40:12.310811800Z"
    }
   },
   "id": "590be8f6950b50ba"
  },
  {
   "cell_type": "code",
   "execution_count": null,
   "outputs": [],
   "source": [
    "from nltk.tokenize import word_tokenize, sent_tokenize\n",
    "import warnings\n",
    "\n",
    "warnings.filterwarnings(action=\"ignore\")\n",
    "import gensim\n",
    "from gensim.models import Word2Vec\n",
    "\n",
    "sample = open(\"data2/peter.txt\", \"r\", encoding=\"utf-8\")\n",
    "s = sample.read()\n",
    "\n",
    "f = s.replace(\"\\n\", \" \")\n",
    "data = []\n",
    "\n",
    "for i in sent_tokenize(f):\n",
    "    data = []\n",
    "    for j in word_tokenize(i):\n",
    "        data.append(j.lower())\n",
    "\n",
    "data"
   ],
   "metadata": {
    "collapsed": false,
    "ExecuteTime": {
     "start_time": "2023-10-04T00:40:12.313083Z"
    }
   },
   "id": "e880a66d30a140e4"
  },
  {
   "cell_type": "code",
   "execution_count": null,
   "outputs": [],
   "source": [
    "model1 = gensim.models.Word2Vec(data, min_count=1, vector_size=100, window=5, sg=0)\n",
    "print(\"Cosine similarity between 'peter' \" + \"and 'rabbit' - CBOW : \", end=\"\")\n",
    "print(model1.wv.similarity(\"peter\", \"rabbit\"))\n",
    "print(model1.wv.similarity(\"peter\", \"hook\"))"
   ],
   "metadata": {
    "collapsed": false,
    "ExecuteTime": {
     "start_time": "2023-10-04T00:40:12.315485Z"
    }
   },
   "id": "7d51238907cbff5f"
  },
  {
   "cell_type": "code",
   "execution_count": null,
   "outputs": [],
   "source": [
    "model2 = gensim.models.Word2Vec(data, min_count=1, vector_size=100, window=5, sg=1)\n",
    "print(model2.wv.similarity(\"peter\", \"wendy\"))"
   ],
   "metadata": {
    "collapsed": false,
    "ExecuteTime": {
     "start_time": "2023-10-04T00:40:12.316517300Z"
    }
   },
   "id": "55c5cc2641c916ae"
  },
  {
   "cell_type": "code",
   "execution_count": null,
   "outputs": [],
   "source": [
    "from gensim.test.utils import common_texts\n",
    "from gensim.models import FastText\n",
    "\n",
    "model = FastText(\"data/peter.txt\", size=4, window=3, min_count=1, epochs=10)\n",
    "\n",
    "sim_score = model.wv.similarity(\"peter\", \"rabbit\")\n",
    "print(sim_score)\n",
    "\n",
    "sim_score = model.wv.similarity(\"peter\", \"hook\")\n",
    "print(sim_score)"
   ],
   "metadata": {
    "collapsed": false,
    "ExecuteTime": {
     "end_time": "2023-10-04T00:40:12.319982800Z",
     "start_time": "2023-10-04T00:40:12.317523800Z"
    }
   },
   "id": "501e305c4abeeef3"
  },
  {
   "cell_type": "code",
   "execution_count": null,
   "outputs": [],
   "source": [
    "from __future__ import print_function\n",
    "from gensim.models import KeyedVectors\n",
    "\n",
    "model_kr = KeyedVectors.load_word2vec_format(\"data/wiki.ko.vec\")"
   ],
   "metadata": {
    "collapsed": false,
    "ExecuteTime": {
     "end_time": "2023-10-04T00:40:12.319982800Z",
     "start_time": "2023-10-04T00:40:12.319982800Z"
    }
   },
   "id": "fc15e2c0b11b9b0c"
  },
  {
   "cell_type": "code",
   "execution_count": null,
   "outputs": [],
   "source": [
    "find_similar_to = \"노력\"\n",
    "\n",
    "for smilar_word in model_kr.similar_by_word(find_similar_to):\n",
    "    print(\"Word : \", smilar_word[0], \"\\nSimilarity : \", smilar_word[1])\n",
    "\n",
    "similarities = model_kr.most_similar(positive=[\"동물\", \"육식동물\"], negative=[\"사람\"])\n",
    "print(similarities)"
   ],
   "metadata": {
    "collapsed": false,
    "ExecuteTime": {
     "start_time": "2023-10-04T00:40:12.320984400Z"
    }
   },
   "id": "fe58ae9c734d9bd2"
  }
 ],
 "metadata": {
  "kernelspec": {
   "display_name": "Python 3",
   "language": "python",
   "name": "python3"
  },
  "language_info": {
   "codemirror_mode": {
    "name": "ipython",
    "version": 2
   },
   "file_extension": ".py",
   "mimetype": "text/x-python",
   "name": "python",
   "nbconvert_exporter": "python",
   "pygments_lexer": "ipython2",
   "version": "2.7.6"
  }
 },
 "nbformat": 4,
 "nbformat_minor": 5
}
