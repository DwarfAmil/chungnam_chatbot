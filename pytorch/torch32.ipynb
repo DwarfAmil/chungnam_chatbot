{
 "cells": [
  {
   "cell_type": "code",
   "execution_count": 2,
   "id": "initial_id",
   "metadata": {
    "collapsed": true,
    "ExecuteTime": {
     "end_time": "2023-09-25T05:30:41.407693900Z",
     "start_time": "2023-09-25T05:30:39.411325300Z"
    }
   },
   "outputs": [
    {
     "name": "stdout",
     "output_type": "stream",
     "text": [
      "showing info https://raw.githubusercontent.com/nltk/nltk_data/gh-pages/index.xml\n"
     ]
    },
    {
     "data": {
      "text/plain": "['Is', 'it', 'possible', 'distinguishing', 'cats', 'and', 'dogs']"
     },
     "execution_count": 2,
     "metadata": {},
     "output_type": "execute_result"
    }
   ],
   "source": [
    "import pandas as pd\n",
    "df = pd.read_csv(\"../pytorch/data/class2.csv\")\n",
    "df"
   ]
  },
  {
   "cell_type": "code",
   "execution_count": null,
   "outputs": [],
   "source": [
    "df.isnull().sum()"
   ],
   "metadata": {
    "collapsed": false
   },
   "id": "319ee5e3b1a2aefd"
  },
  {
   "cell_type": "code",
   "execution_count": null,
   "outputs": [],
   "source": [
    "df.isnull().sum() / len(df)"
   ],
   "metadata": {
    "collapsed": false
   },
   "id": "d871ffed22545dbc"
  },
  {
   "cell_type": "code",
   "execution_count": null,
   "outputs": [],
   "source": [
    "df = df.dropna(how=\"all\")\n",
    "print(df)"
   ],
   "metadata": {
    "collapsed": false
   },
   "id": "f0daca9e2766bde4"
  },
  {
   "cell_type": "code",
   "execution_count": null,
   "outputs": [],
   "source": [
    "df1 = df.dropna()\n",
    "print(df1)"
   ],
   "metadata": {
    "collapsed": false
   },
   "id": "5b9879e31d209c1f"
  },
  {
   "cell_type": "code",
   "execution_count": null,
   "outputs": [],
   "source": [
    "df2 = df.fillna()\n",
    "print(df2)"
   ],
   "metadata": {
    "collapsed": false
   },
   "id": "233f3232d83724f2"
  },
  {
   "cell_type": "code",
   "execution_count": null,
   "outputs": [],
   "source": [
    "df[\"x\"].fillna(df[\"x\"].mean(), inplace=True)\n",
    "print(df)"
   ],
   "metadata": {
    "collapsed": false
   },
   "id": "cd78692c858bfb6e"
  }
 ],
 "metadata": {
  "kernelspec": {
   "display_name": "Python 3",
   "language": "python",
   "name": "python3"
  },
  "language_info": {
   "codemirror_mode": {
    "name": "ipython",
    "version": 2
   },
   "file_extension": ".py",
   "mimetype": "text/x-python",
   "name": "python",
   "nbconvert_exporter": "python",
   "pygments_lexer": "ipython2",
   "version": "2.7.6"
  }
 },
 "nbformat": 4,
 "nbformat_minor": 5
}
