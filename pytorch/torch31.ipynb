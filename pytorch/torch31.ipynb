{
 "cells": [
  {
   "cell_type": "markdown",
   "source": [
    "**라이브러리 호출**"
   ],
   "metadata": {
    "collapsed": false
   },
   "id": "e05bc9a0e6e3d2a7"
  },
  {
   "cell_type": "code",
   "execution_count": 1,
   "id": "initial_id",
   "metadata": {
    "collapsed": true,
    "ExecuteTime": {
     "end_time": "2023-09-25T03:17:53.864370900Z",
     "start_time": "2023-09-25T03:17:50.924511800Z"
    }
   },
   "outputs": [],
   "source": [
    "import numpy as np\n",
    "import torch\n",
    "import torch.nn as nn\n",
    "import torch.optim as optim\n",
    "import torchvision.models as models\n",
    "from torchvision import transforms, datasets\n",
    "from torch.utils.data import DataLoader\n",
    "\n",
    "import matplotlib\n",
    "import matplotlib.pyplot as plt\n",
    "import time\n",
    "\n",
    "import argparse\n",
    "import easydict\n",
    "from tqdm import tqdm_notebook\n",
    "matplotlib.style.use(\"ggplot\")\n",
    "device = torch.device(\"cuda:0\" if torch.cuda.is_available() else \"cpu\")"
   ]
  },
  {
   "cell_type": "markdown",
   "source": [
    "**데이터셋 전처리**"
   ],
   "metadata": {
    "collapsed": false
   },
   "id": "77081564ce67f249"
  },
  {
   "cell_type": "code",
   "execution_count": 2,
   "outputs": [],
   "source": [
    "train_transforms = transforms.Compose([\n",
    "    transforms.Resize((224, 224)),\n",
    "    transforms.RandomHorizontalFlip(),\n",
    "    transforms.RandomVerticalFlip(),\n",
    "    transforms.ToTensor(),\n",
    "    transforms.Normalize(mean=[0.485, 0.456, 0.406],\n",
    "                         std=[0.229, 0.224, 0.225])\n",
    "])\n",
    "val_transforms = transforms.Compose([\n",
    "    transforms.Resize((224, 224)),\n",
    "    transforms.ToTensor(),\n",
    "    transforms.Normalize(mean=[0.485, 0.456, 0.406],\n",
    "                         std=[0.229, 0.224, 0.225])\n",
    "])"
   ],
   "metadata": {
    "collapsed": false,
    "ExecuteTime": {
     "end_time": "2023-09-25T03:17:53.874746600Z",
     "start_time": "2023-09-25T03:17:53.868237600Z"
    }
   },
   "id": "1b2f4d84e71efb91"
  },
  {
   "cell_type": "markdown",
   "source": [
    "**데이터셋 가져오기**"
   ],
   "metadata": {
    "collapsed": false
   },
   "id": "5a75bd966129f3e8"
  },
  {
   "cell_type": "code",
   "execution_count": 3,
   "outputs": [],
   "source": [
    "train_dataset = datasets.ImageFolder(\n",
    "    root=r\"../pytorch/data/archive/train\",\n",
    "    transform=train_transforms\n",
    ")\n",
    "train_dataloader = DataLoader(train_dataset, batch_size=32, shuffle=True)\n",
    "val_dataset = datasets.ImageFolder(\n",
    "    root=r\"../pytorch/data/archive/test\",\n",
    "    transform=val_transforms\n",
    ")\n",
    "val_dataloader = DataLoader(val_dataset, batch_size=32, shuffle=False)"
   ],
   "metadata": {
    "collapsed": false,
    "ExecuteTime": {
     "end_time": "2023-09-25T03:17:53.885624300Z",
     "start_time": "2023-09-25T03:17:53.870741400Z"
    }
   },
   "id": "a88e47e72c960671"
  },
  {
   "cell_type": "markdown",
   "source": [
    "**모델 생성**"
   ],
   "metadata": {
    "collapsed": false
   },
   "id": "5386f37c29fd913f"
  },
  {
   "cell_type": "code",
   "execution_count": 4,
   "outputs": [],
   "source": [
    "def resnet50(pretrained=True, requires_grad=False):\n",
    "    model = models.resnet50(progress=True, pretrained=pretrained)\n",
    "    if requires_grad == False:\n",
    "        for param in model.parameters():\n",
    "            param.requires_grad = False\n",
    "    elif requires_grad == True:\n",
    "        for param in model.parameters():\n",
    "            param.requires_grad = True\n",
    "    model.fc = nn.Linear(2048, 2)\n",
    "    return model"
   ],
   "metadata": {
    "collapsed": false,
    "ExecuteTime": {
     "end_time": "2023-09-25T03:17:53.885624300Z",
     "start_time": "2023-09-25T03:17:53.881522900Z"
    }
   },
   "id": "5df56c27cfafc888"
  },
  {
   "cell_type": "markdown",
   "source": [
    "**학습률 감소**"
   ],
   "metadata": {
    "collapsed": false
   },
   "id": "c5ea731f36ede713"
  },
  {
   "cell_type": "code",
   "execution_count": 5,
   "outputs": [],
   "source": [
    "class LRScheduler():\n",
    "    def __init__(self, optimizer, patience=5, min_lr=1e-6, factor=0.5):\n",
    "        self.optimizer =  optimizer\n",
    "        self.patience = patience\n",
    "        self.min_lr = min_lr\n",
    "        self.factor = factor\n",
    "        self.lr_scheduler = torch.optim.lr_scheduler.ReduceLROnPlateau(\n",
    "            self.optimizer,\n",
    "            mode=\"min\",\n",
    "            patience=self.patience,\n",
    "            factor=self.factor,\n",
    "            min_lr=self.min_lr,\n",
    "            verbose=True\n",
    "        )\n",
    "    \n",
    "    def __call__(self, val_loss):\n",
    "        self.lr_scheduler.step(val_loss)"
   ],
   "metadata": {
    "collapsed": false,
    "ExecuteTime": {
     "end_time": "2023-09-25T03:17:53.888633600Z",
     "start_time": "2023-09-25T03:17:53.885624300Z"
    }
   },
   "id": "dd88488db28024f7"
  },
  {
   "cell_type": "markdown",
   "source": [
    "**조기 종료**"
   ],
   "metadata": {
    "collapsed": false
   },
   "id": "57fc0f8155b85d4b"
  },
  {
   "cell_type": "code",
   "execution_count": 6,
   "outputs": [],
   "source": [
    "class EarlyStopping():\n",
    "    def __init__(self, patience=5, verbose=True, delta=0, path=\"../pytorch/data/checkpoint.pt\"):\n",
    "        self.patience = patience\n",
    "        self.verbose = verbose\n",
    "        self.counter = 0\n",
    "        self.best_score = None\n",
    "        self.early_stop = False\n",
    "        self.val_loss_min = np.Inf\n",
    "        self.delta = delta\n",
    "        self.path = path\n",
    "        \n",
    "    def __call__(self, val_loss, model):\n",
    "        score = -val_loss\n",
    "        if self.best_score is None:\n",
    "            self.best_score = score\n",
    "            self.save_checkpoint(val_loss, model)\n",
    "        elif score < self.best_score + self.delta:\n",
    "            self.counter += 1\n",
    "            print(f\"EarlyStopping counter: {self.counter} out of {self.patience}\")\n",
    "            if self.counter >= self.patience:\n",
    "                self.early_stop = True\n",
    "        else:\n",
    "            self.best_score = score\n",
    "            self.save_checkpoint(val_loss, model)\n",
    "            self.counter = 0\n",
    "    \n",
    "    def save_checkpoint(self, val_loss, model):\n",
    "        if self.verbose:\n",
    "            print(f\"Validation loss decreased ({self.val_loss_min :.6f} --> {val_loss:.6f}). Saving model ...\")\n",
    "        torch.save(model.state_dict(), self.path)\n",
    "        self.val_loss_min = val_loss"
   ],
   "metadata": {
    "collapsed": false,
    "ExecuteTime": {
     "end_time": "2023-09-25T03:17:53.898341600Z",
     "start_time": "2023-09-25T03:17:53.890632100Z"
    }
   },
   "id": "234cbca2a4648c92"
  },
  {
   "cell_type": "markdown",
   "source": [
    "**인수 값 지정**"
   ],
   "metadata": {
    "collapsed": false
   },
   "id": "935d2295efa60046"
  },
  {
   "cell_type": "code",
   "execution_count": 7,
   "outputs": [],
   "source": [
    "# parser = argparse.ArgumentParser()\n",
    "# parser.add_argument(\"--lr-scheduler\", dest=\"lr_scheduler\", action=\"store_true\", default=False)\n",
    "# parser.add_argument(\"--early-stopping\", dest=\"early_stopping\", action=\"store_true\", default=False)\n",
    "# args = vars(parser.parse_args())\n",
    "\n",
    "args = easydict.EasyDict({\n",
    "    \"lr_scheduler\" : False,\n",
    "    \"early_stopping\" : False\n",
    "})"
   ],
   "metadata": {
    "collapsed": false,
    "ExecuteTime": {
     "end_time": "2023-09-25T03:17:53.898341600Z",
     "start_time": "2023-09-25T03:17:53.895422200Z"
    }
   },
   "id": "2c225b15e3ae500f"
  },
  {
   "cell_type": "markdown",
   "source": [
    "**사전 훈련된 모델의 파라미터 확인**"
   ],
   "metadata": {
    "collapsed": false
   },
   "id": "d400dee3937255b2"
  },
  {
   "cell_type": "code",
   "execution_count": 8,
   "outputs": [
    {
     "name": "stdout",
     "output_type": "stream",
     "text": [
      "Computation device: cpu\n"
     ]
    },
    {
     "name": "stderr",
     "output_type": "stream",
     "text": [
      "C:\\Users\\amil0\\AppData\\Roaming\\Python\\Python311\\site-packages\\torchvision\\models\\_utils.py:208: UserWarning: The parameter 'pretrained' is deprecated since 0.13 and may be removed in the future, please use 'weights' instead.\n",
      "  warnings.warn(\n",
      "C:\\Users\\amil0\\AppData\\Roaming\\Python\\Python311\\site-packages\\torchvision\\models\\_utils.py:223: UserWarning: Arguments other than a weight enum or `None` for 'weights' are deprecated since 0.13 and may be removed in the future. The current behavior is equivalent to passing `weights=ResNet50_Weights.IMAGENET1K_V1`. You can also use `weights=ResNet50_Weights.DEFAULT` to get the most up-to-date weights.\n",
      "  warnings.warn(msg)\n"
     ]
    },
    {
     "name": "stdout",
     "output_type": "stream",
     "text": [
      "25,557,032 total parameters.\n",
      "25,557,032 training parameters.\n"
     ]
    }
   ],
   "source": [
    "print(f\"Computation device: {device}\\n\")\n",
    "model = models.resnet50(pretrained=True).to(device)\n",
    "total_params = sum(p.numel() for p in model.parameters())\n",
    "print(f\"{total_params:,} total parameters.\")\n",
    "total_trainable_params = sum(p.numel() for p in model.parameters() if p.requires_grad)\n",
    "print(f\"{total_trainable_params:,} training parameters.\")"
   ],
   "metadata": {
    "collapsed": false,
    "ExecuteTime": {
     "end_time": "2023-09-25T03:17:54.187648600Z",
     "start_time": "2023-09-25T03:17:53.899899Z"
    }
   },
   "id": "f828e87c769676fc"
  },
  {
   "cell_type": "markdown",
   "source": [
    "**옵티마이저와 손실함수 지정**"
   ],
   "metadata": {
    "collapsed": false
   },
   "id": "885742f762719cf1"
  },
  {
   "cell_type": "code",
   "execution_count": 9,
   "outputs": [],
   "source": [
    "lr = 0.001\n",
    "epochs = 10\n",
    "optimizer = optim.Adam(model.parameters(), lr=lr)\n",
    "criterion = nn.CrossEntropyLoss()"
   ],
   "metadata": {
    "collapsed": false,
    "ExecuteTime": {
     "end_time": "2023-09-25T03:17:54.188647700Z",
     "start_time": "2023-09-25T03:17:54.151745100Z"
    }
   },
   "id": "d9bead03d907bdc4"
  },
  {
   "cell_type": "markdown",
   "source": [
    "**오차, 정확도 및 모델의 이름에 대한 문자열**"
   ],
   "metadata": {
    "collapsed": false
   },
   "id": "bd4e76e5fa2194d7"
  },
  {
   "cell_type": "code",
   "execution_count": 10,
   "outputs": [],
   "source": [
    "loss_plot_name = \"loss\"\n",
    "acc_plot_name = \"accuracy\"\n",
    "model_name = \"model\""
   ],
   "metadata": {
    "collapsed": false,
    "ExecuteTime": {
     "end_time": "2023-09-25T03:17:54.188647700Z",
     "start_time": "2023-09-25T03:17:54.157411700Z"
    }
   },
   "id": "40aed25f3c2a4dd6"
  },
  {
   "cell_type": "markdown",
   "source": [
    "**오차, 정확도 및 모델의 이름에 대한 문자열**"
   ],
   "metadata": {
    "collapsed": false
   },
   "id": "31546ed96680f135"
  },
  {
   "cell_type": "code",
   "execution_count": 11,
   "outputs": [],
   "source": [
    "if args[\"lr_scheduler\"]:\n",
    "    print(\"INFO: Initializing learning rate scheduler\")\n",
    "    lr_scheduler = LRScheduler(optimizer)\n",
    "    loss_plot_name = \"lrs_loss\"\n",
    "    acc_plot_name = \"lrs_accuracy\"\n",
    "    model_name = \"lrs_model\"\n",
    "if args[\"early_stopping\"]:\n",
    "    print(\"INFO: Initializing early stopping\")\n",
    "    early_stopping = EarlyStopping()\n",
    "    loss_plot_name = \"es_loss\"\n",
    "    acc_plot_name = \"es_accuracy\"\n",
    "    model_name = \"es_model\""
   ],
   "metadata": {
    "collapsed": false,
    "ExecuteTime": {
     "end_time": "2023-09-25T03:17:54.188647700Z",
     "start_time": "2023-09-25T03:17:54.159419600Z"
    }
   },
   "id": "ae1d586afb3f3a7e"
  },
  {
   "cell_type": "markdown",
   "source": [
    "**모델 학습 함수**"
   ],
   "metadata": {
    "collapsed": false
   },
   "id": "8878d24850d2faa5"
  },
  {
   "cell_type": "code",
   "execution_count": 12,
   "outputs": [],
   "source": [
    "def training(model, train_dataloader, train_dataset, optimizer, criterion):\n",
    "    print(\"Training\")\n",
    "    model.train()\n",
    "    train_running_loss = 0.0\n",
    "    train_running_correct = 0\n",
    "    counter = 0\n",
    "    total = 0\n",
    "    prog_bar = tqdm_notebook(enumerate(train_dataloader), total=int(len(train_dataset) / train_dataloader.batch_size))\n",
    "    for i, data in prog_bar:\n",
    "        counter += 1\n",
    "        data, target = data[0].to(device), data[1].to(device)\n",
    "        total += target.size(0)\n",
    "        optimizer.zero_grad()\n",
    "        outputs = model(data)\n",
    "        loss = criterion(outputs, target)\n",
    "        train_running_loss += loss.item()\n",
    "        _, preds = torch.max(outputs.data, 1)\n",
    "        train_running_correct += (preds == target).sum().item()\n",
    "        loss.backward()\n",
    "        optimizer.step()\n",
    "        \n",
    "    train_loss = train_running_loss / counter\n",
    "    train_accuracy = 100. * train_running_correct / total\n",
    "    return train_loss, train_accuracy"
   ],
   "metadata": {
    "collapsed": false,
    "ExecuteTime": {
     "end_time": "2023-09-25T03:17:54.188647700Z",
     "start_time": "2023-09-25T03:17:54.164031700Z"
    }
   },
   "id": "d2d4f161754f6080"
  },
  {
   "cell_type": "markdown",
   "source": [
    "**모델 검증 함수**"
   ],
   "metadata": {
    "collapsed": false
   },
   "id": "eef5f6df8b0ead1e"
  },
  {
   "cell_type": "code",
   "execution_count": 13,
   "outputs": [],
   "source": [
    "def validate(model, test_dataloader, val_dataset, criterion):\n",
    "    print(\"Validating\")\n",
    "    model.eval()\n",
    "    val_running_loss = 0.0\n",
    "    val_running_correct = 0\n",
    "    counter = 0\n",
    "    total = 0\n",
    "    prog_var = tqdm_notebook(enumerate(test_dataloader), total=int(len(val_dataset) / test_dataloader.batch_size))\n",
    "    with torch.no_grad():\n",
    "        for i, data in prog_var:\n",
    "            counter += 1\n",
    "            data, target = data[0].to(device), data[1].to(device)\n",
    "            total += target.size(0)\n",
    "            outputs = model(data)\n",
    "            loss = criterion(outputs, target)\n",
    "            \n",
    "            val_running_loss += loss.item()\n",
    "            _, preds = torch.max(outputs.data, 1)\n",
    "            val_running_correct += (preds == target).sum().item()\n",
    "            \n",
    "        val_loss = val_running_loss / counter\n",
    "        val_accuracy = 100. * val_running_correct / total\n",
    "        return val_loss, val_accuracy"
   ],
   "metadata": {
    "collapsed": false,
    "ExecuteTime": {
     "end_time": "2023-09-25T03:17:54.188647700Z",
     "start_time": "2023-09-25T03:17:54.173130800Z"
    }
   },
   "id": "9b6f5d2c887019fa"
  },
  {
   "cell_type": "markdown",
   "source": [
    "**모델 학습**"
   ],
   "metadata": {
    "collapsed": false
   },
   "id": "36c12ce3ecfb9d95"
  },
  {
   "cell_type": "code",
   "execution_count": 14,
   "outputs": [
    {
     "name": "stdout",
     "output_type": "stream",
     "text": [
      "Epoch 1 of 10\n",
      "Training\n"
     ]
    },
    {
     "name": "stderr",
     "output_type": "stream",
     "text": [
      "C:\\Users\\amil0\\AppData\\Local\\Temp\\ipykernel_17420\\2932578608.py:8: TqdmDeprecationWarning: This function will be removed in tqdm==5.0.0\n",
      "Please use `tqdm.notebook.tqdm` instead of `tqdm.tqdm_notebook`\n",
      "  prog_bar = tqdm_notebook(enumerate(train_dataloader), total=int(len(train_dataset) / train_dataloader.batch_size))\n"
     ]
    },
    {
     "data": {
      "text/plain": "  0%|          | 0/15 [00:00<?, ?it/s]",
      "application/vnd.jupyter.widget-view+json": {
       "version_major": 2,
       "version_minor": 0,
       "model_id": "28d7363e0dc54801a60587cccab5d947"
      }
     },
     "metadata": {},
     "output_type": "display_data"
    },
    {
     "ename": "KeyboardInterrupt",
     "evalue": "",
     "output_type": "error",
     "traceback": [
      "\u001B[1;31m---------------------------------------------------------------------------\u001B[0m",
      "\u001B[1;31mKeyboardInterrupt\u001B[0m                         Traceback (most recent call last)",
      "Cell \u001B[1;32mIn[14], line 9\u001B[0m\n\u001B[0;32m      7\u001B[0m \u001B[38;5;28;01mfor\u001B[39;00m epoch \u001B[38;5;129;01min\u001B[39;00m \u001B[38;5;28mrange\u001B[39m(epochs):\n\u001B[0;32m      8\u001B[0m     \u001B[38;5;28mprint\u001B[39m(\u001B[38;5;124mf\u001B[39m\u001B[38;5;124m\"\u001B[39m\u001B[38;5;124mEpoch \u001B[39m\u001B[38;5;132;01m{\u001B[39;00mepoch\u001B[38;5;250m \u001B[39m\u001B[38;5;241m+\u001B[39m\u001B[38;5;250m \u001B[39m\u001B[38;5;241m1\u001B[39m\u001B[38;5;132;01m}\u001B[39;00m\u001B[38;5;124m of \u001B[39m\u001B[38;5;132;01m{\u001B[39;00mepochs\u001B[38;5;132;01m}\u001B[39;00m\u001B[38;5;124m\"\u001B[39m)\n\u001B[1;32m----> 9\u001B[0m     train_epoch_loss, train_epoch_accuracy \u001B[38;5;241m=\u001B[39m training(model, train_dataloader, train_dataset, optimizer, criterion)\n\u001B[0;32m     10\u001B[0m     val_epoch_loss, val_epoch_accuracy \u001B[38;5;241m=\u001B[39m validate(model, val_dataloader, val_dataset, criterion)\n\u001B[0;32m     11\u001B[0m     train_loss\u001B[38;5;241m.\u001B[39mappend(train_epoch_loss)\n",
      "Cell \u001B[1;32mIn[12], line 19\u001B[0m, in \u001B[0;36mtraining\u001B[1;34m(model, train_dataloader, train_dataset, optimizer, criterion)\u001B[0m\n\u001B[0;32m     17\u001B[0m     _, preds \u001B[38;5;241m=\u001B[39m torch\u001B[38;5;241m.\u001B[39mmax(outputs\u001B[38;5;241m.\u001B[39mdata, \u001B[38;5;241m1\u001B[39m)\n\u001B[0;32m     18\u001B[0m     train_running_correct \u001B[38;5;241m+\u001B[39m\u001B[38;5;241m=\u001B[39m (preds \u001B[38;5;241m==\u001B[39m target)\u001B[38;5;241m.\u001B[39msum()\u001B[38;5;241m.\u001B[39mitem()\n\u001B[1;32m---> 19\u001B[0m     loss\u001B[38;5;241m.\u001B[39mbackward()\n\u001B[0;32m     20\u001B[0m     optimizer\u001B[38;5;241m.\u001B[39mstep()\n\u001B[0;32m     22\u001B[0m train_loss \u001B[38;5;241m=\u001B[39m train_running_loss \u001B[38;5;241m/\u001B[39m counter\n",
      "File \u001B[1;32m~\\anaconda3\\Lib\\site-packages\\torch\\_tensor.py:487\u001B[0m, in \u001B[0;36mTensor.backward\u001B[1;34m(self, gradient, retain_graph, create_graph, inputs)\u001B[0m\n\u001B[0;32m    477\u001B[0m \u001B[38;5;28;01mif\u001B[39;00m has_torch_function_unary(\u001B[38;5;28mself\u001B[39m):\n\u001B[0;32m    478\u001B[0m     \u001B[38;5;28;01mreturn\u001B[39;00m handle_torch_function(\n\u001B[0;32m    479\u001B[0m         Tensor\u001B[38;5;241m.\u001B[39mbackward,\n\u001B[0;32m    480\u001B[0m         (\u001B[38;5;28mself\u001B[39m,),\n\u001B[1;32m   (...)\u001B[0m\n\u001B[0;32m    485\u001B[0m         inputs\u001B[38;5;241m=\u001B[39minputs,\n\u001B[0;32m    486\u001B[0m     )\n\u001B[1;32m--> 487\u001B[0m torch\u001B[38;5;241m.\u001B[39mautograd\u001B[38;5;241m.\u001B[39mbackward(\n\u001B[0;32m    488\u001B[0m     \u001B[38;5;28mself\u001B[39m, gradient, retain_graph, create_graph, inputs\u001B[38;5;241m=\u001B[39minputs\n\u001B[0;32m    489\u001B[0m )\n",
      "File \u001B[1;32m~\\anaconda3\\Lib\\site-packages\\torch\\autograd\\__init__.py:200\u001B[0m, in \u001B[0;36mbackward\u001B[1;34m(tensors, grad_tensors, retain_graph, create_graph, grad_variables, inputs)\u001B[0m\n\u001B[0;32m    195\u001B[0m     retain_graph \u001B[38;5;241m=\u001B[39m create_graph\n\u001B[0;32m    197\u001B[0m \u001B[38;5;66;03m# The reason we repeat same the comment below is that\u001B[39;00m\n\u001B[0;32m    198\u001B[0m \u001B[38;5;66;03m# some Python versions print out the first line of a multi-line function\u001B[39;00m\n\u001B[0;32m    199\u001B[0m \u001B[38;5;66;03m# calls in the traceback and some print out the last line\u001B[39;00m\n\u001B[1;32m--> 200\u001B[0m Variable\u001B[38;5;241m.\u001B[39m_execution_engine\u001B[38;5;241m.\u001B[39mrun_backward(  \u001B[38;5;66;03m# Calls into the C++ engine to run the backward pass\u001B[39;00m\n\u001B[0;32m    201\u001B[0m     tensors, grad_tensors_, retain_graph, create_graph, inputs,\n\u001B[0;32m    202\u001B[0m     allow_unreachable\u001B[38;5;241m=\u001B[39m\u001B[38;5;28;01mTrue\u001B[39;00m, accumulate_grad\u001B[38;5;241m=\u001B[39m\u001B[38;5;28;01mTrue\u001B[39;00m)\n",
      "\u001B[1;31mKeyboardInterrupt\u001B[0m: "
     ]
    }
   ],
   "source": [
    "train_loss, train_accuracy = [], []\n",
    "\n",
    "val_loss, val_accuracy = [], []\n",
    "\n",
    "start = time.time()\n",
    "\n",
    "for epoch in range(epochs):\n",
    "    print(f\"Epoch {epoch + 1} of {epochs}\")\n",
    "    train_epoch_loss, train_epoch_accuracy = training(model, train_dataloader, train_dataset, optimizer, criterion)\n",
    "    val_epoch_loss, val_epoch_accuracy = validate(model, val_dataloader, val_dataset, criterion)\n",
    "    train_loss.append(train_epoch_loss)\n",
    "    train_accuracy.append(train_epoch_accuracy)\n",
    "    val_loss.append(val_epoch_loss)\n",
    "    val_accuracy.append(val_epoch_accuracy)\n",
    "    if args[\"lr_scheduler\"]:\n",
    "        lr_scheduler(val_epoch_loss)\n",
    "    if args[\"early_stopping\"]:\n",
    "        early_stopping(val_epoch_loss, model)\n",
    "        if early_stopping.early_stop:\n",
    "            break\n",
    "    print(f\"Train Loss: {train_epoch_loss :.4f}, Train Acc: {train_epoch_accuracy :.2f}\")\n",
    "    print(f\"Val Loss: {val_epoch_loss :.4f}, Val Acc: {val_epoch_accuracy :.2f}\")\n",
    "\n",
    "end = time.time()\n",
    "print(f\"Training Time: {(end - start) / 60 :.3f} minutes\")"
   ],
   "metadata": {
    "collapsed": false,
    "ExecuteTime": {
     "end_time": "2023-09-25T03:18:19.802572Z",
     "start_time": "2023-09-25T03:17:54.177137500Z"
    }
   },
   "id": "22c825dc542c65b7"
  },
  {
   "cell_type": "markdown",
   "source": [
    "**모델 학습 결과 출력**"
   ],
   "metadata": {
    "collapsed": false
   },
   "id": "73fb1b326440e296"
  },
  {
   "cell_type": "code",
   "execution_count": null,
   "outputs": [],
   "source": [
    "print(\"Saving loss and accuracy plots...\")\n",
    "plt.figure(figsize=(10, 7))\n",
    "plt.plot(train_accuracy, color=\"green\", label=\"train accuracy\")\n",
    "plt.plot(val_accuracy, color=\"blue\", label=\"validation accuracy\")\n",
    "plt.xlabel(\"Epochs\")\n",
    "plt.ylabel(\"Accuracy\")\n",
    "plt.legend()\n",
    "plt.savefig(f\"../pytorch/img/{acc_plot_name}.png\")\n",
    "plt.show()\n",
    "plt.figure(figsize=(10, 7))\n",
    "plt.plot(train_loss, color=\"orange\", label=\"train loss\")\n",
    "plt.plot(val_loss, color=\"red\", label=\"validation loss\")\n",
    "plt.xlabel(\"Epochs\")\n",
    "plt.ylabel(\"Loss\")\n",
    "plt.legend()\n",
    "plt.savefig(f\"../pytorch/img/{acc_plot_name}.png\")\n",
    "plt.show()\n",
    "\n",
    "print(\"Saving model...\")\n",
    "torch.save(model.state_dict(), f\"../pytorch/img/{model_name}.pth\")\n",
    "print(\"TRAINING COMPLETE\")"
   ],
   "metadata": {
    "collapsed": false,
    "ExecuteTime": {
     "end_time": "2023-09-25T03:18:19.804450200Z",
     "start_time": "2023-09-25T03:18:19.803940800Z"
    }
   },
   "id": "1e855662179d5c79"
  }
 ],
 "metadata": {
  "kernelspec": {
   "display_name": "Python 3",
   "language": "python",
   "name": "python3"
  },
  "language_info": {
   "codemirror_mode": {
    "name": "ipython",
    "version": 2
   },
   "file_extension": ".py",
   "mimetype": "text/x-python",
   "name": "python",
   "nbconvert_exporter": "python",
   "pygments_lexer": "ipython2",
   "version": "2.7.6"
  }
 },
 "nbformat": 4,
 "nbformat_minor": 5
}
