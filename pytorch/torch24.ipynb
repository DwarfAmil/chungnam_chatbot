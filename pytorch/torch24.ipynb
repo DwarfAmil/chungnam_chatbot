{
 "cells": [
  {
   "cell_type": "markdown",
   "source": [
    "**라이브러리 호출**"
   ],
   "metadata": {
    "collapsed": false
   },
   "id": "196f57c8ae7f1210"
  },
  {
   "cell_type": "code",
   "execution_count": 69,
   "id": "initial_id",
   "metadata": {
    "collapsed": false,
    "ExecuteTime": {
     "end_time": "2023-09-20T05:21:33.312135700Z",
     "start_time": "2023-09-20T05:21:33.184796800Z"
    }
   },
   "outputs": [],
   "source": [
    "import torch\n",
    "import torchtext\n",
    "import numpy as np\n",
    "import torch.nn as nn\n",
    "import torch.nn.functional as F\n",
    "import time"
   ]
  },
  {
   "cell_type": "markdown",
   "source": [
    "**데이터 전처리**"
   ],
   "metadata": {
    "collapsed": false
   },
   "id": "71b41951491ab0c"
  },
  {
   "cell_type": "code",
   "execution_count": 70,
   "id": "ce391ece538d17e2",
   "metadata": {
    "collapsed": false,
    "ExecuteTime": {
     "end_time": "2023-09-20T05:21:33.312135700Z",
     "start_time": "2023-09-20T05:21:33.190210200Z"
    }
   },
   "outputs": [],
   "source": [
    "start = time.time()\n",
    "TEXT = torchtext.data.Field(lower=True, fix_length=200, batch_first=False)\n",
    "LABEL = torchtext.data.Field(sequential=False)"
   ]
  },
  {
   "cell_type": "markdown",
   "source": [
    "**데이터셋 준비**"
   ],
   "metadata": {
    "collapsed": false
   },
   "id": "d62eccdc038c2b11"
  },
  {
   "cell_type": "code",
   "execution_count": 71,
   "id": "833848c24f839ef1",
   "metadata": {
    "collapsed": false,
    "ExecuteTime": {
     "end_time": "2023-09-20T05:21:40.411398900Z",
     "start_time": "2023-09-20T05:21:33.193830600Z"
    }
   },
   "outputs": [],
   "source": [
    "from torchtext import datasets\n",
    "train_data, test_data = datasets.IMDB.splits(TEXT, LABEL)"
   ]
  },
  {
   "cell_type": "markdown",
   "source": [
    "**훈련 데이터셋 내용 확인**"
   ],
   "metadata": {
    "collapsed": false
   },
   "id": "f3c61310df5b9984"
  },
  {
   "cell_type": "code",
   "execution_count": 72,
   "id": "afde3e15d73b8e86",
   "metadata": {
    "collapsed": false,
    "ExecuteTime": {
     "end_time": "2023-09-20T05:21:40.418370300Z",
     "start_time": "2023-09-20T05:21:40.413857300Z"
    }
   },
   "outputs": [
    {
     "name": "stdout",
     "output_type": "stream",
     "text": [
      "{'text': ['bromwell', 'high', 'is', 'a', 'cartoon', 'comedy.', 'it', 'ran', 'at', 'the', 'same', 'time', 'as', 'some', 'other', 'programs', 'about', 'school', 'life,', 'such', 'as', '\"teachers\".', 'my', '35', 'years', 'in', 'the', 'teaching', 'profession', 'lead', 'me', 'to', 'believe', 'that', 'bromwell', \"high's\", 'satire', 'is', 'much', 'closer', 'to', 'reality', 'than', 'is', '\"teachers\".', 'the', 'scramble', 'to', 'survive', 'financially,', 'the', 'insightful', 'students', 'who', 'can', 'see', 'right', 'through', 'their', 'pathetic', \"teachers'\", 'pomp,', 'the', 'pettiness', 'of', 'the', 'whole', 'situation,', 'all', 'remind', 'me', 'of', 'the', 'schools', 'i', 'knew', 'and', 'their', 'students.', 'when', 'i', 'saw', 'the', 'episode', 'in', 'which', 'a', 'student', 'repeatedly', 'tried', 'to', 'burn', 'down', 'the', 'school,', 'i', 'immediately', 'recalled', '.........', 'at', '..........', 'high.', 'a', 'classic', 'line:', 'inspector:', \"i'm\", 'here', 'to', 'sack', 'one', 'of', 'your', 'teachers.', 'student:', 'welcome', 'to', 'bromwell', 'high.', 'i', 'expect', 'that', 'many', 'adults', 'of', 'my', 'age', 'think', 'that', 'bromwell', 'high', 'is', 'far', 'fetched.', 'what', 'a', 'pity', 'that', 'it', \"isn't!\"], 'label': 'pos'}\n"
     ]
    }
   ],
   "source": [
    "print(vars(train_data.examples[0]))"
   ]
  },
  {
   "cell_type": "markdown",
   "source": [
    "**데이터셋 전처리 적용**"
   ],
   "metadata": {
    "collapsed": false
   },
   "id": "bfe5620d6e9a4c11"
  },
  {
   "cell_type": "code",
   "execution_count": 73,
   "id": "279eaf4e0a394848",
   "metadata": {
    "collapsed": false,
    "ExecuteTime": {
     "end_time": "2023-09-20T05:21:46.030899400Z",
     "start_time": "2023-09-20T05:21:40.419371400Z"
    }
   },
   "outputs": [],
   "source": [
    "import string\n",
    "\n",
    "for example in train_data.examples:\n",
    "    text = [x.lower() for x in vars(example)[\"text\"]]\n",
    "    text = [x.replace(\"<br\", \"\") for x in text]\n",
    "    text = [\"\".join(c for c in s if c not in string.punctuation) for s in text]\n",
    "    text = [s for s in text if s]\n",
    "    vars(example)[\"text\"] = text"
   ]
  },
  {
   "cell_type": "markdown",
   "source": [
    "**훈련과 검증 데어터셋 분리**"
   ],
   "metadata": {
    "collapsed": false
   },
   "id": "447dfa90fedac32c"
  },
  {
   "cell_type": "code",
   "execution_count": 74,
   "id": "6b606c68",
   "metadata": {
    "ExecuteTime": {
     "end_time": "2023-09-20T05:21:46.050173200Z",
     "start_time": "2023-09-20T05:21:46.032899Z"
    }
   },
   "outputs": [],
   "source": [
    "import random\n",
    "train_data, valid_data = train_data.split(random_state=random.seed(0), split_ratio=0.8)"
   ]
  },
  {
   "cell_type": "markdown",
   "source": [
    "**데이터셋 개수 확인**"
   ],
   "metadata": {
    "collapsed": false
   },
   "id": "c502034950ce8c"
  },
  {
   "cell_type": "code",
   "execution_count": 75,
   "outputs": [
    {
     "name": "stdout",
     "output_type": "stream",
     "text": [
      "Number of training examples: 20000\n",
      "Number of validation examples: 5000\n",
      "Number of testing examples: 25000\n"
     ]
    }
   ],
   "source": [
    "print(f\"Number of training examples: {len(train_data)}\")\n",
    "print(f\"Number of validation examples: {len(valid_data)}\")\n",
    "print(f\"Number of testing examples: {len(test_data)}\")"
   ],
   "metadata": {
    "collapsed": false,
    "ExecuteTime": {
     "end_time": "2023-09-20T05:21:46.067328700Z",
     "start_time": "2023-09-20T05:21:46.051172100Z"
    }
   },
   "id": "3e8994b39a9aabbf"
  },
  {
   "cell_type": "markdown",
   "source": [
    "**단어 집합 만들기**"
   ],
   "metadata": {
    "collapsed": false
   },
   "id": "29c9bec2f6ed21cd"
  },
  {
   "cell_type": "code",
   "execution_count": 76,
   "outputs": [
    {
     "name": "stdout",
     "output_type": "stream",
     "text": [
      "Unique tokens in TEXT vocabulary: 10002\n",
      "Unique tokens in LABEL vocabulary: 3\n"
     ]
    }
   ],
   "source": [
    "TEXT.build_vocab(train_data, max_size=10000, min_freq=10, vectors=None)\n",
    "LABEL.build_vocab(train_data)\n",
    "\n",
    "print(f\"Unique tokens in TEXT vocabulary: {len(TEXT.vocab)}\")\n",
    "print(f\"Unique tokens in LABEL vocabulary: {len(LABEL.vocab)}\")"
   ],
   "metadata": {
    "collapsed": false,
    "ExecuteTime": {
     "end_time": "2023-09-20T05:21:46.914839200Z",
     "start_time": "2023-09-20T05:21:46.102705300Z"
    }
   },
   "id": "b7f9433582664f8d"
  },
  {
   "cell_type": "markdown",
   "source": [
    "**테스트 데이터셋의 단어 집합 확인**"
   ],
   "metadata": {
    "collapsed": false
   },
   "id": "28fba71baf8f8416"
  },
  {
   "cell_type": "code",
   "execution_count": 77,
   "outputs": [
    {
     "name": "stdout",
     "output_type": "stream",
     "text": [
      "defaultdict(<bound method Vocab._default_unk_index of <torchtext.vocab.Vocab object at 0x0000021945DE9810>>, {'<unk>': 0, 'pos': 1, 'neg': 2})\n"
     ]
    }
   ],
   "source": [
    "print(LABEL.vocab.stoi)"
   ],
   "metadata": {
    "collapsed": false,
    "ExecuteTime": {
     "end_time": "2023-09-20T05:21:46.922038700Z",
     "start_time": "2023-09-20T05:21:46.917839900Z"
    }
   },
   "id": "517b14b7bcff4422"
  },
  {
   "cell_type": "markdown",
   "source": [
    "**데이터셋 메모리로 가져오기**"
   ],
   "metadata": {
    "collapsed": false
   },
   "id": "521cb884a752f0da"
  },
  {
   "cell_type": "code",
   "execution_count": 78,
   "outputs": [],
   "source": [
    "BATCH_SIZE = 64\n",
    "device = torch.device(\"cuda:0\" if torch.cuda.is_available() else \"cpu\")\n",
    "\n",
    "embeding_dim = 100\n",
    "hidden_size = 300\n",
    "\n",
    "train_iterator, valid_iterator, test_iterator = torchtext.data.BucketIterator.splits(\n",
    "    (train_data, valid_data, test_data),\n",
    "    batch_size=BATCH_SIZE,\n",
    "    device=device\n",
    ")"
   ],
   "metadata": {
    "collapsed": false,
    "ExecuteTime": {
     "end_time": "2023-09-20T05:21:47.147769300Z",
     "start_time": "2023-09-20T05:21:46.922038700Z"
    }
   },
   "id": "3ed15017f61edeca"
  },
  {
   "cell_type": "markdown",
   "source": [
    "**워드 임베딩 및 RNN 셀 정의**"
   ],
   "metadata": {
    "collapsed": false
   },
   "id": "2e997d42c9a32cf7"
  },
  {
   "cell_type": "code",
   "execution_count": 79,
   "outputs": [],
   "source": [
    "class RNNCell_Encoder(nn.Module):\n",
    "    def __init__(self, input_dim, hidden_size):\n",
    "        super(RNNCell_Encoder, self).__init__()\n",
    "        self.rnn = nn.RNNCell(input_dim, hidden_size)\n",
    "        \n",
    "    def forward(self, inputs):\n",
    "        bz = inputs.shape[1]\n",
    "        ht = torch.zeros((bz, hidden_size)).to(device)\n",
    "        \n",
    "        for word in inputs:\n",
    "            ht = self.rnn(word, ht)\n",
    "            \n",
    "        return ht\n",
    "    \n",
    "\n",
    "class Net(nn.Module):\n",
    "    def __init__(self):\n",
    "        super(Net, self).__init__()\n",
    "        self.em = nn.Embedding(len(TEXT.vocab.stoi), embeding_dim)\n",
    "        self.rnn = RNNCell_Encoder(embeding_dim, hidden_size)\n",
    "        self.fc1 = nn.Linear(hidden_size, 256)\n",
    "        self.fc2 = nn.Linear(256, 3)\n",
    "        \n",
    "    def forward(self, x):\n",
    "        x = self.em(x)\n",
    "        x = self.rnn(x)\n",
    "        x = F.relu(self.fc1(x))\n",
    "        x = self.fc2(x)\n",
    "        \n",
    "        return x"
   ],
   "metadata": {
    "collapsed": false,
    "ExecuteTime": {
     "end_time": "2023-09-20T05:21:47.155064500Z",
     "start_time": "2023-09-20T05:21:47.150769600Z"
    }
   },
   "id": "4fd9486817f14959"
  },
  {
   "cell_type": "markdown",
   "source": [
    "**옵티마이저와 손실 함수 정의**"
   ],
   "metadata": {
    "collapsed": false
   },
   "id": "d67ebfed6b5bf80"
  },
  {
   "cell_type": "code",
   "execution_count": 80,
   "outputs": [],
   "source": [
    "model = Net()\n",
    "model.to(device)\n",
    "\n",
    "loss_fn = nn.CrossEntropyLoss()\n",
    "optimizer = torch.optim.Adam(model.parameters(), lr=0.0001)"
   ],
   "metadata": {
    "collapsed": false,
    "ExecuteTime": {
     "end_time": "2023-09-20T05:21:47.168065200Z",
     "start_time": "2023-09-20T05:21:47.155064500Z"
    }
   },
   "id": "9dd2230c8680477f"
  },
  {
   "cell_type": "markdown",
   "source": [
    "**모델 학습을 위한 함수 정의**"
   ],
   "metadata": {
    "collapsed": false
   },
   "id": "3d28f73fc7c1f8eb"
  },
  {
   "cell_type": "code",
   "execution_count": 81,
   "outputs": [],
   "source": [
    "def training(epoch, model, trainloader, validloader):\n",
    "    correct = 0\n",
    "    total = 0\n",
    "    running_loss = 0\n",
    "    \n",
    "    model.train()\n",
    "    \n",
    "    for b in trainloader:\n",
    "        x, y = b.text, b.label\n",
    "        x, y = x.to(device), y.to(device)\n",
    "        y_pred = model(x)\n",
    "        loss = loss_fn(y_pred, y)\n",
    "        optimizer.zero_grad()\n",
    "        loss.backward()\n",
    "        optimizer.step()\n",
    "        with torch.no_grad():\n",
    "            y_pred = torch.argmax(y_pred, dim=1)\n",
    "            correct += (y_pred == y).sum().item()\n",
    "            total += y.size(0)\n",
    "            running_loss += loss.item()\n",
    "            \n",
    "        epoch_loss = running_loss / len(trainloader.dataset)\n",
    "        epoch_acc = correct / total\n",
    "        \n",
    "        valid_correct = 0\n",
    "        valid_total = 0\n",
    "        valid_running_loss = 0\n",
    "        \n",
    "        model.eval()\n",
    "        with torch.no_grad():\n",
    "            for b in validloader:\n",
    "                x, y = b.text, b.label\n",
    "                x, y = x.to(device), y.to(device)\n",
    "                y_pred = model(x)\n",
    "                loss = loss_fn(y_pred, y)\n",
    "                y_pred = torch.argmax(y_pred, dim=1)\n",
    "                valid_correct += (y_pred == y).sum().item()\n",
    "                valid_total += y.size(0)\n",
    "                valid_running_loss += loss.item()\n",
    "        \n",
    "        epoch_valid_loss = valid_running_loss / len(validloader.dataset)\n",
    "        epoch_valid_acc = valid_correct / valid_total\n",
    "        \n",
    "        print(\"epoch: \", epoch,\n",
    "              \"loss: \", round(epoch_loss, 3),\n",
    "              \"accuracy: \", round(epoch_acc, 3),\n",
    "              \"valid_loss: \", round(epoch_valid_loss, 3),\n",
    "              \"valid_accuracy: \", round(epoch_valid_acc, 3)\n",
    "              )\n",
    "        \n",
    "        return epoch_loss, epoch_acc, epoch_valid_loss, epoch_valid_acc                "
   ],
   "metadata": {
    "collapsed": false,
    "ExecuteTime": {
     "end_time": "2023-09-20T05:21:47.179687500Z",
     "start_time": "2023-09-20T05:21:47.173065200Z"
    }
   },
   "id": "ec9cd3d31cc4c49c"
  },
  {
   "cell_type": "markdown",
   "source": [
    "**모델 학습**"
   ],
   "metadata": {
    "collapsed": false
   },
   "id": "2f90a444628b6db9"
  },
  {
   "cell_type": "code",
   "execution_count": 82,
   "outputs": [
    {
     "name": "stdout",
     "output_type": "stream",
     "text": [
      "epoch:  0 loss:  0.0 accuracy:  0.484 valid_loss:  0.017 valid_accuracy:  0.449\n",
      "epoch:  1 loss:  0.0 accuracy:  0.484 valid_loss:  0.017 valid_accuracy:  0.455\n",
      "epoch:  2 loss:  0.0 accuracy:  0.406 valid_loss:  0.016 valid_accuracy:  0.46\n",
      "epoch:  3 loss:  0.0 accuracy:  0.453 valid_loss:  0.016 valid_accuracy:  0.466\n",
      "epoch:  4 loss:  0.0 accuracy:  0.547 valid_loss:  0.016 valid_accuracy:  0.471\n",
      "112.29718089103699\n"
     ]
    }
   ],
   "source": [
    "epochs = 5\n",
    "train_loss = []\n",
    "train_acc = []\n",
    "valid_loss = []\n",
    "valid_acc = []\n",
    "\n",
    "for epoch in range(epochs):\n",
    "    epoch_loss, epoch_acc, epoch_valid_loss, epoch_valid_acc = training(epoch, model, train_iterator, test_iterator)\n",
    "    \n",
    "    train_loss.append(epoch_loss)\n",
    "    train_acc.append(epoch_acc)\n",
    "    valid_loss.append(epoch_valid_loss)\n",
    "    valid_acc.append(epoch_valid_acc)\n",
    "    \n",
    "end = time.time()\n",
    "print(end-start)"
   ],
   "metadata": {
    "collapsed": false,
    "ExecuteTime": {
     "end_time": "2023-09-20T05:23:25.490222200Z",
     "start_time": "2023-09-20T05:21:47.178661700Z"
    }
   },
   "id": "1ab53dcb5a234618"
  },
  {
   "cell_type": "markdown",
   "source": [
    "**모델 예측 함수 정의**"
   ],
   "metadata": {
    "collapsed": false
   },
   "id": "7cf179d1108bf37a"
  },
  {
   "cell_type": "code",
   "execution_count": 83,
   "outputs": [],
   "source": [
    "def evaluate(epoch, model, testloader):\n",
    "    test_correct = 0\n",
    "    test_total = 0\n",
    "    test_running_loss = 0\n",
    "    \n",
    "    model.eval()\n",
    "    with torch.no_grad():\n",
    "        for b in testloader:\n",
    "            x, y = b.text, b.label\n",
    "            x, y = x.to(device), y.to(device)\n",
    "            y_pred = model(x)\n",
    "            loss = loss_fn(y_pred, y)\n",
    "            y_pred = torch.argmax(y_pred, dim=1)\n",
    "            test_correct += (y_pred == y).sum().item()\n",
    "            test_total += y.size(0)\n",
    "            test_running_loss += loss.item()\n",
    "            \n",
    "    epoch_test_loss = test_running_loss / len(testloader.dataset)\n",
    "    epoch_test_acc = test_correct / test_total\n",
    "\n",
    "    print(\"epoch: \", epoch,\n",
    "          \"loss: \", round(epoch_test_loss, 3),\n",
    "          \"accuracy: \", round(epoch_test_acc, 3)\n",
    "          )\n",
    "    \n",
    "    return epoch_test_loss, epoch_test_acc"
   ],
   "metadata": {
    "collapsed": false,
    "ExecuteTime": {
     "end_time": "2023-09-20T05:23:25.498663300Z",
     "start_time": "2023-09-20T05:23:25.491718Z"
    }
   },
   "id": "6bce42b9378eee88"
  },
  {
   "cell_type": "markdown",
   "source": [
    "**모델 예측 결과 확인**"
   ],
   "metadata": {
    "collapsed": false
   },
   "id": "38fb52c16a48942"
  },
  {
   "cell_type": "code",
   "execution_count": 84,
   "outputs": [
    {
     "name": "stdout",
     "output_type": "stream",
     "text": [
      "epoch:  0 loss:  0.016 accuracy:  0.471\n",
      "epoch:  1 loss:  0.016 accuracy:  0.471\n",
      "epoch:  2 loss:  0.016 accuracy:  0.471\n",
      "epoch:  3 loss:  0.016 accuracy:  0.471\n",
      "epoch:  4 loss:  0.016 accuracy:  0.471\n",
      "207.78325629234314\n"
     ]
    }
   ],
   "source": [
    "epochs = 5\n",
    "test_loss = []\n",
    "test_acc = []\n",
    "\n",
    "for epoch in range(epochs):\n",
    "    epoch_test_loss, epoch_test_acc = evaluate(epoch, model, test_iterator)\n",
    "\n",
    "test_loss.append(epoch_test_loss)\n",
    "test_acc.append(epoch_test_acc)\n",
    "\n",
    "end = time.time()\n",
    "print(end-start)"
   ],
   "metadata": {
    "collapsed": false,
    "ExecuteTime": {
     "end_time": "2023-09-20T05:25:00.980552Z",
     "start_time": "2023-09-20T05:23:25.500662300Z"
    }
   },
   "id": "11bbcf19a4c91736"
  }
 ],
 "metadata": {
  "kernelspec": {
   "display_name": "Python 3",
   "language": "python",
   "name": "python3"
  },
  "language_info": {
   "codemirror_mode": {
    "name": "ipython",
    "version": 3
   },
   "file_extension": ".py",
   "mimetype": "text/x-python",
   "name": "python",
   "nbconvert_exporter": "python",
   "pygments_lexer": "ipython3",
   "version": "3.11.4"
  }
 },
 "nbformat": 4,
 "nbformat_minor": 5
}
