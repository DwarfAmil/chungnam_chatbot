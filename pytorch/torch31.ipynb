{
 "cells": [
  {
   "cell_type": "markdown",
   "source": [
    "**라이브러리 호출**"
   ],
   "metadata": {
    "collapsed": false
   },
   "id": "e05bc9a0e6e3d2a7"
  },
  {
   "cell_type": "code",
   "execution_count": null,
   "id": "initial_id",
   "metadata": {
    "collapsed": true
   },
   "outputs": [],
   "source": [
    "import torch\n",
    "import torch.nn as nn\n",
    "import torch.optim as optim\n",
    "import torchvision.models as models\n",
    "from torchvision import transforms, datasets\n",
    "from torch.utils.data import DataLoader\n",
    "\n",
    "import matplotlib\n",
    "import matplotlib.pyplot as plt\n",
    "import time\n",
    "\n",
    "import argparse\n",
    "from tqdm import tqdm_notebook\n",
    "matplotlib.style.use(\"ggplot\")\n",
    "device = torch.device(\"cuda:0\" if torch.cuda.is_available() else \"cpu\")"
   ]
  },
  {
   "cell_type": "markdown",
   "source": [
    "**데이터셋 전처리**"
   ],
   "metadata": {
    "collapsed": false
   },
   "id": "77081564ce67f249"
  },
  {
   "cell_type": "code",
   "execution_count": null,
   "outputs": [],
   "source": [
    "train_transforms = transforms.Compose([\n",
    "    transforms.Resize((224, 224)),\n",
    "    transforms.RandomHorizontalFlip(),\n",
    "    transforms.RandomVerticalFlip(),\n",
    "    transforms.ToTensor(),\n",
    "    transforms.Normalize(mean=[0.485, 0.456, 0.406],\n",
    "                         std=[0.229, 0.224, 0.225])\n",
    "])\n",
    "val_transforms = transforms.Compose([\n",
    "    transforms.Resize((224, 224)),\n",
    "    transforms.ToTensor(),\n",
    "    transforms.Normalize(mean=[0.485, 0.456, 0.406],\n",
    "                         std=[0.229, 0.224, 0.225])\n",
    "])"
   ],
   "metadata": {
    "collapsed": false
   },
   "id": "1b2f4d84e71efb91"
  },
  {
   "cell_type": "markdown",
   "source": [
    "**데이터셋 가져오기**"
   ],
   "metadata": {
    "collapsed": false
   },
   "id": "5a75bd966129f3e8"
  },
  {
   "cell_type": "code",
   "execution_count": null,
   "outputs": [],
   "source": [
    "train_dataset = datasets.ImageFolder(\n",
    "    root=r\"../pytorch/data/archive/train\",\n",
    "    transform=train_transforms\n",
    ")\n",
    "train_dataloader = DataLoader(train_dataset, batch_size=32, shuffle=True)\n",
    "val_dataset = datasets.ImageFolder(\n",
    "    root=r\"../pytorch/data/archive/test\",\n",
    "    transform=val_transforms\n",
    ")\n",
    "val_dataloader = DataLoader(val_dataset, batch_size=32, shuffle=False)"
   ],
   "metadata": {
    "collapsed": false
   },
   "id": "a88e47e72c960671"
  },
  {
   "cell_type": "markdown",
   "source": [
    "**모델 생성**"
   ],
   "metadata": {
    "collapsed": false
   },
   "id": "5386f37c29fd913f"
  },
  {
   "cell_type": "code",
   "execution_count": null,
   "outputs": [],
   "source": [
    "def resnet50(pretrained=True, requires_grad=False):\n",
    "    model = models.resnet50(progress=True, pretrained=pretrained)\n",
    "    if requires_grad == False:\n",
    "        for param in model.parameters():\n",
    "            param.requires_grad = False\n",
    "    elif requires_grad == True:\n",
    "        for param in model.parameters():\n",
    "            param.requires_grad = True\n",
    "    model.fc = nn.Linear(2048, 2)\n",
    "    return model"
   ],
   "metadata": {
    "collapsed": false
   },
   "id": "5df56c27cfafc888"
  },
  {
   "cell_type": "markdown",
   "source": [
    "**학습률 감소**"
   ],
   "metadata": {
    "collapsed": false
   },
   "id": "c5ea731f36ede713"
  }
 ],
 "metadata": {
  "kernelspec": {
   "display_name": "Python 3",
   "language": "python",
   "name": "python3"
  },
  "language_info": {
   "codemirror_mode": {
    "name": "ipython",
    "version": 2
   },
   "file_extension": ".py",
   "mimetype": "text/x-python",
   "name": "python",
   "nbconvert_exporter": "python",
   "pygments_lexer": "ipython2",
   "version": "2.7.6"
  }
 },
 "nbformat": 4,
 "nbformat_minor": 5
}
