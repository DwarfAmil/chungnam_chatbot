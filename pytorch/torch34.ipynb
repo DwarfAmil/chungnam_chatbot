{
 "cells": [
  {
   "cell_type": "markdown",
   "source": [
    "**라이브러리 호출**"
   ],
   "metadata": {
    "collapsed": false
   },
   "id": "679f468825a1ca7a"
  },
  {
   "cell_type": "code",
   "execution_count": 36,
   "outputs": [],
   "source": [
    "import pandas as pd\n",
    "import torch\n",
    "import torch.nn as nn\n",
    "from torch.utils.data import Dataset, DataLoader\n",
    "\n",
    "from sklearn.model_selection import train_test_split\n",
    "from sklearn.preprocessing import StandardScaler, MinMaxScaler\n",
    "\n",
    "device = torch.device(\"cuda\" if torch.cuda.is_available() else \"cpu\")"
   ],
   "metadata": {
    "collapsed": false,
    "ExecuteTime": {
     "end_time": "2023-09-26T13:00:43.983619400Z",
     "start_time": "2023-09-26T13:00:43.938148400Z"
    }
   },
   "id": "e8ea69799e68d4e9"
  },
  {
   "cell_type": "markdown",
   "source": [
    "**데이터셋 경로 지정 및 훈련과 테스트 용도로 분리**"
   ],
   "metadata": {
    "collapsed": false
   },
   "id": "ec12fdf101f4534d"
  },
  {
   "cell_type": "code",
   "execution_count": 37,
   "outputs": [],
   "source": [
    "df = pd.read_csv(\"../pytorch/data/diabetes.csv\")\n",
    "x = df[df.columns[:-1]]\n",
    "y = df[\"Outcome\"]\n",
    "\n",
    "x = x.values\n",
    "y = torch.tensor(y.values)\n",
    "x_train, x_test, y_train, y_test = train_test_split(x, y, test_size=0.33)"
   ],
   "metadata": {
    "collapsed": false,
    "ExecuteTime": {
     "end_time": "2023-09-26T13:00:44.007970800Z",
     "start_time": "2023-09-26T13:00:43.948079Z"
    }
   },
   "id": "e84c84ab4624d38"
  },
  {
   "cell_type": "markdown",
   "source": [
    "**훈련과 테스트용 데이터를 정규화**"
   ],
   "metadata": {
    "collapsed": false
   },
   "id": "438903c547d77721"
  },
  {
   "cell_type": "code",
   "execution_count": 38,
   "outputs": [],
   "source": [
    "ms = MinMaxScaler()\n",
    "ss = StandardScaler()\n",
    "\n",
    "x_train = ss.fit_transform(x_train)\n",
    "x_test = ss.fit_transform(x_test)\n",
    "y_train = y_train.reshape(-1, 1)\n",
    "y_test = y_test.reshape(-1, 1)\n",
    "y_train = ms.fit_transform(y_train)\n",
    "y_test = ms.fit_transform(y_test)"
   ],
   "metadata": {
    "collapsed": false,
    "ExecuteTime": {
     "end_time": "2023-09-26T13:00:44.009978600Z",
     "start_time": "2023-09-26T13:00:43.975550100Z"
    }
   },
   "id": "35f4c7ce49666a9c"
  },
  {
   "cell_type": "markdown",
   "source": [
    "**커스텀 데이터셋 생성**"
   ],
   "metadata": {
    "collapsed": false
   },
   "id": "66d7c69df91abdc5"
  },
  {
   "cell_type": "code",
   "execution_count": 39,
   "outputs": [],
   "source": [
    "class CustomDataset(Dataset):\n",
    "    def __init__(self, x, y):\n",
    "        self.x = x\n",
    "        self.y = y\n",
    "        self.len = len(self.x)\n",
    "    \n",
    "    def __getitem__(self, index):\n",
    "        return self.x[index], self.y[index]\n",
    "    \n",
    "    def __len__(self):\n",
    "        return self.len"
   ],
   "metadata": {
    "collapsed": false,
    "ExecuteTime": {
     "end_time": "2023-09-26T13:00:44.011401500Z",
     "start_time": "2023-09-26T13:00:43.987003700Z"
    }
   },
   "id": "d2ee93bcd1a23710"
  },
  {
   "cell_type": "markdown",
   "source": [
    "**데이터로더에 데이터 담기**"
   ],
   "metadata": {
    "collapsed": false
   },
   "id": "f7baef3127bc1547"
  },
  {
   "cell_type": "code",
   "execution_count": 40,
   "outputs": [],
   "source": [
    "train_data = CustomDataset(torch.FloatTensor(x_train),\n",
    "                           torch.FloatTensor(y_train))\n",
    "test_data = CustomDataset(torch.FloatTensor(x_test),\n",
    "                          torch.FloatTensor(y_test))\n",
    "\n",
    "train_loader = DataLoader(dataset=train_data, batch_size=64, shuffle=True)\n",
    "test_loader = DataLoader(dataset=test_data, batch_size=64, shuffle=False)"
   ],
   "metadata": {
    "collapsed": false,
    "ExecuteTime": {
     "end_time": "2023-09-26T13:00:44.011401500Z",
     "start_time": "2023-09-26T13:00:43.993498600Z"
    }
   },
   "id": "adbb71aa7f3ab477"
  },
  {
   "cell_type": "markdown",
   "source": [
    "**네트워크 생성**"
   ],
   "metadata": {
    "collapsed": false
   },
   "id": "e172d921d1c763bf"
  },
  {
   "cell_type": "code",
   "execution_count": 41,
   "outputs": [],
   "source": [
    "class BinaryClassification(nn.Module):\n",
    "    def __init__(self):\n",
    "        super(BinaryClassification, self).__init__()\n",
    "        self.layer_1 = nn.Linear(8, 64, bias=True)\n",
    "        self.layer_2 = nn.Linear(64, 64, bias=True)\n",
    "        self.layer_out = nn.Linear(64, 1, bias=True)\n",
    "        self.relu = nn.ReLU()\n",
    "        self.dropout = nn.Dropout(p=0.1)\n",
    "        self.batchnorm1 = nn.BatchNorm1d(64)\n",
    "        self.batchnorm2 = nn.BatchNorm1d(64)\n",
    "        \n",
    "    def forward(self, inputs):\n",
    "        x = self.relu(self.layer_1(inputs))\n",
    "        x = self.batchnorm1(x)\n",
    "        x = self.relu(self.layer_2(x))\n",
    "        x = self.batchnorm2(x)\n",
    "        x = self.dropout(x)\n",
    "        x = self.layer_out(x)\n",
    "        return x"
   ],
   "metadata": {
    "collapsed": false,
    "ExecuteTime": {
     "end_time": "2023-09-26T13:00:44.011401500Z",
     "start_time": "2023-09-26T13:00:44.005624900Z"
    }
   },
   "id": "5f591e7ce96fa159"
  },
  {
   "cell_type": "code",
   "execution_count": 42,
   "outputs": [
    {
     "name": "stdout",
     "output_type": "stream",
     "text": [
      "BinaryClassification(\n",
      "  (layer_1): Linear(in_features=8, out_features=64, bias=True)\n",
      "  (layer_2): Linear(in_features=64, out_features=64, bias=True)\n",
      "  (layer_out): Linear(in_features=64, out_features=1, bias=True)\n",
      "  (relu): ReLU()\n",
      "  (dropout): Dropout(p=0.1, inplace=False)\n",
      "  (batchnorm1): BatchNorm1d(64, eps=1e-05, momentum=0.1, affine=True, track_running_stats=True)\n",
      "  (batchnorm2): BatchNorm1d(64, eps=1e-05, momentum=0.1, affine=True, track_running_stats=True)\n",
      ")\n"
     ]
    }
   ],
   "source": [
    "epoch_num = 100\n",
    "print_epoch = 10\n",
    "lr = 1e-2\n",
    "\n",
    "model = BinaryClassification().to(device)\n",
    "print(model)\n",
    "BCE = nn.BCEWithLogitsLoss()\n",
    "optimizer = torch.optim.SGD(model.parameters(), lr=lr)"
   ],
   "metadata": {
    "collapsed": false,
    "ExecuteTime": {
     "end_time": "2023-09-26T13:00:44.319913Z",
     "start_time": "2023-09-26T13:00:44.015509600Z"
    }
   },
   "id": "7737aaa01a9b9fac"
  },
  {
   "cell_type": "code",
   "execution_count": 43,
   "outputs": [],
   "source": [
    "def accuracy(y_pred, y_test):\n",
    "    y_pred = torch.round(torch.sigmoid(y_pred))\n",
    "    correct_results_sum = (y_pred == y_test).sum().float()\n",
    "    acc = correct_results_sum / y_test.shape[0]\n",
    "    acc = torch.round(acc * 100)\n",
    "    return acc"
   ],
   "metadata": {
    "collapsed": false,
    "ExecuteTime": {
     "end_time": "2023-09-26T13:00:44.327807200Z",
     "start_time": "2023-09-26T13:00:44.319913Z"
    }
   },
   "id": "3cb37427ca23e610"
  },
  {
   "cell_type": "code",
   "execution_count": 44,
   "outputs": [
    {
     "name": "stdout",
     "output_type": "stream",
     "text": [
      "Train: epoch: 0  - loss: 0.69440 - acc: 50.667\n",
      "Test: epoch: 0  - loss: 0.68268 - acc: 59.750\n",
      "Train: epoch: 10  - loss: 0.59047 - acc: 70.444\n",
      "Test: epoch: 10  - loss: 0.56403 - acc: 71.250\n",
      "Train: epoch: 20  - loss: 0.48650 - acc: 80.111\n",
      "Test: epoch: 20  - loss: 0.58176 - acc: 68.750\n",
      "Train: epoch: 30  - loss: 0.47228 - acc: 76.778\n",
      "Test: epoch: 30  - loss: 0.54246 - acc: 71.250\n",
      "Train: epoch: 40  - loss: 0.46626 - acc: 76.333\n",
      "Test: epoch: 40  - loss: 0.53605 - acc: 75.000\n",
      "Train: epoch: 50  - loss: 0.44167 - acc: 77.000\n",
      "Test: epoch: 50  - loss: 0.52236 - acc: 74.750\n",
      "Train: epoch: 60  - loss: 0.41852 - acc: 82.333\n",
      "Test: epoch: 60  - loss: 0.53753 - acc: 74.000\n",
      "Train: epoch: 70  - loss: 0.42538 - acc: 76.667\n",
      "Test: epoch: 70  - loss: 0.51109 - acc: 77.500\n",
      "Train: epoch: 80  - loss: 0.49221 - acc: 77.222\n",
      "Test: epoch: 80  - loss: 0.50122 - acc: 76.000\n",
      "Train: epoch: 90  - loss: 0.46104 - acc: 76.889\n",
      "Test: epoch: 90  - loss: 0.90118 - acc: 69.750\n"
     ]
    }
   ],
   "source": [
    "for epoch in range(epoch_num):\n",
    "    iteration_loss = 0\n",
    "    iteration_acc = 0\n",
    "\n",
    "    model.train()\n",
    "    for i, data in enumerate(train_loader):\n",
    "        X, y = data\n",
    "        X, y = X.to(device), y.to(device)\n",
    "\n",
    "        y_pred = model(X.float())\n",
    "        loss = BCE(y_pred, y.reshape(-1, 1).float())\n",
    "\n",
    "        iteration_loss += loss\n",
    "        iteration_acc += accuracy(y_pred, y)\n",
    "        optimizer.zero_grad()\n",
    "        loss.backward()\n",
    "        optimizer.step()\n",
    "    if epoch % print_epoch == 0:\n",
    "        print(f\"Train: epoch: {epoch}\", end=\"\")\n",
    "        print(\n",
    "            f\"  - loss: {iteration_loss / (i+1):.5f} - acc: {iteration_acc / (i+1):.3f}\"\n",
    "        )\n",
    "\n",
    "    iteration_loss = 0\n",
    "    iteration_acc = 0\n",
    "\n",
    "    model.eval()\n",
    "    for i, data in enumerate(test_loader):\n",
    "        X, y = data\n",
    "        X, y = X.to(device), y.to(device)\n",
    "\n",
    "        y_pred = model(X.float())\n",
    "        loss = BCE(y_pred, y.reshape(-1, 1).float())\n",
    "\n",
    "        iteration_loss += loss\n",
    "        iteration_acc += accuracy(y_pred, y)\n",
    "    if epoch % print_epoch == 0:\n",
    "        print(f\"Test: epoch: {epoch}\", end=\"\")\n",
    "        print(\n",
    "            f\"  - loss: {iteration_loss / (i+1):.5f} - acc: {iteration_acc / (i+1):.3f}\"\n",
    "        )"
   ],
   "metadata": {
    "collapsed": false,
    "ExecuteTime": {
     "end_time": "2023-09-26T13:00:49.754604800Z",
     "start_time": "2023-09-26T13:00:44.336813Z"
    }
   },
   "id": "2307718d26e1c22a"
  }
 ],
 "metadata": {
  "kernelspec": {
   "display_name": "Python 3",
   "language": "python",
   "name": "python3"
  },
  "language_info": {
   "codemirror_mode": {
    "name": "ipython",
    "version": 2
   },
   "file_extension": ".py",
   "mimetype": "text/x-python",
   "name": "python",
   "nbconvert_exporter": "python",
   "pygments_lexer": "ipython2",
   "version": "2.7.6"
  }
 },
 "nbformat": 4,
 "nbformat_minor": 5
}
