{
 "cells": [
  {
   "cell_type": "code",
   "execution_count": null,
   "id": "initial_id",
   "metadata": {
    "collapsed": true
   },
   "outputs": [],
   "source": [
    "import numpy as np\n",
    "import matplotlib.pyplot as plt\n",
    "\n",
    "plt.style.use(\"ggplot\")\n",
    "from sklearn.decomposition import PCA\n",
    "from gensim.test.utils import datapath, get_tmpfile\n",
    "from gensim.models import KeyedVectors\n",
    "from gensim.scripts.glove2word2vec import glove2word2vec"
   ]
  },
  {
   "cell_type": "code",
   "execution_count": null,
   "outputs": [],
   "source": [
    "glove_file = datapath(\"../pytorch/data/glove.6B.100d.txt\")\n",
    "word2vec_glove_file = get_tmpfile(\n",
    "    \"../pytorch/data/glove.6B.100d.vector.txt\"\n",
    ")\n",
    "glove2word2vec(glove_file, word2vec_glove_file)"
   ],
   "metadata": {
    "collapsed": false
   },
   "id": "eda7adfd1b102566"
  },
  {
   "cell_type": "code",
   "execution_count": null,
   "outputs": [],
   "source": [
    "model = KeyedVectors.load_word2vec_format(word2vec_glove_file)\n",
    "model.most_similar(\"bill\")"
   ],
   "metadata": {
    "collapsed": false
   },
   "id": "987063f5d036c72e"
  },
  {
   "cell_type": "code",
   "execution_count": null,
   "outputs": [],
   "source": [
    "model.most_similar(\"cherry\")"
   ],
   "metadata": {
    "collapsed": false
   },
   "id": "77446075b7d6936c"
  },
  {
   "cell_type": "code",
   "execution_count": null,
   "outputs": [],
   "source": [
    "result = model.most_similar(positive=[\"woman\", \"king\"], negative=[\"man\"])\n",
    "for re in result:\n",
    "    print(f\"{re[0]} {re[1]:.4f}\")"
   ],
   "metadata": {
    "collapsed": false
   },
   "id": "7a70c69d5488c3cf"
  },
  {
   "cell_type": "code",
   "execution_count": null,
   "outputs": [],
   "source": [
    "def analogy(x1, x2, y1):\n",
    "    result = model.most_similar(positive=[y1, x2], negative=[x1])\n",
    "    return result[0][0]\n",
    "\n",
    "\n",
    "print(analogy(\"australia\", \"beer\", \"france\"))"
   ],
   "metadata": {
    "collapsed": false
   },
   "id": "4c9e5be22cadcc49"
  },
  {
   "cell_type": "code",
   "execution_count": null,
   "outputs": [],
   "source": [
    "print(analogy(\"tail\", \"tallest\", \"long\"))"
   ],
   "metadata": {
    "collapsed": false
   },
   "id": "7425785e90d29458"
  },
  {
   "cell_type": "code",
   "execution_count": null,
   "outputs": [],
   "source": [
    "print(model.doesnt_match(\"breakfast cereal dinner lunch\".split()))"
   ],
   "metadata": {
    "collapsed": false
   },
   "id": "403b50c5301d34b1"
  }
 ],
 "metadata": {
  "kernelspec": {
   "display_name": "Python 3",
   "language": "python",
   "name": "python3"
  },
  "language_info": {
   "codemirror_mode": {
    "name": "ipython",
    "version": 2
   },
   "file_extension": ".py",
   "mimetype": "text/x-python",
   "name": "python",
   "nbconvert_exporter": "python",
   "pygments_lexer": "ipython2",
   "version": "2.7.6"
  }
 },
 "nbformat": 4,
 "nbformat_minor": 5
}
