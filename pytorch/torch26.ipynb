{
 "cells": [
  {
   "cell_type": "markdown",
   "source": [
    "**라이브러리 호출**"
   ],
   "metadata": {
    "collapsed": false
   },
   "id": "c8a99c1a083a84d"
  },
  {
   "cell_type": "code",
   "execution_count": 12,
   "id": "initial_id",
   "metadata": {
    "collapsed": true,
    "ExecuteTime": {
     "end_time": "2023-09-20T07:40:13.303804900Z",
     "start_time": "2023-09-20T07:40:13.216830Z"
    }
   },
   "outputs": [],
   "source": [
    "import torch\n",
    "import torch.nn as nn\n",
    "import torchvision.transforms as transforms\n",
    "import torchvision.datasets as datasets\n",
    "from torch.autograd import Variable\n",
    "from torch.nn import Parameter\n",
    "from torch import Tensor\n",
    "import torch.nn.functional as F\n",
    "from torch.utils.data import DataLoader\n",
    "import math\n",
    "\n",
    "device = torch.device(\"cuda:0\" if torch.cuda.is_available() else \"cpu\")\n",
    "cuda = True if torch.cuda.is_available() else False\n",
    "\n",
    "Tensor = torch.cuda.FloatTensor if cuda else torch.FloatTensor\n",
    "\n",
    "torch.manual_seed(125)\n",
    "if torch.cuda.is_available():\n",
    "    torch.cuda.manual_seed_all(125)"
   ]
  },
  {
   "cell_type": "markdown",
   "source": [
    "**데이터 전처리**"
   ],
   "metadata": {
    "collapsed": false
   },
   "id": "aed9c12aecc0cbd7"
  },
  {
   "cell_type": "code",
   "execution_count": 13,
   "outputs": [],
   "source": [
    "import torchvision.transforms as transforms\n",
    "\n",
    "mnist_transform = transforms.Compose([\n",
    "    transforms.ToTensor(),\n",
    "    transforms.Normalize((0.5, ), (1.0, ))\n",
    "])"
   ],
   "metadata": {
    "collapsed": false,
    "ExecuteTime": {
     "end_time": "2023-09-20T07:40:13.321192700Z",
     "start_time": "2023-09-20T07:40:13.222622500Z"
    }
   },
   "id": "cc40c24073795dfc"
  },
  {
   "cell_type": "markdown",
   "source": [
    "**데이터셋 내려받기**"
   ],
   "metadata": {
    "collapsed": false
   },
   "id": "3c2194bdd201f289"
  },
  {
   "cell_type": "code",
   "execution_count": 14,
   "outputs": [],
   "source": [
    "from torchvision.datasets import MNIST\n",
    "\n",
    "download_root = \"../pytorch/MNIST_DATASET\"\n",
    "\n",
    "train_dataset = MNIST(download_root, transform=mnist_transform, train=True, download=True)\n",
    "valid_dataset = MNIST(download_root, transform=mnist_transform, train=False, download=True)\n",
    "test_dataset = MNIST(download_root, transform=mnist_transform, train=False, download=True)"
   ],
   "metadata": {
    "collapsed": false,
    "ExecuteTime": {
     "end_time": "2023-09-20T07:40:13.387399400Z",
     "start_time": "2023-09-20T07:40:13.225646600Z"
    }
   },
   "id": "b5117c69d025915b"
  },
  {
   "cell_type": "markdown",
   "source": [
    "**데이터셋을 메모리로 가져오기**"
   ],
   "metadata": {
    "collapsed": false
   },
   "id": "50576a19c0495b63"
  },
  {
   "cell_type": "code",
   "execution_count": 15,
   "outputs": [],
   "source": [
    "batch_size = 64\n",
    "train_loader = DataLoader(dataset=train_dataset, batch_size=batch_size, shuffle=True)\n",
    "valid_loader = DataLoader(dataset=test_dataset, batch_size=batch_size, shuffle=True)\n",
    "test_loader = DataLoader(dataset=test_dataset, batch_size=batch_size, shuffle=True)"
   ],
   "metadata": {
    "collapsed": false,
    "ExecuteTime": {
     "end_time": "2023-09-20T07:40:13.387399400Z",
     "start_time": "2023-09-20T07:40:13.281365100Z"
    }
   },
   "id": "b846c00c7dbe4fae"
  },
  {
   "cell_type": "markdown",
   "source": [
    "**변수 값 지정**"
   ],
   "metadata": {
    "collapsed": false
   },
   "id": "ff88a03de0304bb7"
  },
  {
   "cell_type": "code",
   "execution_count": 16,
   "outputs": [],
   "source": [
    "batch_size = 100\n",
    "n_iters = 6000\n",
    "num_epochs = n_iters / (len(train_dataset) / batch_size)\n",
    "num_epochs = int(num_epochs)"
   ],
   "metadata": {
    "collapsed": false,
    "ExecuteTime": {
     "end_time": "2023-09-20T07:40:13.387399400Z",
     "start_time": "2023-09-20T07:40:13.286288300Z"
    }
   },
   "id": "f0153c939a2aea14"
  },
  {
   "cell_type": "markdown",
   "source": [
    "**LSTM 셀 네트워크 구축**"
   ],
   "metadata": {
    "collapsed": false
   },
   "id": "4c41636729707e99"
  },
  {
   "cell_type": "code",
   "execution_count": 17,
   "outputs": [],
   "source": [
    "class LSTMCell(nn.Module):\n",
    "    def __init__(self, input_size, hidden_size, bias=True):\n",
    "        super(LSTMCell, self).__init__()\n",
    "        self.input_size = input_size\n",
    "        self.hidden_size = hidden_size\n",
    "        self.bias = bias\n",
    "        self.x2h = nn.Linear(input_size, 4 * hidden_size, bias=bias)\n",
    "        self.h2h = nn.Linear(input_size, 4 * hidden_size, bias=bias)\n",
    "        self.reset_parameters()\n",
    "        \n",
    "    def reset_parameters(self):\n",
    "        std = 1.0 / math.sqrt(self.hidden_size)\n",
    "        for w in self.parameters():\n",
    "            w.data.uniform_(-std, std)\n",
    "    \n",
    "    def forward(self, x, hidden):\n",
    "        hx, cx = hidden\n",
    "        x = x.view(-1, x.size(1))\n",
    "        \n",
    "        gates = self.x2h(x) + self.h2h(hx)\n",
    "        gates = gates.squeeze()\n",
    "        ingate, forgetgate, cellgate, outgate = gates.chunk(4, 1)\n",
    "        \n",
    "        ingate = F.sigmoid(ingate)\n",
    "        forgetgate = F.sigmoid(forgetgate)\n",
    "        cellgate = F.tanh(cellgate)\n",
    "        outgate = F.sigmoid(outgate)\n",
    "        \n",
    "        cy = torch.mul(cx, forgetgate) + torch.mul(ingate, cellgate)\n",
    "        hy = torch.mul(outgate, F.tanh(cy))\n",
    "        return (hy, cy)"
   ],
   "metadata": {
    "collapsed": false,
    "ExecuteTime": {
     "end_time": "2023-09-20T07:40:13.387399400Z",
     "start_time": "2023-09-20T07:40:13.289043400Z"
    }
   },
   "id": "28917423d8e83e02"
  },
  {
   "cell_type": "markdown",
   "source": [
    "**LSTM 셀의 전반적인 네트워크**"
   ],
   "metadata": {
    "collapsed": false
   },
   "id": "80e996b88f9eb20"
  },
  {
   "cell_type": "code",
   "execution_count": 18,
   "outputs": [],
   "source": [
    "class LSTMModel(nn.Module):\n",
    "    def __init__(self, input_dim, hidden_dim, layer_dim, output_dim, bias=True):\n",
    "        super(LSTMModel, self).__init__()\n",
    "        self.hidden_dim = hidden_dim\n",
    "        \n",
    "        self.layer_dim = layer_dim\n",
    "        self.lstm = LSTMCell(input_dim, hidden_dim, layer_dim)\n",
    "        self.fc = nn.Linear(hidden_dim, output_dim)\n",
    "        \n",
    "    def forward(self, x):\n",
    "        h0 = torch.zeros(self.layer_dim, x.size(0), self.hidden_dim).to(device)\n",
    "        c0 = torch.zeros(self.layer_dim, x.size(0), self.hidden_dim).to(device)\n",
    "        \n",
    "        # if torch.cuda.is_available():\n",
    "        #     h0 = Variable(torch.zeros(self.layer_dim, x.size(0), self.hidden_dim).cuda())\n",
    "        # else:\n",
    "        #     h0 = Variable(torch.zeros(self.layer_dim, x.size(0), self.hidden_dim))\n",
    "        # \n",
    "        # if torch.cuda.is_available():\n",
    "        #     c0 = Variable(torch.zeros(self.layer_dim, x.size(0), self.hidden_dim).cuda())\n",
    "        # else:\n",
    "        #     c0 = Variable(torch.zeros(self.layer_dim, x.size(0), self.hidden_dim))\n",
    "            \n",
    "        outs = []\n",
    "        cn = c0[0, :, :]\n",
    "        hn = h0[0, :, :]\n",
    "        \n",
    "        for seq in range(x.size(1)):\n",
    "            hn, cn = self.lstm(x[:, seq, :], (hn, cn))\n",
    "            outs.append(hn)\n",
    "            \n",
    "        out = outs[-1].squeeze()\n",
    "        out = self.fc(out)\n",
    "        return out"
   ],
   "metadata": {
    "collapsed": false,
    "ExecuteTime": {
     "end_time": "2023-09-20T07:40:13.387399400Z",
     "start_time": "2023-09-20T07:40:13.308814400Z"
    }
   },
   "id": "647acdf2be1876ef"
  },
  {
   "cell_type": "markdown",
   "source": [
    "**옵티마이저와 손실 함수 지정**"
   ],
   "metadata": {
    "collapsed": false
   },
   "id": "c8552b228fa2b91a"
  },
  {
   "cell_type": "code",
   "execution_count": 19,
   "outputs": [],
   "source": [
    "input_dim = 28\n",
    "hidden_dim = 128\n",
    "layer_dim = 1\n",
    "output_dim = 10\n",
    "\n",
    "model = LSTMModel(input_dim, hidden_dim, layer_dim, output_dim)\n",
    "if torch.cuda.is_available():\n",
    "    model.cuda()\n",
    "criterion = nn.CrossEntropyLoss()\n",
    "learning_rate = 0.1\n",
    "optimizer = torch.optim.SGD(model.parameters(), lr=learning_rate)"
   ],
   "metadata": {
    "collapsed": false,
    "ExecuteTime": {
     "end_time": "2023-09-20T07:40:13.387399400Z",
     "start_time": "2023-09-20T07:40:13.315963100Z"
    }
   },
   "id": "3446b002b79efd1f"
  },
  {
   "cell_type": "markdown",
   "source": [
    "**모델 학습 및 성능 확인**"
   ],
   "metadata": {
    "collapsed": false
   },
   "id": "ff3b9b140fbac52b"
  },
  {
   "cell_type": "code",
   "execution_count": 20,
   "outputs": [],
   "source": [
    "seq_dim = 28"
   ],
   "metadata": {
    "collapsed": false,
    "ExecuteTime": {
     "end_time": "2023-09-20T07:40:13.401905400Z",
     "start_time": "2023-09-20T07:40:13.321192700Z"
    }
   },
   "id": "61e2bec458bc0f63"
  }
 ],
 "metadata": {
  "kernelspec": {
   "display_name": "Python 3",
   "language": "python",
   "name": "python3"
  },
  "language_info": {
   "codemirror_mode": {
    "name": "ipython",
    "version": 2
   },
   "file_extension": ".py",
   "mimetype": "text/x-python",
   "name": "python",
   "nbconvert_exporter": "python",
   "pygments_lexer": "ipython2",
   "version": "2.7.6"
  }
 },
 "nbformat": 4,
 "nbformat_minor": 5
}
