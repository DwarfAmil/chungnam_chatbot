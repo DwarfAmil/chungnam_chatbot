{
 "cells": [
  {
   "cell_type": "markdown",
   "source": [
    "**라이브러리 호출**"
   ],
   "metadata": {
    "collapsed": false
   },
   "id": "27fd90bbd4aadb0a"
  },
  {
   "cell_type": "code",
   "execution_count": 30,
   "id": "initial_id",
   "metadata": {
    "collapsed": true,
    "ExecuteTime": {
     "end_time": "2023-09-20T06:26:48.966536Z",
     "start_time": "2023-09-20T06:26:48.963526300Z"
    }
   },
   "outputs": [],
   "source": [
    "import torch\n",
    "import torchtext\n",
    "import numpy as np\n",
    "import torch.nn as nn\n",
    "import torch.nn.functional as F\n",
    "import time"
   ]
  },
  {
   "cell_type": "markdown",
   "source": [
    "**데이터 내려받기 및 전처리**"
   ],
   "metadata": {
    "collapsed": false
   },
   "id": "d3790f49b04198f7"
  },
  {
   "cell_type": "code",
   "execution_count": 31,
   "outputs": [],
   "source": [
    "start = time.time()\n",
    "TEXT = torchtext.data.Field(sequential=True, batch_first=True, lower=True)\n",
    "LABEL = torchtext.data.Field(sequential=False, batch_first=True)\n",
    "\n",
    "from torchtext import datasets\n",
    "train_data, test_data = datasets.IMDB.splits(TEXT, LABEL)\n",
    "train_data, valid_data = train_data.split(split_ratio=0.8)\n",
    "\n",
    "TEXT.build_vocab(train_data, max_size=10000, min_freq=10, vectors=None)\n",
    "LABEL.build_vocab(train_data)\n",
    "\n",
    "BATCH_SIZE = 100\n",
    "device = torch.device(\"cuda:0\" if torch.cuda.is_available() else \"cpu\")"
   ],
   "metadata": {
    "collapsed": false,
    "ExecuteTime": {
     "end_time": "2023-09-20T06:27:08.740541200Z",
     "start_time": "2023-09-20T06:27:00.774528Z"
    }
   },
   "id": "45c2c6c14ac91271"
  },
  {
   "cell_type": "markdown",
   "source": [
    "**데이터셋 분리**"
   ],
   "metadata": {
    "collapsed": false
   },
   "id": "fba82d0423a65c57"
  },
  {
   "cell_type": "code",
   "execution_count": 32,
   "outputs": [],
   "source": [
    "train_iterator, valid_iterator, test_iterator = torchtext.data.BucketIterator.splits(\n",
    "    (train_data, valid_data, test_data),\n",
    "    batch_size=BATCH_SIZE,\n",
    "    device=device\n",
    ")"
   ],
   "metadata": {
    "collapsed": false,
    "ExecuteTime": {
     "end_time": "2023-09-20T06:27:14.667553600Z",
     "start_time": "2023-09-20T06:27:14.665956100Z"
    }
   },
   "id": "f5e756547ae203c2"
  },
  {
   "cell_type": "markdown",
   "source": [
    "**변수 값 지정**"
   ],
   "metadata": {
    "collapsed": false
   },
   "id": "e800575e057a09c8"
  },
  {
   "cell_type": "code",
   "execution_count": 33,
   "outputs": [],
   "source": [
    "vocab_size = len(TEXT.vocab)\n",
    "n_classes = 2"
   ],
   "metadata": {
    "collapsed": false,
    "ExecuteTime": {
     "end_time": "2023-09-20T06:27:16.982318800Z",
     "start_time": "2023-09-20T06:27:16.979917300Z"
    }
   },
   "id": "dfb6c6f082174d4e"
  },
  {
   "cell_type": "markdown",
   "source": [
    "**RNN 계층 네트워크**"
   ],
   "metadata": {
    "collapsed": false
   },
   "id": "3a37bb06fb3951f0"
  },
  {
   "cell_type": "code",
   "execution_count": 34,
   "outputs": [],
   "source": [
    "class BasicRNN(nn.Module):\n",
    "    def __init__(self, n_layers, hidden_dim, n_vocab, embed_dim, n_classes, dropout_p=0.2):\n",
    "        super(BasicRNN, self).__init__()\n",
    "        self.n_layers = n_layers\n",
    "        self.embed = nn.Embedding(n_vocab, embed_dim)\n",
    "        self.hidden_dim = hidden_dim\n",
    "        self.dropout = nn.Dropout(dropout_p)\n",
    "        self.rnn = nn.RNN(embed_dim, self.hidden_dim, num_layers=self.n_layers, batch_first=True)\n",
    "        self.out = nn.Linear(self.hidden_dim, n_classes)\n",
    "        \n",
    "    def forward(self, x):\n",
    "        x = self.embed(x)\n",
    "        h_0 = self._init_state(batch_size=x.size(0))\n",
    "        x, _ = self.rnn(x, h_0)\n",
    "        h_t = x[:, -1, :]\n",
    "        self.dropout(h_t)\n",
    "        logit = torch.sigmoid(self.out(h_t))\n",
    "        \n",
    "        return logit\n",
    "    \n",
    "    def _init_state(self, batch_size=1):\n",
    "        weight = next(self.parameters()).data\n",
    "        \n",
    "        return weight.new(self.n_layers, batch_size, self.hidden_dim).zero_()"
   ],
   "metadata": {
    "collapsed": false,
    "ExecuteTime": {
     "end_time": "2023-09-20T06:27:19.267734Z",
     "start_time": "2023-09-20T06:27:19.267374700Z"
    }
   },
   "id": "73172e6bf357dc2f"
  },
  {
   "cell_type": "markdown",
   "source": [
    "**손실 함수와 옵티마이저 설정**"
   ],
   "metadata": {
    "collapsed": false
   },
   "id": "aeeb3c6f5be97fd4"
  },
  {
   "cell_type": "code",
   "execution_count": 35,
   "outputs": [],
   "source": [
    "model = BasicRNN(n_layers=1, hidden_dim=256, n_vocab=vocab_size, embed_dim=128, n_classes=n_classes, dropout_p=0.5)\n",
    "model.to(device)\n",
    "\n",
    "loss_fn = nn.CrossEntropyLoss()\n",
    "optimizer = torch.optim.Adam(model.parameters(), lr=0.0001)"
   ],
   "metadata": {
    "collapsed": false,
    "ExecuteTime": {
     "end_time": "2023-09-20T06:27:21.718221Z",
     "start_time": "2023-09-20T06:27:21.706255100Z"
    }
   },
   "id": "d09744da05d8e89"
  },
  {
   "cell_type": "markdown",
   "source": [
    "**모델 학습 함수**"
   ],
   "metadata": {
    "collapsed": false
   },
   "id": "e7c72202f9e4e242"
  },
  {
   "cell_type": "code",
   "execution_count": 36,
   "outputs": [],
   "source": [
    "def train(model, optimizer, train_iter):\n",
    "    model.train()\n",
    "    \n",
    "    for b, batch in enumerate(train_iter):\n",
    "        x, y = batch.text.to(device), batch.label.to(device)\n",
    "        y.data.sub_(1)\n",
    "        optimizer.zero_grad()\n",
    "        \n",
    "        logit = model(x)\n",
    "        loss = F.cross_entropy(logit, y)\n",
    "        loss.backward()\n",
    "        optimizer.step()\n",
    "        \n",
    "        if b % 50 == 0:\n",
    "            print(\"Train Epoch: {} [{}/{} ({:.0f}%)]\\tLoss: {:.6f}\".format(e, b * len(x), len(train_iter.dataset), len(train_iter.dataset), loss.item()))"
   ],
   "metadata": {
    "collapsed": false,
    "ExecuteTime": {
     "end_time": "2023-09-20T06:27:23.721401700Z",
     "start_time": "2023-09-20T06:27:23.716860800Z"
    }
   },
   "id": "b02ccef9852babb4"
  },
  {
   "cell_type": "markdown",
   "source": [
    "**모델 평가 함수**"
   ],
   "metadata": {
    "collapsed": false
   },
   "id": "65f7d584103ba144"
  },
  {
   "cell_type": "code",
   "execution_count": 37,
   "outputs": [],
   "source": [
    "def evaluate(model, val_iter):\n",
    "    model.eval()\n",
    "    corrects, total, total_loss = 0, 0, 0\n",
    "    \n",
    "    for batch in val_iter:\n",
    "        x, y = batch.text.to(device), batch.label.to(device)\n",
    "        y.data.sub_(1)\n",
    "        logit = model(x)\n",
    "        loss = F.cross_entropy(logit, y, reduction=\"sum\")\n",
    "        total += y.size(0)\n",
    "        total_loss += loss.item()\n",
    "        corrects += (logit.max(1)[1].view(y.size()).data == y.data).sum()\n",
    "        \n",
    "    avg_loss = total_loss / len(val_iter.dataset)\n",
    "    avg_accuracy = corrects / total\n",
    "    \n",
    "    return avg_loss, avg_accuracy"
   ],
   "metadata": {
    "collapsed": false,
    "ExecuteTime": {
     "end_time": "2023-09-20T06:27:27.212043Z",
     "start_time": "2023-09-20T06:27:27.197006100Z"
    }
   },
   "id": "f88804696b8c05cb"
  },
  {
   "cell_type": "markdown",
   "source": [
    "**모델 학습 및 평가**"
   ],
   "metadata": {
    "collapsed": false
   },
   "id": "528688324086d8eb"
  },
  {
   "cell_type": "code",
   "execution_count": 38,
   "outputs": [
    {
     "name": "stdout",
     "output_type": "stream",
     "text": [
      "Train Epoch: 1 [0/20000 (20000%)]\tLoss: 0.694260\n",
      "Train Epoch: 1 [5000/20000 (20000%)]\tLoss: 0.694091\n",
      "Train Epoch: 1 [10000/20000 (20000%)]\tLoss: 0.692998\n",
      "Train Epoch: 1 [15000/20000 (20000%)]\tLoss: 0.692912\n",
      "[EPOCH: 1], Validation Loss:  0.69 | Validation Accuracy:  0.51\n",
      "Train Epoch: 2 [0/20000 (20000%)]\tLoss: 0.694006\n",
      "Train Epoch: 2 [5000/20000 (20000%)]\tLoss: 0.692572\n",
      "Train Epoch: 2 [10000/20000 (20000%)]\tLoss: 0.690870\n",
      "Train Epoch: 2 [15000/20000 (20000%)]\tLoss: 0.692490\n",
      "[EPOCH: 2], Validation Loss:  0.69 | Validation Accuracy:  0.50\n",
      "Train Epoch: 3 [0/20000 (20000%)]\tLoss: 0.689816\n",
      "Train Epoch: 3 [5000/20000 (20000%)]\tLoss: 0.693152\n",
      "Train Epoch: 3 [10000/20000 (20000%)]\tLoss: 0.691749\n",
      "Train Epoch: 3 [15000/20000 (20000%)]\tLoss: 0.692793\n",
      "[EPOCH: 3], Validation Loss:  0.69 | Validation Accuracy:  0.51\n",
      "Train Epoch: 4 [0/20000 (20000%)]\tLoss: 0.692477\n",
      "Train Epoch: 4 [5000/20000 (20000%)]\tLoss: 0.694264\n",
      "Train Epoch: 4 [10000/20000 (20000%)]\tLoss: 0.692080\n",
      "Train Epoch: 4 [15000/20000 (20000%)]\tLoss: 0.697363\n",
      "[EPOCH: 4], Validation Loss:  0.69 | Validation Accuracy:  0.51\n",
      "Train Epoch: 5 [0/20000 (20000%)]\tLoss: 0.693940\n",
      "Train Epoch: 5 [5000/20000 (20000%)]\tLoss: 0.692691\n",
      "Train Epoch: 5 [10000/20000 (20000%)]\tLoss: 0.691914\n",
      "Train Epoch: 5 [15000/20000 (20000%)]\tLoss: 0.692450\n",
      "[EPOCH: 5], Validation Loss:  0.69 | Validation Accuracy:  0.50\n"
     ]
    }
   ],
   "source": [
    "BATCH_SIZE = 100\n",
    "LR = 0.001\n",
    "EPOCHS = 5\n",
    "\n",
    "for e in range(1, EPOCHS + 1):\n",
    "    train(model, optimizer, train_iterator)\n",
    "    val_loss, val_accuracy = evaluate(model, valid_iterator)\n",
    "    print(\"[EPOCH: %d], Validation Loss: %5.2f | Validation Accuracy: %5.2f\" % (e, val_loss, val_accuracy))"
   ],
   "metadata": {
    "collapsed": false,
    "ExecuteTime": {
     "end_time": "2023-09-20T06:43:24.589147900Z",
     "start_time": "2023-09-20T06:27:29.585948Z"
    }
   },
   "id": "3f5540e5be3c7b1"
  },
  {
   "cell_type": "markdown",
   "source": [
    "**테스트 데이터셋을 이용한 모델 예측**"
   ],
   "metadata": {
    "collapsed": false
   },
   "id": "298d4c076d3ec5d9"
  },
  {
   "cell_type": "code",
   "execution_count": 40,
   "outputs": [
    {
     "name": "stdout",
     "output_type": "stream",
     "text": [
      "Test Loss:  0.70 | Test Accuracy:  0.50\n"
     ]
    }
   ],
   "source": [
    "test_loss, test_acc = evaluate(model, test_iterator)\n",
    "print(\"Test Loss: %5.2f | Test Accuracy: %5.2f\" % (test_loss, test_acc))"
   ],
   "metadata": {
    "collapsed": false,
    "ExecuteTime": {
     "end_time": "2023-09-20T06:45:47.758485800Z",
     "start_time": "2023-09-20T06:45:27.721303400Z"
    }
   },
   "id": "9e1489da2c1862a8"
  }
 ],
 "metadata": {
  "kernelspec": {
   "display_name": "Python 3",
   "language": "python",
   "name": "python3"
  },
  "language_info": {
   "codemirror_mode": {
    "name": "ipython",
    "version": 2
   },
   "file_extension": ".py",
   "mimetype": "text/x-python",
   "name": "python",
   "nbconvert_exporter": "python",
   "pygments_lexer": "ipython2",
   "version": "2.7.6"
  }
 },
 "nbformat": 4,
 "nbformat_minor": 5
}
