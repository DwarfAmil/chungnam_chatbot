{
 "cells": [
  {
   "cell_type": "markdown",
   "source": [
    "**라이브러리 호출**"
   ],
   "metadata": {
    "collapsed": false
   },
   "id": "679f468825a1ca7a"
  },
  {
   "cell_type": "code",
   "execution_count": null,
   "id": "initial_id",
   "metadata": {
    "collapsed": true
   },
   "outputs": [],
   "source": [
    "import pandas as pd\n",
    "import torch\n",
    "import torch.nn as nn\n",
    "from torch.utils.data import Dataset, DataLoader\n",
    "\n",
    "from sklearn.model_selection import train_test_split\n",
    "from sklearn.preprocessing import StandardScaler, MinMaxScaler\n",
    "\n",
    "device = torch.device(\"cuda\" if torch.cuda.is_available() else \"cpu\")"
   ]
  },
  {
   "cell_type": "markdown",
   "source": [
    "**데이터셋 경로 지정 및 훈련과 테스트 용도로 분리**"
   ],
   "metadata": {
    "collapsed": false
   },
   "id": "bbad125fa17070df"
  },
  {
   "cell_type": "code",
   "execution_count": null,
   "outputs": [],
   "source": [
    "df = pd.read_csv(\"../pytorch/data/diabetes.csv\")\n",
    "x = df[df.columns[:-1]]\n",
    "y = df[\"Outcome\"]\n",
    "\n",
    "x = x.values\n",
    "y = torch.tensor(y.values)\n",
    "x_train, x_test, y_train, y_test = train_test_split(x, y, test_size=0.33)"
   ],
   "metadata": {
    "collapsed": false
   },
   "id": "ba48f8491e88d916"
  },
  {
   "cell_type": "markdown",
   "source": [
    "**훈련과 테스트용 데이터를 정규화**"
   ],
   "metadata": {
    "collapsed": false
   },
   "id": "bb80a52021bf4c3d"
  },
  {
   "cell_type": "code",
   "execution_count": null,
   "outputs": [],
   "source": [
    "ms = MinMaxScaler()\n",
    "ss = StandardScaler()\n",
    "\n",
    "x_train = ss.fit_transform(x_train)\n",
    "x_test = ss.fit_transform(x_test)\n",
    "y_train = y_train.reshape(-1, 1)\n",
    "y_test = y_test.reshape(-1, 1)\n",
    "y_train = ms.fit_transform(y_train)\n",
    "y_test = ms.fit_transform(y_test)"
   ],
   "metadata": {
    "collapsed": false
   },
   "id": "a52bd2f28198dccf"
  },
  {
   "cell_type": "markdown",
   "source": [
    "**커스텀 데이터셋 생성**"
   ],
   "metadata": {
    "collapsed": false
   },
   "id": "8e6f137a3d59062a"
  },
  {
   "cell_type": "code",
   "execution_count": null,
   "outputs": [],
   "source": [
    "class CustomDataset(Dataset):\n",
    "    def __init__(self, x, y):\n",
    "        self.x = x\n",
    "        self.y = y\n",
    "        self.len = len(self.x)\n",
    "    \n",
    "    def __getitem__(self, index):\n",
    "        return self.x[index], self.y[index]\n",
    "    \n",
    "    def __len__(self):\n",
    "        return self.len"
   ],
   "metadata": {
    "collapsed": false
   },
   "id": "fb0a6c8c426c836b"
  },
  {
   "cell_type": "markdown",
   "source": [
    "**데이터로더에 데이터 담기**"
   ],
   "metadata": {
    "collapsed": false
   },
   "id": "f0047cf561e11ef"
  },
  {
   "cell_type": "code",
   "execution_count": null,
   "outputs": [],
   "source": [
    "train_data = CustomDataset(torch.FloatTensor(x_train),\n",
    "                           torch.FloatTensor(y_train))\n",
    "test_data = CustomDataset(torch.FloatTensor(x_test),\n",
    "                          torch.FloatTensor(y_test))\n",
    "\n",
    "train_loader = DataLoader(dataset=train_data, batch_size=64, shuffle=True)\n",
    "test_loader = DataLoader(dataset=test_data, batch_size=64, shuffle=False)"
   ],
   "metadata": {
    "collapsed": false
   },
   "id": "a822326634d544c9"
  },
  {
   "cell_type": "markdown",
   "source": [
    "**네트워크 생성**"
   ],
   "metadata": {
    "collapsed": false
   },
   "id": "68cfb138146e23d4"
  },
  {
   "cell_type": "code",
   "execution_count": null,
   "outputs": [],
   "source": [
    "class BinaryClassification(nn.Module):\n",
    "    def __init__(self):\n",
    "        super(BinaryClassification, self).__init__()\n",
    "        self.layer_1 = nn.Linear(8, 64, bias=True)\n",
    "        self.layer_2 = nn.Linear(64, 64, bias=True)\n",
    "        self.layer_out = nn.Linear(64, 1, bias=True)\n",
    "        self.relu = nn.ReLU()\n",
    "        self.dropout = nn.Dropout(p=0.1)\n",
    "        self.batchnorm1 = nn.BatchNorm1d(64)\n",
    "        self.batchnorm2 = nn.BatchNorm1d(64)\n",
    "        \n",
    "    def forward(self, inputs):\n",
    "        x = self.relu(self.layer_1(inputs))\n",
    "        x = self.batchnorm1(x)\n",
    "        x = self.relu(self.layer_2(x))\n",
    "        x = self.batchnorm2(x)\n",
    "        x = self.dropout(x)\n",
    "        x = self.layer_out(x)\n",
    "        return x"
   ],
   "metadata": {
    "collapsed": false
   },
   "id": "914453131e003e05"
  },
  {
   "cell_type": "code",
   "execution_count": null,
   "outputs": [],
   "source": [
    "epochs = 1000 + 1\n",
    "print_epoch = 100"
   ],
   "metadata": {
    "collapsed": false
   },
   "id": "7a1a9c96cd1765b3"
  }
 ],
 "metadata": {
  "kernelspec": {
   "display_name": "Python 3",
   "language": "python",
   "name": "python3"
  },
  "language_info": {
   "codemirror_mode": {
    "name": "ipython",
    "version": 2
   },
   "file_extension": ".py",
   "mimetype": "text/x-python",
   "name": "python",
   "nbconvert_exporter": "python",
   "pygments_lexer": "ipython2",
   "version": "2.7.6"
  }
 },
 "nbformat": 4,
 "nbformat_minor": 5
}
